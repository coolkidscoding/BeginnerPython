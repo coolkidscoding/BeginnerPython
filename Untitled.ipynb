{
 "cells": [
  {
   "cell_type": "code",
   "execution_count": 1,
   "metadata": {},
   "outputs": [],
   "source": [
    "import turtle"
   ]
  },
  {
   "cell_type": "code",
   "execution_count": 2,
   "metadata": {},
   "outputs": [
    {
     "ename": "NameError",
     "evalue": "name 'Turtle' is not defined",
     "output_type": "error",
     "traceback": [
      "\u001b[1;31m---------------------------------------------------------------------------\u001b[0m",
      "\u001b[1;31mNameError\u001b[0m                                 Traceback (most recent call last)",
      "\u001b[1;32m<ipython-input-2-d7d07b8bfc34>\u001b[0m in \u001b[0;36m<module>\u001b[1;34m()\u001b[0m\n\u001b[1;32m----> 1\u001b[1;33m \u001b[0mt\u001b[0m \u001b[1;33m=\u001b[0m \u001b[0mTurtle\u001b[0m\u001b[1;33m(\u001b[0m\u001b[1;33m)\u001b[0m\u001b[1;33m\u001b[0m\u001b[0m\n\u001b[0m",
      "\u001b[1;31mNameError\u001b[0m: name 'Turtle' is not defined"
     ]
    }
   ],
   "source": [
    "t = Turtle()\n"
   ]
  },
  {
   "cell_type": "code",
   "execution_count": 3,
   "metadata": {},
   "outputs": [
    {
     "ename": "ModuleNotFoundError",
     "evalue": "No module named 'calysto'",
     "output_type": "error",
     "traceback": [
      "\u001b[1;31m---------------------------------------------------------------------------\u001b[0m",
      "\u001b[1;31mModuleNotFoundError\u001b[0m                       Traceback (most recent call last)",
      "\u001b[1;32m<ipython-input-3-d3e685fa2796>\u001b[0m in \u001b[0;36m<module>\u001b[1;34m()\u001b[0m\n\u001b[1;32m----> 1\u001b[1;33m \u001b[1;32mfrom\u001b[0m \u001b[0mcalysto\u001b[0m\u001b[1;33m.\u001b[0m\u001b[0mgraphics\u001b[0m \u001b[1;32mimport\u001b[0m \u001b[1;33m*\u001b[0m\u001b[1;33m\u001b[0m\u001b[0m\n\u001b[0m\u001b[0;32m      2\u001b[0m \u001b[1;32mfrom\u001b[0m \u001b[0mcalysto\u001b[0m\u001b[1;33m.\u001b[0m\u001b[0mdisplay\u001b[0m \u001b[1;32mimport\u001b[0m \u001b[0mdisplay\u001b[0m\u001b[1;33m,\u001b[0m \u001b[0mclear_output\u001b[0m\u001b[1;33m\u001b[0m\u001b[0m\n\u001b[0;32m      3\u001b[0m \u001b[1;32mimport\u001b[0m \u001b[0mtime\u001b[0m\u001b[1;33m\u001b[0m\u001b[0m\n\u001b[0;32m      4\u001b[0m \u001b[1;32mimport\u001b[0m \u001b[0mmath\u001b[0m\u001b[1;33m\u001b[0m\u001b[0m\n",
      "\u001b[1;31mModuleNotFoundError\u001b[0m: No module named 'calysto'"
     ]
    }
   ],
   "source": [
    "from calysto.graphics import *\n",
    "from calysto.display import display, clear_output\n",
    "import time\n",
    "import math"
   ]
  },
  {
   "cell_type": "code",
   "execution_count": 3,
   "metadata": {},
   "outputs": [],
   "source": [
    "import sys\n",
    "import turtle\n",
    "\n",
    "def border(t, screen_x, screen_y):\n",
    "    \"\"\"(Turtle, int, int)\n",
    "\n",
    "    Draws a border around the canvas in red.\n",
    "    \"\"\"\n",
    "    # Lift the pen and move the turtle to the center.\n",
    "    t.penup()\n",
    "    t.home()\n",
    "\n",
    "    # Move to lower left corner of the screen; leaves the turtle\n",
    "    # facing west.\n",
    "    t.forward(screen_x / 2)\n",
    "    t.right(90)\n",
    "    t.forward(screen_y / 2)\n",
    "    t.setheading(180)           # t.right(90) would also work.\n",
    "    \n",
    "    # Draw the border\n",
    "    t.pencolor('red')\n",
    "    t.pendown()\n",
    "    t.pensize(10)\n",
    "    for distance in (screen_x, screen_y, screen_x, screen_y):\n",
    "        t.forward(distance)\n",
    "        t.right(90)\n",
    "\n",
    "    # Raise the pen and move the turtle home again; it's a good idea\n",
    "    # to leave the turtle in a known state.\n",
    "    t.penup()\n",
    "    t.home()\n",
    "\n",
    "def square(t, size, color):\n",
    "    \"\"\"(Turtle, int, str)\n",
    "\n",
    "    Draw a square of the chosen colour and size.\n",
    "    \"\"\"\n",
    "    t.pencolor(color)\n",
    "    t.pendown()\n",
    "    for i in range(4):\n",
    "        t.forward(size)\n",
    "        t.right(90)\n",
    "\n",
    "def main():\n",
    "    # Create screen and turtle.\n",
    "    screen = turtle.Screen()\n",
    "    screen.title('Square Demo')\n",
    "    screen_x, screen_y = screen.screensize()\n",
    "    t = turtle.Turtle()\n",
    "\n",
    "    # Uncomment to draw the graphics as quickly as possible.\n",
    "    ##t.speed(0)\n",
    "\n",
    "    # Draw a border around the canvas\n",
    "    border(t, screen_x, screen_y)\n",
    "\n",
    "    # Draw a set of nested squares, varying the color.\n",
    "    # The squares are 10%, 20%, etc. of half the size of the canvas.\n",
    "    colors = ['red', 'orange', 'yellow', 'green', 'blue', 'violet']\n",
    "    t.pensize(3)\n",
    "    for i, color in enumerate(colors):\n",
    "        square(t, (screen_y / 2) / 10 * (i+1), color)\n",
    "\n",
    "    print('Hit any key to exit')\n",
    "    dummy = input()\n",
    "    \n",
    "    turtle.done()"
   ]
  },
  {
   "cell_type": "code",
   "execution_count": 4,
   "metadata": {
    "scrolled": false
   },
   "outputs": [
    {
     "name": "stdout",
     "output_type": "stream",
     "text": [
      "Hit any key to exit\n",
      "\n"
     ]
    }
   ],
   "source": [
    "main()"
   ]
  },
  {
   "cell_type": "code",
   "execution_count": null,
   "metadata": {},
   "outputs": [],
   "source": []
  }
 ],
 "metadata": {
  "kernelspec": {
   "display_name": "Python [conda env:Anaconda3_64]",
   "language": "python",
   "name": "conda-env-Anaconda3_64-py"
  },
  "language_info": {
   "codemirror_mode": {
    "name": "ipython",
    "version": 3
   },
   "file_extension": ".py",
   "mimetype": "text/x-python",
   "name": "python",
   "nbconvert_exporter": "python",
   "pygments_lexer": "ipython3",
   "version": "3.6.5"
  }
 },
 "nbformat": 4,
 "nbformat_minor": 2
}
