{
 "cells": [
  {
   "cell_type": "markdown",
   "metadata": {},
   "source": [
    "## [Cool Kids Coding School](http://www.coolkidscodingschool.com)  \n",
    "\n",
    "##### _Introductory Python_  \n",
    "###### Lesson 9: Functions and Packages Homework\n",
    "---"
   ]
  },
  {
   "cell_type": "markdown",
   "metadata": {},
   "source": [
    "#### Build a Magic 8 Ball Program.\n",
    "\n",
    "Follow the instructions below:"
   ]
  },
  {
   "cell_type": "code",
   "execution_count": null,
   "metadata": {},
   "outputs": [],
   "source": [
    "# In this homework you are going to build a Magic 8 Ball program\n",
    "# Below are the steps to follow in order to put this program together\n",
    "\n",
    "# A Magic 8 Ball is a toy where you ask it a question and it gives you back a random response\n",
    "\n",
    "# Create a list with 8 responses that you think would be funny or clever, try to be ambiguous so the \n",
    "# answer could be applied to any question.\n",
    "\n",
    "# Create a function that rolls a dice and returns a number from 0 to 7\n",
    "\n",
    "# Create a user input where you can enter a question to the 8 Ball\n",
    "\n",
    "# Once you enter a question you should pick a number and then return the response from your list\n"
   ]
  },
  {
   "cell_type": "markdown",
   "metadata": {},
   "source": [
    "## Any Questions?\n",
    "---\n",
    "###### for any questions contact <jimmy@coolkidscodingschool.com>"
   ]
  }
 ],
 "metadata": {
  "kernelspec": {
   "display_name": "Python 3",
   "language": "python",
   "name": "python3"
  },
  "language_info": {
   "codemirror_mode": {
    "name": "ipython",
    "version": 3
   },
   "file_extension": ".py",
   "mimetype": "text/x-python",
   "name": "python",
   "nbconvert_exporter": "python",
   "pygments_lexer": "ipython3",
   "version": "3.6.4"
  }
 },
 "nbformat": 4,
 "nbformat_minor": 2
}
