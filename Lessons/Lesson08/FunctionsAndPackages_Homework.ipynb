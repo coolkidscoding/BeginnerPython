{
 "cells": [
  {
   "cell_type": "markdown",
   "metadata": {},
   "source": [
    "## [Cool Kids Coding School](http://www.coolkidscodingschool.com)  \n",
    "\n",
    "##### _Introductory Python_  \n",
    "###### Lesson 8: Functions and Packages Homework\n",
    "\n",
    "\n",
    "---"
   ]
  },
  {
   "cell_type": "markdown",
   "metadata": {},
   "source": [
    "#### Exercise 1.\n",
    "\n",
    "Follow the instructions below:"
   ]
  },
  {
   "cell_type": "code",
   "execution_count": null,
   "metadata": {},
   "outputs": [],
   "source": [
    "# Create a function called FunctionTimes that takes an integer as an argument and returns the same integer\n",
    "\n",
    "# Create a function called FunctionTimes2 that takes an integer as an argument and returns the double of that integer\n",
    "\n",
    "# Create a function called FunctionTimes3 that takes an integer as an argument and returns the triple of that integer\n",
    "\n",
    "# The code below will call your functions based on a user input\n",
    "\n",
    "user_input = input('Enter a number from 1 to 3: ')\n",
    "print('User entered a ', user_input)\n",
    "\n",
    "# Create an if statement that will \n",
    "\n",
    "# call functiontimes1 is the user enters 1\n",
    "\n",
    "# call functiontimes2 is the user enters 2\n",
    "\n",
    "# call functiontimes3 is the user enters 3\n",
    "\n",
    "# otherwise the function returns 'Sorry not valid'\n"
   ]
  },
  {
   "cell_type": "markdown",
   "metadata": {},
   "source": [
    "## Any Questions?\n",
    "---\n",
    "###### for any questions contact <jimmy@coolkidscodingschool.com>"
   ]
  }
 ],
 "metadata": {
  "kernelspec": {
   "display_name": "Python 3",
   "language": "python",
   "name": "python3"
  },
  "language_info": {
   "codemirror_mode": {
    "name": "ipython",
    "version": 3
   },
   "file_extension": ".py",
   "mimetype": "text/x-python",
   "name": "python",
   "nbconvert_exporter": "python",
   "pygments_lexer": "ipython3",
   "version": "3.6.4"
  }
 },
 "nbformat": 4,
 "nbformat_minor": 2
}
