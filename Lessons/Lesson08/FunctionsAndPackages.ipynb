{
 "cells": [
  {
   "cell_type": "markdown",
   "metadata": {},
   "source": [
    "## [Cool Kids Coding School](http://www.coolkidscodingschool.com)  \n",
    "\n",
    "##### _Introductory Python_  \n",
    "###### Lesson 8: Functions and Packages\n",
    "\n",
    "\n",
    "---"
   ]
  },
  {
   "cell_type": "markdown",
   "metadata": {},
   "source": [
    "### Overview\n",
    "- Welcome!\n",
    "- Go over syllabus objectives for today\n",
    "- Key points from last lesson\n",
    "- What are functions?  How do we use them?\n",
    "- What are packages?  Why do we need them?\n",
    "- Review homework"
   ]
  },
  {
   "cell_type": "markdown",
   "metadata": {},
   "source": [
    "### Key points from last lesson\n",
    "+ We reviewed two types of loops _for_ and _while_\n",
    "+ We discussed how to create a while loop\n",
    "+ We discussed how to create a for loop\n",
    "+ We discussed how to setup a conditional"
   ]
  },
  {
   "cell_type": "markdown",
   "metadata": {},
   "source": [
    "### What is a funtion?\n",
    "A function is a mathematical concept that Computer Science borrowed and adopted.  \n",
    "\n",
    "In mathematics:\n",
    "\n",
    "A function is a process or a relation that associates each element x of a set X, the domain of the function, to a single element y of another set Y (possibly the same set), the codomain of the function. If the function is called f, this relation is denoted y = f (x) (read f of x), the element x is the argument or input of the function, and y is the value of the function, the output, or the image of x by f.\n",
    "\n",
    "Graphically it is this:\n",
    "\n",
    "![function](./images/function.png \"Function\")"
   ]
  },
  {
   "cell_type": "markdown",
   "metadata": {},
   "source": [
    "\n",
    "We have seen several functions so far.  Can you recall them?\n",
    "+ print\n",
    "+ type\n",
    "+ len\n",
    "\n",
    "Are all functions.  These are global functions because they are not associated with any specific type of data structure.\n",
    "\n",
    "Also we have seen functions associated with specific objects.  Do you recall?\n",
    "+ lists\n",
    "    + append\n",
    "    + extend\n",
    "+ set\n",
    "    + add\n",
    "\n",
    "In computer science, functions are represented as pieces of code that can be executed or called, either with or without an argument, and they may or may not return a value.  The function is defined by a set of keywords and code that describes the task.\n",
    "\n",
    "```python\n",
    "def ThisIsAFunction(argumentname_):\n",
    "    \n",
    "    This is where the code goes\n",
    "    This is where the code goes\n",
    "    This is where the code goes\n",
    "    \n",
    "    return output\n",
    "```\n",
    "\n",
    "### Why do we need functions?\n",
    "\n",
    "In Python a function is nothing more than a reusable piece of code that performs a task.  The task can be as trivial as doing nothing or as complicated as calculating results from multiple inputs.  "
   ]
  },
  {
   "cell_type": "code",
   "execution_count": null,
   "metadata": {
    "scrolled": true
   },
   "outputs": [],
   "source": [
    "# this is an example of a function that takes an number as an input/argument and returns it's double\n",
    "\n",
    "def DoubleUp(input_):\n",
    "    return input_ * 2\n",
    "\n",
    "example_list = [3,6,2,7,12]\n",
    "for var in example_list:\n",
    "    result = DoubleUp(var)\n",
    "    print('Called a function with input ', var, ' and output ', result)\n"
   ]
  },
  {
   "cell_type": "markdown",
   "metadata": {},
   "source": [
    "A function can have no inputs or many inputs.  Also a function can call a function which can call a function, etc"
   ]
  },
  {
   "cell_type": "code",
   "execution_count": null,
   "metadata": {
    "scrolled": true
   },
   "outputs": [],
   "source": [
    "# Define a bunch of functions that take no input and return no output, but they do print a message when called\n",
    "def Function1():\n",
    "    print('In Function1')\n",
    "    \n",
    "    # call function2\n",
    "    print('Calling Function2')\n",
    "    Function2()\n",
    "    \n",
    "    return None\n",
    "\n",
    "def Function2():\n",
    "    print('In Function2')\n",
    "    \n",
    "    # call function3\n",
    "    print('Calling Function3')\n",
    "    Function3()\n",
    "    \n",
    "    return None\n",
    "\n",
    "def Function3():\n",
    "    print('In Function3')\n",
    "    \n",
    "    print('Calling nothing')\n",
    "    return None\n",
    "\n",
    "# call Function1\n",
    "Function1()\n"
   ]
  },
  {
   "cell_type": "markdown",
   "metadata": {},
   "source": [
    "Most code in any professional or serious project consists of functions.  You want to create functions so you can isolate functionality and call it from many different places.  You don't want to duplicate code as much as possible."
   ]
  },
  {
   "cell_type": "markdown",
   "metadata": {},
   "source": [
    "Thats all there is to functions.  Any questions?"
   ]
  },
  {
   "cell_type": "markdown",
   "metadata": {},
   "source": [
    "### What is a package?"
   ]
  },
  {
   "cell_type": "markdown",
   "metadata": {},
   "source": [
    "A package (aka as library, aka module) is a collection of functions that are logically related, organized and packaged into a unit.  It is reusable code that has already created a solution to specific problems that you can use.\n",
    "\n",
    "We have seen some packages already.  Do you recall?\n",
    "\n",
    "Remember \n",
    "\n",
    "```python\n",
    "import random\n",
    "import datetime\n",
    "```\n",
    "what we are doing here is, when we import the **random** package we are making the functions related to random number generation available in the code we are writing.  A similar thing is happening when we import **datetime**, but in that case we are importing the definition of dates and time.\n",
    "\n",
    "There are thousands of packages available and new ones are created every day.  We can even create our own packages.\n",
    "You can search for packages at:\n",
    "\n",
    "https://pypi.org/\n",
    "\n",
    "There are packages for graphics, there are packages for numerical computations, there are packages for artificial intelligence, etc.  \n",
    "\n",
    "You can find the functions available in a package by using the **dir()** function."
   ]
  },
  {
   "cell_type": "code",
   "execution_count": null,
   "metadata": {
    "scrolled": true
   },
   "outputs": [],
   "source": [
    "# import a package and view the functions in it\n",
    "import random\n",
    "\n",
    "dir(random)"
   ]
  },
  {
   "cell_type": "code",
   "execution_count": null,
   "metadata": {
    "scrolled": true
   },
   "outputs": [],
   "source": [
    "# You can find out more about a specific function by using the help utility\n",
    "help(random.seed)\n"
   ]
  },
  {
   "cell_type": "markdown",
   "metadata": {},
   "source": [
    "### Package examples\n",
    "Here are some examples of some more interesting and useful packages."
   ]
  },
  {
   "cell_type": "markdown",
   "metadata": {},
   "source": [
    "####  _matplotlib_ is a graphing package that you can use to graph all kinds of functions.  This could be very useful in your math classes."
   ]
  },
  {
   "cell_type": "code",
   "execution_count": null,
   "metadata": {},
   "outputs": [],
   "source": [
    "# import the matplotlib library\n",
    "%matplotlib inline \n",
    "import math\n",
    "import matplotlib.pyplot as plt\n",
    "\n",
    "# create a vertical and horizontal list of values\n",
    "x_axis = [x for x in range(-10,10)]\n",
    "y_axis = [x * x for x in x_axis]\n",
    "\n",
    "# graph it\n",
    "plt.plot(x_axis, y_axis)\n",
    "plt.scatter(x_axis, y_axis)\n",
    "plt.show()"
   ]
  },
  {
   "cell_type": "markdown",
   "metadata": {},
   "source": [
    "#### The **csv** package allows you to load data from a file into a python data structure.  In this example I am loading a subset of the last season NBA player stats into a dictionary."
   ]
  },
  {
   "cell_type": "code",
   "execution_count": null,
   "metadata": {},
   "outputs": [],
   "source": [
    "import csv\n",
    "\n",
    "with open('./images/nba.csv', 'r') as csvfile:\n",
    "    nbareader = csv.DictReader(csvfile, delimiter=',', quotechar='\"')\n",
    "    for row in nbareader:\n",
    "        print(row['FULL NAME'], row['TEAM'], row['PPG'])"
   ]
  },
  {
   "cell_type": "markdown",
   "metadata": {},
   "source": [
    "#### The requests package allows you to get data from the internet.  In this case I am reading data from espn.com"
   ]
  },
  {
   "cell_type": "code",
   "execution_count": null,
   "metadata": {},
   "outputs": [],
   "source": [
    "import requests as req\n",
    "import re\n",
    "\n",
    "resp = req.get(\"http://www.espn.com\")\n",
    "\n",
    "content = resp.text\n",
    "\n",
    "stripped = re.sub('<[^<]+?>', '', content)\n",
    "print(stripped)"
   ]
  },
  {
   "cell_type": "markdown",
   "metadata": {},
   "source": [
    "#### Here is another example of getting data from the Internet using _BeautifulSoup_.  In this example we get weather data."
   ]
  },
  {
   "cell_type": "code",
   "execution_count": null,
   "metadata": {},
   "outputs": [],
   "source": [
    "from bs4 import BeautifulSoup\n",
    "import requests\n",
    "\n",
    "page = requests.get(\"https://forecast.weather.gov/MapClick.php?lat=40.7146&lon=-74.0071\")\n",
    "soup = BeautifulSoup(page.content, 'html.parser')\n",
    "seven_day = soup.find(id=\"seven-day-forecast\")\n",
    "forecast_items = seven_day.find_all(class_=\"tombstone-container\")\n",
    "tonight = forecast_items[0]\n",
    "\n",
    "print(tonight.prettify())\n"
   ]
  },
  {
   "cell_type": "markdown",
   "metadata": {},
   "source": [
    "## Any Questions?\n",
    "---\n",
    "###### for any questions contact <jimmy@coolkidscodingschool.com>"
   ]
  },
  {
   "cell_type": "code",
   "execution_count": null,
   "metadata": {},
   "outputs": [],
   "source": []
  }
 ],
 "metadata": {
  "kernelspec": {
   "display_name": "Python 3",
   "language": "python",
   "name": "python3"
  },
  "language_info": {
   "codemirror_mode": {
    "name": "ipython",
    "version": 3
   },
   "file_extension": ".py",
   "mimetype": "text/x-python",
   "name": "python",
   "nbconvert_exporter": "python",
   "pygments_lexer": "ipython3",
   "version": "3.6.4"
  }
 },
 "nbformat": 4,
 "nbformat_minor": 2
}
