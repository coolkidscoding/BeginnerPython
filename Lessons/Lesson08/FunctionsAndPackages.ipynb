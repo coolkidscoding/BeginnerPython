{
 "cells": [
  {
   "cell_type": "markdown",
   "metadata": {},
   "source": [
    "## [Cool Kids Coding School](http://www.coolkidscodingschool.com)  \n",
    "\n",
    "##### _Introductory Python_  \n",
    "###### Lesson 8: Functions and Packages\n",
    "\n",
    "\n",
    "---"
   ]
  },
  {
   "cell_type": "markdown",
   "metadata": {},
   "source": [
    "### Overview\n",
    "- Welcome!\n",
    "- Go over syllabus objectives for today\n",
    "- Key points from last lesson\n",
    "- What are functions?  How do we use them?\n",
    "- What are packages?  Why do we need them?\n",
    "- Review homework"
   ]
  },
  {
   "cell_type": "markdown",
   "metadata": {},
   "source": [
    "### Key points from last lesson\n",
    "+ We reviewed two types of loops _for_ and _while_\n",
    "+ We discussed how to create a while loop\n",
    "+ We discussed how to create a for loop\n",
    "+ We discussed how to setup a conditional"
   ]
  },
  {
   "cell_type": "markdown",
   "metadata": {},
   "source": [
    "### What is a funtion?\n",
    "A function is a mathematical concept that Computer Science borrowed and adopted.  \n",
    "Computers are great at managing large amounts of data.  They are also great at doing the same thing over and over again - without getting bored.  In mathematics:\n",
    "A function is a process or a relation that associates each element x of a set X, the domain of the function, to a single element y of another set Y (possibly the same set), the codomain of the function. If the function is called f, this relation is denoted y = f (x) (read f of x), the element x is the argument or input of the function, and y is the value of the function, the output, or the image of x by f.[2] The symbol that is used for representing the input is the variable of the function (one often says that f is a function of the variable x). \n",
    "\n",
    "Graphically it is this:\n",
    "![function](./images/function.png \"Function\")"
   ]
  },
  {
   "cell_type": "markdown",
   "metadata": {},
   "source": [
    "\n",
    "We have seen several functions so far.  Can you recall them?\n",
    "+ print\n",
    "+ type\n",
    "+ len\n",
    "\n",
    "Are all functions.  Also we have seen functions associated with specific objects.  Do you recall?\n",
    "+ lists\n",
    "    + append\n",
    "    + extend\n",
    "+ set\n",
    "    + add\n",
    "\n",
    "In computer science, functions are represented as pieces of code that can be executed or called, either with or without an argument, and they may or may not return a value.  The function is defined by a set of keywords and code that describes the task.\n",
    "\n",
    "```python\n",
    "def ThisIsAFunction(argumentname_):\n",
    "    This is where the code goes\n",
    "    \n",
    "    return output\n",
    "```\n",
    "\n",
    "### Why do we need functions?\n",
    "\n",
    "In Python a function is nothing more than a reusable piece of code that performs a task.  The task can be as trivial as printing a message or as complicated as calculating results from multiple inputs.  "
   ]
  },
  {
   "cell_type": "code",
   "execution_count": 8,
   "metadata": {
    "scrolled": true
   },
   "outputs": [
    {
     "name": "stdout",
     "output_type": "stream",
     "text": [
      "Called a function with input  3  and output  6\n",
      "Called a function with input  6  and output  12\n",
      "Called a function with input  2  and output  4\n",
      "Called a function with input  7  and output  14\n",
      "Called a function with input  12  and output  24\n"
     ]
    }
   ],
   "source": [
    "# this is an example of a function that takes an number as an input/argument and returns it's double\n",
    "\n",
    "def DoubleUp(input_):\n",
    "    return input_ * 2\n",
    "\n",
    "example_list = [3,6,2,7,12]\n",
    "for var in example_list:\n",
    "    result = DoubleUp(var)\n",
    "    print('Called a function with input ', var, ' and output ', result)\n"
   ]
  },
  {
   "cell_type": "markdown",
   "metadata": {},
   "source": [
    "A function can also call a function which can call a function, etc"
   ]
  },
  {
   "cell_type": "code",
   "execution_count": 9,
   "metadata": {
    "scrolled": true
   },
   "outputs": [
    {
     "name": "stdout",
     "output_type": "stream",
     "text": [
      "In Function1\n",
      "Calling Function2\n",
      "In Function2\n",
      "Calling Function3\n",
      "In Function3\n",
      "Calling nothing\n"
     ]
    }
   ],
   "source": [
    "# Define a bunch of functions that take no input and return no output, but they do print a message when called\n",
    "def Function1():\n",
    "    print('In Function1')\n",
    "    \n",
    "    # call function2\n",
    "    print('Calling Function2')\n",
    "    Function2()\n",
    "    \n",
    "    return None\n",
    "\n",
    "def Function2():\n",
    "    print('In Function2')\n",
    "    \n",
    "    # call function3\n",
    "    print('Calling Function3')\n",
    "    Function3()\n",
    "    \n",
    "    return None\n",
    "\n",
    "def Function3():\n",
    "    print('In Function3')\n",
    "    \n",
    "    print('Calling nothing')\n",
    "    return None\n",
    "\n",
    "# call Function1\n",
    "Function1()\n"
   ]
  },
  {
   "cell_type": "markdown",
   "metadata": {},
   "source": [
    "Most code in any professional or serious project consists of functions.  You want to create functions so you can isolate functionality and call it from many different places."
   ]
  },
  {
   "cell_type": "markdown",
   "metadata": {},
   "source": [
    "Thats all there is to functions.  Any questions?"
   ]
  },
  {
   "cell_type": "markdown",
   "metadata": {},
   "source": [
    "### What is a package?"
   ]
  },
  {
   "cell_type": "markdown",
   "metadata": {},
   "source": [
    "A package (aka as library) is a collection of functions that are logically related and packaged into a unit.  It is reusable code that has already created a solution to specific problems that you can reuse.\n",
    "\n",
    "We have seen some packages already.  Do you recall?\n",
    "\n",
    "Remember \n",
    "\n",
    "```python\n",
    "import random\n",
    "import datetime\n",
    "```\n",
    "what we are doing here is, when we import the **random** package we are making the functions related to random number generation available in the code we are writing.  A similar thing is happening when we import **datetime**, but in that case we are importing the definition of dates and time.\n",
    "\n",
    "There are thousands of packages available and new ones are created every day.  We can even create our own packages.\n",
    "You can search for packages at:\n",
    "\n",
    "https://pypi.org/\n",
    "\n",
    "There are packages for graphics, there are packages for numerical computations, there are packages for artificial intelligence, etc.  \n",
    "\n",
    "You can find the functions available in a package by using the **dir()** function."
   ]
  },
  {
   "cell_type": "code",
   "execution_count": 10,
   "metadata": {
    "scrolled": true
   },
   "outputs": [
    {
     "data": {
      "text/plain": [
       "['BPF',\n",
       " 'LOG4',\n",
       " 'NV_MAGICCONST',\n",
       " 'RECIP_BPF',\n",
       " 'Random',\n",
       " 'SG_MAGICCONST',\n",
       " 'SystemRandom',\n",
       " 'TWOPI',\n",
       " '_BuiltinMethodType',\n",
       " '_MethodType',\n",
       " '_Sequence',\n",
       " '_Set',\n",
       " '__all__',\n",
       " '__builtins__',\n",
       " '__cached__',\n",
       " '__doc__',\n",
       " '__file__',\n",
       " '__loader__',\n",
       " '__name__',\n",
       " '__package__',\n",
       " '__spec__',\n",
       " '_acos',\n",
       " '_bisect',\n",
       " '_ceil',\n",
       " '_cos',\n",
       " '_e',\n",
       " '_exp',\n",
       " '_inst',\n",
       " '_itertools',\n",
       " '_log',\n",
       " '_pi',\n",
       " '_random',\n",
       " '_sha512',\n",
       " '_sin',\n",
       " '_sqrt',\n",
       " '_test',\n",
       " '_test_generator',\n",
       " '_urandom',\n",
       " '_warn',\n",
       " 'betavariate',\n",
       " 'choice',\n",
       " 'choices',\n",
       " 'expovariate',\n",
       " 'gammavariate',\n",
       " 'gauss',\n",
       " 'getrandbits',\n",
       " 'getstate',\n",
       " 'lognormvariate',\n",
       " 'normalvariate',\n",
       " 'paretovariate',\n",
       " 'randint',\n",
       " 'random',\n",
       " 'randrange',\n",
       " 'sample',\n",
       " 'seed',\n",
       " 'setstate',\n",
       " 'shuffle',\n",
       " 'triangular',\n",
       " 'uniform',\n",
       " 'vonmisesvariate',\n",
       " 'weibullvariate']"
      ]
     },
     "execution_count": 10,
     "metadata": {},
     "output_type": "execute_result"
    }
   ],
   "source": [
    "# import a package and view the functions in it\n",
    "import random\n",
    "\n",
    "dir(random)"
   ]
  },
  {
   "cell_type": "code",
   "execution_count": 11,
   "metadata": {
    "scrolled": true
   },
   "outputs": [
    {
     "name": "stdout",
     "output_type": "stream",
     "text": [
      "Help on method seed in module random:\n",
      "\n",
      "seed(a=None, version=2) method of random.Random instance\n",
      "    Initialize internal state from hashable object.\n",
      "    \n",
      "    None or no argument seeds from current time or from an operating\n",
      "    system specific randomness source if available.\n",
      "    \n",
      "    If *a* is an int, all bits are used.\n",
      "    \n",
      "    For version 2 (the default), all of the bits are used if *a* is a str,\n",
      "    bytes, or bytearray.  For version 1 (provided for reproducing random\n",
      "    sequences from older versions of Python), the algorithm for str and\n",
      "    bytes generates a narrower range of seeds.\n",
      "\n"
     ]
    }
   ],
   "source": [
    "# You can find out more about a specific function by using the help utility\n",
    "help(random.seed)\n"
   ]
  },
  {
   "cell_type": "markdown",
   "metadata": {},
   "source": [
    "## Any Questions?\n",
    "---\n",
    "###### for any questions contact <jimmy@coolkidscodingschool.com>"
   ]
  },
  {
   "cell_type": "code",
   "execution_count": null,
   "metadata": {},
   "outputs": [],
   "source": []
  }
 ],
 "metadata": {
  "kernelspec": {
   "display_name": "Python 3",
   "language": "python",
   "name": "python3"
  },
  "language_info": {
   "codemirror_mode": {
    "name": "ipython",
    "version": 3
   },
   "file_extension": ".py",
   "mimetype": "text/x-python",
   "name": "python",
   "nbconvert_exporter": "python",
   "pygments_lexer": "ipython3",
   "version": "3.6.4"
  }
 },
 "nbformat": 4,
 "nbformat_minor": 2
}
