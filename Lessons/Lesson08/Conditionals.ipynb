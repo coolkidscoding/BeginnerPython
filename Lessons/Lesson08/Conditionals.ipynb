{
 "cells": [
  {
   "cell_type": "markdown",
   "metadata": {},
   "source": [
    "![](images/ckcslogo.png)\n",
    "---\n",
    "## [Cool Kids Coding School](http://www.coolkidscodingschool.com)  \n",
    "\n",
    "##### _Introductory Python_  \n",
    "###### Lesson 8: Conditionals  \n",
    "---"
   ]
  },
  {
   "cell_type": "markdown",
   "metadata": {},
   "source": [
    "### Overview\n",
    "- Welcome!\n",
    "- Go over syllabus objectives for today\n",
    "- Key points from last lesson\n",
    "- Why do we need to loops?\n",
    "- What are conditional statements and flow of control used for?\n",
    "- Review homework"
   ]
  },
  {
   "cell_type": "markdown",
   "metadata": {},
   "source": [
    "### Key points from last lesson\n",
    "+ We reviewed two different loops over the last two lessons\n",
    "    + while\n",
    "    + for\n",
    "+ We discussed why loops are needed\n",
    "+ We discussed how to structure a loop"
   ]
  },
  {
   "cell_type": "markdown",
   "metadata": {},
   "source": [
    "#### 1.0 Conditional Statements (aka **if** statements)"
   ]
  },
  {
   "cell_type": "markdown",
   "metadata": {},
   "source": [
    "Today's topic is also known as **if** statements.  The need for these kind of statements should be at least semi-obvious.  When we are processing alot of data most of the time we need to make decisions based on the value we are looking at.  This is what conditional statements are used for."
   ]
  },
  {
   "cell_type": "markdown",
   "metadata": {},
   "source": [
    "Just like with loops, conditional statements also have code blocks.  The way you differentiate code being in the conditional statement versus being out of the conditional statement is by the level of indentation.  "
   ]
  },
  {
   "cell_type": "markdown",
   "metadata": {},
   "source": [
    "An **if** statement has a soecific syntax that you have to use\n",
    "\n",
    "```python\n",
    "if <condition that evaluates to True or False> :\n",
    "    <Body of conditional>\n",
    "```\n",
    "\n",
    "The body of the conditional will only be executed if the condition evaluates to True."
   ]
  },
  {
   "cell_type": "code",
   "execution_count": null,
   "metadata": {
    "scrolled": true
   },
   "outputs": [],
   "source": [
    "# we are going to setup a loop and only add numbers to a list that are greater than 50\n",
    "\n",
    "list_variable = []\n",
    "\n",
    "# code block outside the loop\n",
    "for elt in range(100):\n",
    "    # code block in the loop\n",
    "    if elt > 50:\n",
    "        # code block in the conditional\n",
    "        list_variable.append(elt)\n",
    "        \n",
    "print(list_variable)"
   ]
  },
  {
   "cell_type": "code",
   "execution_count": null,
   "metadata": {
    "scrolled": true
   },
   "outputs": [],
   "source": [
    "# in this example we are only going to use the values in the list \n",
    "# that are less than 50\n",
    "list_variable = []\n",
    "for elt in range(100):\n",
    "    \n",
    "    # if the value is less than 50 add it to the list\n",
    "    if elt < 50:\n",
    "        list_variable.append(elt)\n",
    "        \n",
    "print(list_variable)"
   ]
  },
  {
   "cell_type": "markdown",
   "metadata": {},
   "source": [
    "##### 1.1 Else block\n",
    "Because the condition in an **if** statement can be either True or False we can also provide a code block that will get executed if the condition evaluates to False. We can achieve this with the **else** clause of a conditional.\n",
    "\n",
    "```python\n",
    "if <condition> :\n",
    "    <code that gets executed if the condition is True>\n",
    "else:\n",
    "    <code that gets executed if the condition is False>\n",
    "```"
   ]
  },
  {
   "cell_type": "code",
   "execution_count": null,
   "metadata": {
    "scrolled": true
   },
   "outputs": [],
   "source": [
    "# in this example we will create two lists one for values below 50\n",
    "# one for values above 50.  We will use the else in the conditional to \n",
    "# achieve this\n",
    "list_var_above_50 = []\n",
    "list_var_below_50 = []\n",
    "for elt in range(100):\n",
    "\n",
    "    if elt < 50:\n",
    "        # if the value is below 50 add it to this list\n",
    "        list_var_below_50.append(elt)\n",
    "    else:\n",
    "        # else if the value is not below 50 add it to this list\n",
    "        list_var_above_50.append(elt)\n",
    "        \n",
    "print('Below 50, ', list_var_below_50)\n",
    "print('Above 50, ', list_var_above_50)\n"
   ]
  },
  {
   "cell_type": "markdown",
   "metadata": {},
   "source": [
    "#### 1.2 Breaking out\n",
    "What if we want to exit a loop early?  Let's say we are adding up numbers and we want to exit the loop once we get to a certain value.  How do we do that?  We can use a conditional along with a builtin keyword in Python that is associated with loops called **break**.  The **break** statment will exit the loop that it is in."
   ]
  },
  {
   "cell_type": "code",
   "execution_count": null,
   "metadata": {
    "scrolled": true
   },
   "outputs": [],
   "source": [
    "# setup a simple loop from 0 - 99\n",
    "# keep adding numbers together until we get above 100\n",
    "# break out of the loop once we reach that goal\n",
    "\n",
    "value_sum = 0\n",
    "for elt in range(100):\n",
    "    value_sum = value_sum + elt\n",
    "    print('Trying to get to 100, element value is ', elt, ' value sum is ', value_sum)\n",
    "    if value_sum >= 100:\n",
    "        break\n",
    "        \n"
   ]
  },
  {
   "cell_type": "markdown",
   "metadata": {},
   "source": [
    "#### 1.3 Skipping the current value in the loop\n",
    "Lets say we are iterating over a sequence of numbers and we want to skip any numbers that are odd.  How do we ignore the odd numbers?  We can do this by combining a conditional statement and also using the builtin keyword called **continue**\n",
    "\n",
    "First of all, what is an odd number?  In this exercise we are going to use the remainder function to identify odd numbers.  When we divide a number by 2 an odd number has a remainder of 1, because they dont evenly divide by 2, an even number has a remanider of 0. "
   ]
  },
  {
   "cell_type": "code",
   "execution_count": null,
   "metadata": {
    "scrolled": true
   },
   "outputs": [],
   "source": [
    "# create an empty list to accumulate the results we want\n",
    "list_even = []\n",
    "\n",
    "# loop from 0 to 99\n",
    "for elt in range(100):\n",
    "    \n",
    "    # calculate the remainder\n",
    "    remainder = elt % 2\n",
    "    \n",
    "    # test the remainder\n",
    "    if remainder == 1:\n",
    "        # if the remainder is 1 (ie elt is odd, continue the loop)\n",
    "        continue\n",
    "        \n",
    "    # if we get here then the remainder is 0\n",
    "    # which means it is an even number\n",
    "    list_even.append(elt)\n",
    "    \n",
    "print(list_even)\n",
    "        "
   ]
  },
  {
   "cell_type": "markdown",
   "metadata": {},
   "source": [
    "## Any Questions?\n",
    "---\n",
    "###### for any questions contact <hw_help@coolkidscodingschool.com>"
   ]
  }
 ],
 "metadata": {
  "kernelspec": {
   "display_name": "Python 3",
   "language": "python",
   "name": "python3"
  },
  "language_info": {
   "codemirror_mode": {
    "name": "ipython",
    "version": 3
   },
   "file_extension": ".py",
   "mimetype": "text/x-python",
   "name": "python",
   "nbconvert_exporter": "python",
   "pygments_lexer": "ipython3",
   "version": "3.6.4"
  }
 },
 "nbformat": 4,
 "nbformat_minor": 2
}
