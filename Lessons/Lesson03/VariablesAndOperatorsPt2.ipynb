{
 "cells": [
  {
   "cell_type": "markdown",
   "metadata": {},
   "source": [
    "![](images/ckcslogo.png)\n",
    "---\n",
    "### [Cool Kids Coding School](http://www.coolkidscodingschool.com)\n",
    "### Course: Introductory Python\n",
    "### Lesson 3: Variables and Operators Part2\n",
    "\n",
    "---"
   ]
  },
  {
   "cell_type": "markdown",
   "metadata": {},
   "source": [
    "### Overview\n",
    "- Welcome!\n",
    "- Go over syllabus objectives for today\n",
    "- Key points from last lesson\n",
    "- More operators\n",
    "- Operator precedence\n",
    "- More builtin functions\n",
    "- In-class exercises\n",
    "- Review homework"
   ]
  },
  {
   "cell_type": "markdown",
   "metadata": {},
   "source": [
    "### Key points from last lesson\n",
    "+ We discussed what an algorithm is - what is it?\n",
    "+ We discussed what data types are - name the 4 builtin data types that we will deal with?\n",
    "+ We discussed what variables are - what are they?\n",
    "+ We discussed what operators are - can you name some?"
   ]
  },
  {
   "cell_type": "markdown",
   "metadata": {},
   "source": [
    "### 1.0 More Operators\n",
    "Last class we discussed the basic arithmetic operators, today we are going to discus a few more."
   ]
  },
  {
   "cell_type": "markdown",
   "metadata": {},
   "source": [
    "#### 1.1 Arithmetic Operators"
   ]
  },
  {
   "cell_type": "code",
   "execution_count": null,
   "metadata": {},
   "outputs": [],
   "source": [
    "a = 5 # variable assignment\n",
    "b = 10 # variable assignment"
   ]
  },
  {
   "cell_type": "code",
   "execution_count": null,
   "metadata": {},
   "outputs": [],
   "source": [
    "print(+a) # unary positive\n",
    "print(-a) # unary negative\n",
    "print(a % 2) # modulo (aka remainder) \n",
    "print(b // 3) # integer division\n",
    "print(a ** b) # exponentiation"
   ]
  },
  {
   "cell_type": "markdown",
   "metadata": {},
   "source": [
    "#### 1.2 Comparison Operators\n",
    "These are operators that return a boolean result when applied."
   ]
  },
  {
   "cell_type": "code",
   "execution_count": null,
   "metadata": {},
   "outputs": [],
   "source": [
    "print(a, b) \n",
    "print(a == b) # equal to\n",
    "print(a == a) # equal to\n",
    "print(a != b) # not equal to"
   ]
  },
  {
   "cell_type": "markdown",
   "metadata": {},
   "source": [
    "### 1.3 Operator Precedence\n",
    "As in math opertors python uses a precedence of opertors that everyone should be familiar with.\n",
    "\n",
    "**Highest**\n",
    "+ exponentiation\n",
    "+ multiplication, division, floor division, modulo\n",
    "+ addition, subtraction\n",
    "**Lowest**"
   ]
  },
  {
   "cell_type": "markdown",
   "metadata": {},
   "source": [
    "### Builtin Functions\n",
    "A function is a piece of code that is already defined, performs a steps, and can return a result.  We have seen some functions already.  ***print*** is a function, ***type*** is a function, ***id*** is a function.  \n",
    "\n",
    "Python has a set of functions builtin that we can use when we need to.  We are going to investigate a few."
   ]
  },
  {
   "cell_type": "code",
   "execution_count": 1,
   "metadata": {},
   "outputs": [
    {
     "name": "stdout",
     "output_type": "stream",
     "text": [
      "Please enter a number 100\n",
      "abs(-5) returns  5\n",
      "divmod(10,3) returns  (3, 1)\n",
      "pow(2,3) returns  8\n",
      "bin(101) returns  0b1100101\n",
      "bool(1) returns  True\n",
      "bool(0) returns  False\n",
      "float(\"1.0\") returns  1.0\n",
      "int(\"23\") returns  23\n",
      "str(23) returns  23\n"
     ]
    }
   ],
   "source": [
    "# User input function\n",
    "user_input = input('Please enter a number ')\n",
    "\n",
    "# Aritmetic operators\n",
    "print('abs(-5) returns ', abs(-5)) # Returns the absolute value of the value passed in\n",
    "\n",
    "# Conversion functions\n",
    "print('bin(101) returns ', bin(101)) # Converts an integer to its binary representation\n",
    "\n",
    "# in general non boolean values can be converted to boolean, zero is false non zero is true\n",
    "print('bool(1) returns ', bool(1)) # Converts the argument passed in to its boolean equivalent\n",
    "print('bool(0) returns ', bool(0)) # Converts the argument passed in to its boolean equivalent\n",
    "print('float(\"1.0\") returns ', float('1.0')) # Converts the argument passed in to a flating point number\n",
    "print('int(\"23\") returns ', int('23')) # Converts the argument passed in to an integer\n",
    "print('str(23) returns ', str(23)) # Converts the argment passed in to a string"
   ]
  },
  {
   "cell_type": "markdown",
   "metadata": {},
   "source": [
    "### Any Questions?\n",
    "---\n",
    "###### for any questions contact <jimmy@coolkidscodingschool.com> </h6>"
   ]
  }
 ],
 "metadata": {
  "kernelspec": {
   "display_name": "Python 3",
   "language": "python",
   "name": "python3"
  },
  "language_info": {
   "codemirror_mode": {
    "name": "ipython",
    "version": 3
   },
   "file_extension": ".py",
   "mimetype": "text/x-python",
   "name": "python",
   "nbconvert_exporter": "python",
   "pygments_lexer": "ipython3",
   "version": "3.6.4"
  }
 },
 "nbformat": 4,
 "nbformat_minor": 2
}
