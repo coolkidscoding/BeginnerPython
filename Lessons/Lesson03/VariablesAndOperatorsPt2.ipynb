{
 "cells": [
  {
   "cell_type": "markdown",
   "metadata": {},
   "source": [
    "![](images/ckcslogo.png)\n",
    "---\n",
    "### [Cool Kids Coding School](http://www.coolkidscodingschool.com)\n",
    "### Course: Introductory Python\n",
    "### Lesson 3: Variables and Operators Part2\n",
    "\n",
    "---"
   ]
  },
  {
   "cell_type": "markdown",
   "metadata": {},
   "source": [
    "### Overview\n",
    "- Welcome!\n",
    "- Go over syllabus objectives for today\n",
    "- Key points from last lesson\n",
    "- More operators\n",
    "- Operator precedence\n",
    "- More builtin functions\n",
    "- In-class exercises\n",
    "- Review homework"
   ]
  },
  {
   "cell_type": "markdown",
   "metadata": {},
   "source": [
    "### Key points from last lesson\n",
    "+ We discussed what an algorithm is - what is it?\n",
    "+ We discussed what data types are - name the 4 builtin data types that we will deal with?\n",
    "+ We discussed what variables are - what are they?\n",
    "+ We discussed what operators are - can you name some?"
   ]
  },
  {
   "cell_type": "markdown",
   "metadata": {},
   "source": [
    "### 1.0 More Operators\n",
    "Last class we discussed the basic arithmetic operators, today we are going to discus a few more."
   ]
  },
  {
   "cell_type": "markdown",
   "metadata": {},
   "source": [
    "#### 1.1 Arithmetic Operators"
   ]
  },
  {
   "cell_type": "code",
   "execution_count": null,
   "metadata": {},
   "outputs": [],
   "source": [
    "a = 5 # variable assignment\n",
    "b = 10 # variable assignment"
   ]
  },
  {
   "cell_type": "code",
   "execution_count": null,
   "metadata": {},
   "outputs": [],
   "source": [
    "print('a is', a)\n",
    "print('+a is', +a) # unary positive\n",
    "print('-a is', -a) # unary negative\n",
    "print('the remainder of a divided by 2 is', a % 2) # modulo (aka remainder) \n",
    "print('the integer part of b divided by 3 is', b // 3) # integer division\n",
    "print('a raised to the power of b is', a ** b) # exponentiation"
   ]
  },
  {
   "cell_type": "markdown",
   "metadata": {},
   "source": [
    "#### 1.2 Comparison Operators\n",
    "These are operators. Remeber comparison operators return a boolean."
   ]
  },
  {
   "cell_type": "code",
   "execution_count": null,
   "metadata": {},
   "outputs": [],
   "source": [
    "print(a, b) \n",
    "print(a == b) # equal to\n",
    "print(a != b) # not equal to"
   ]
  },
  {
   "cell_type": "markdown",
   "metadata": {},
   "source": [
    "### 1.3 Operator Precedence\n",
    "As in math opertors python uses a precedence of opertors that everyone should be familiar with.  This should be familiar to, in school your teachers should call it PEMDAS\n",
    " + Parenthesis\n",
    " + Exponents\n",
    " + Multiplication\n",
    " + Division\n",
    " + Addition\n",
    " + Subtraction\n",
    "\n",
    "**Highest**\n",
    "+ exponentiation\n",
    "+ multiplication, division, floor division, modulo\n",
    "+ addition, subtraction\n",
    "**Lowest**"
   ]
  },
  {
   "cell_type": "markdown",
   "metadata": {},
   "source": [
    "### 1.4 Builtin Functions\n",
    "A builtin function is a piece of code that is already defined in python.  This function performs an action, and may or may not return a result and may or may not take arguments used in generating a result.  We will study how to build our own functions later in the course.\n",
    "\n",
    "The form of a function is:\n",
    "\n",
    "```\n",
    "<function_name>(<zero or more comma seperated arguments>)\n",
    "```\n",
    "\n",
    "We have seen some functions already.  ***print*** is a function, ***type*** is a function.  \n",
    "\n",
    "\n",
    "Python has a set of functions builtin that we can use when we need to.  We are going to investigate a few."
   ]
  },
  {
   "cell_type": "code",
   "execution_count": 1,
   "metadata": {},
   "outputs": [
    {
     "name": "stdout",
     "output_type": "stream",
     "text": [
      "Please enter a number 100\n",
      "abs(-5) returns  5\n",
      "123\n",
      "123.2\n",
      "123\n",
      "bool(1) returns  True\n",
      "bool(0) returns  False\n"
     ]
    }
   ],
   "source": [
    "# User input function\n",
    "user_input = input('Please enter a number ')\n",
    "\n",
    "# Aritmetic operators\n",
    "print('abs(-5) returns ', abs(-5)) # Returns the absolute value of the value passed in\n",
    "\n",
    "# Conversion functions\n",
    "print(int('123')) # Converts a string to an integer\n",
    "print(float('123.2')) # Converts a string to a float\n",
    "print(str(123)) # Converts anything to a string\n",
    "\n",
    "# in general non boolean values can be converted to boolean, zero is false non zero is true\n",
    "print('bool(1) returns ', bool(1)) # Converts the argument passed in to its boolean equivalent\n",
    "print('bool(0) returns ', bool(0)) # Converts the argument passed in to its boolean equivalent"
   ]
  },
  {
   "cell_type": "markdown",
   "metadata": {},
   "source": [
    "### Any Questions?\n",
    "---\n",
    "###### for any questions contact <hw_help@coolkidscodingschool.com>"
   ]
  }
 ],
 "metadata": {
  "kernelspec": {
   "display_name": "Python 3",
   "language": "python",
   "name": "python3"
  },
  "language_info": {
   "codemirror_mode": {
    "name": "ipython",
    "version": 3
   },
   "file_extension": ".py",
   "mimetype": "text/x-python",
   "name": "python",
   "nbconvert_exporter": "python",
   "pygments_lexer": "ipython3",
   "version": "3.6.4"
  }
 },
 "nbformat": 4,
 "nbformat_minor": 2
}
