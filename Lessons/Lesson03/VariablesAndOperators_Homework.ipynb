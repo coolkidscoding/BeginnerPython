{
 "cells": [
  {
   "cell_type": "markdown",
   "metadata": {},
   "source": [
    "# [Cool Kids Coding School](http://www.coolkidscodingschool.com) \n",
    "## Course: _Introductory Python_\n",
    "### Lesson 3: _Variables and Operators Lab Homework_\n",
    "---"
   ]
  },
  {
   "cell_type": "markdown",
   "metadata": {},
   "source": [
    "This is a read-only copy of the homework due next lesson.  Make a copy of this notebook in your personal area, try to keep the same name. I will be collecting this.  Please try to finish before next lesson. *** Remember: you can only learn how to program by doing. ***\n",
    "\n",
    "---"
   ]
  },
  {
   "cell_type": "markdown",
   "metadata": {},
   "source": [
    "#### Practice Exponent Rules ####\n",
    "Exercise exponent rules.  Below is a chart that shows you all the operations involving exponents.  I want you to test the value of each rule.  Below are some examples.  Do the same thing for each rule, there are 8 rules.  You should have 8 code cells, one for each rule.\n",
    "\n",
    "![exponent rules](./images/exponents.jpg)\n",
    "\n",
    "---"
   ]
  },
  {
   "cell_type": "markdown",
   "metadata": {},
   "source": [
    "First rule\n",
    "```python\n",
    "5 ** 4 * 5 ** 3 == 5 ** (4 + 3)\n",
    "```"
   ]
  },
  {
   "cell_type": "markdown",
   "metadata": {},
   "source": [
    "Second rule\n",
    "```python\n",
    "5 ** 4 / 5 ** 3 == 5 ** (4 - 3)\n",
    "```"
   ]
  },
  {
   "cell_type": "markdown",
   "metadata": {},
   "source": [
    "## Any Questions?\n",
    "---\n",
    "###### for any questions contact <jimmy@coolkidscodingschool.com>"
   ]
  }
 ],
 "metadata": {
  "kernelspec": {
   "display_name": "Python [conda env:PDSH]",
   "language": "python",
   "name": "conda-env-PDSH-py"
  },
  "language_info": {
   "codemirror_mode": {
    "name": "ipython",
    "version": 3
   },
   "file_extension": ".py",
   "mimetype": "text/x-python",
   "name": "python",
   "nbconvert_exporter": "python",
   "pygments_lexer": "ipython3",
   "version": "3.5.4"
  }
 },
 "nbformat": 4,
 "nbformat_minor": 2
}
