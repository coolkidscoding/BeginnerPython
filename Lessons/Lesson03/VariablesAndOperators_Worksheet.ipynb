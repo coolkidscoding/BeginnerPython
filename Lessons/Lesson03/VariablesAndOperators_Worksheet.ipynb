{
 "cells": [
  {
   "cell_type": "markdown",
   "metadata": {},
   "source": [
    "# [Cool Kids Coding School](http://www.coolkidscodingschool.com) \n",
    "## Course: _Introductory Python_\n",
    "### Lesson 2: _Variables and Operators WorkSheet_\n",
    "---"
   ]
  },
  {
   "cell_type": "markdown",
   "metadata": {},
   "source": [
    "This is a read-only copy of a worksheet we will be completing and going over together in class.  Make a copy of this notebook in your personal area, rename it whatever you want.  \n",
    "\n",
    "---"
   ]
  },
  {
   "cell_type": "markdown",
   "metadata": {},
   "source": [
    "#### Question #1 ####\n",
    "What are the 3 pieces we need in order to create a variable in Python?\n",
    "\n",
    "---"
   ]
  },
  {
   "cell_type": "markdown",
   "metadata": {},
   "source": [
    "#### Question #2 ####\n",
    "What are 4 data types that we learned in the previous lesson?  Give examples of each.\n",
    "\n",
    "---"
   ]
  },
  {
   "cell_type": "markdown",
   "metadata": {},
   "source": [
    "#### Question #3 ####\n",
    "What is one thing that a variable name CANNOT start with?\n",
    "\n",
    "---"
   ]
  },
  {
   "cell_type": "markdown",
   "metadata": {},
   "source": [
    "#### Question #4 ####\n",
    "Refer to the code at the end of this question.  What is the output going to be if I execute the cell?\n",
    "\n",
    "```python\n",
    "a=5\n",
    "b=5\n",
    "print('a<=b', a<=b)\n",
    "print('a>=b', a>=b)\n",
    "```\n",
    "---"
   ]
  },
  {
   "cell_type": "markdown",
   "metadata": {},
   "source": [
    "#### Question #5 ####\n",
    "Refer to the code at the end of this question.  What is the output going to be?\n",
    "```python\n",
    "3 + 4 * (1 + 2) / 12\n",
    "```\n",
    "---"
   ]
  },
  {
   "cell_type": "markdown",
   "metadata": {},
   "source": [
    "#### Question #6 ####\n",
    "Name 4 operators that Python supports?\n",
    "\n",
    "---"
   ]
  },
  {
   "cell_type": "markdown",
   "metadata": {},
   "source": [
    "#### Question #7 ####\n",
    "Recall that the % operator divides two numbers and returns the remainder.  What is the result of \n",
    "```python\n",
    "119 % 24\n",
    "```\n",
    "\n",
    "---"
   ]
  },
  {
   "cell_type": "markdown",
   "metadata": {},
   "source": [
    "#### Question #8 ####\n",
    "If I want to create a string variable that contains the string \"Hello World\" (with the quotes).  How can I do that?\n",
    "\n",
    "---"
   ]
  },
  {
   "cell_type": "markdown",
   "metadata": {},
   "source": [
    "## Any Questions?\n",
    "---\n",
    "###### for any questions call me over or contact <jimmy@coolkidscodingschool.com>"
   ]
  },
  {
   "cell_type": "code",
   "execution_count": null,
   "metadata": {},
   "outputs": [],
   "source": []
  }
 ],
 "metadata": {
  "kernelspec": {
   "display_name": "Python [conda env:PDSH]",
   "language": "python",
   "name": "conda-env-PDSH-py"
  },
  "language_info": {
   "codemirror_mode": {
    "name": "ipython",
    "version": 3
   },
   "file_extension": ".py",
   "mimetype": "text/x-python",
   "name": "python",
   "nbconvert_exporter": "python",
   "pygments_lexer": "ipython3",
   "version": "3.5.4"
  }
 },
 "nbformat": 4,
 "nbformat_minor": 2
}
