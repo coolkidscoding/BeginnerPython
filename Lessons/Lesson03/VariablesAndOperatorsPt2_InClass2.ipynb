{
 "cells": [
  {
   "cell_type": "markdown",
   "metadata": {},
   "source": [
    "![](images/ckcslogo.png)\n",
    "---\n",
    "### [Cool Kids Coding School](http://www.coolkidscodingschool.com)   \n",
    "### Course: Introductory Python \n",
    "### Lesson 3: Variables and Operators InClass2 (Part2)\n",
    "---"
   ]
  },
  {
   "cell_type": "markdown",
   "metadata": {},
   "source": [
    "#### Exercise #1 (Arithmetic Operators)\n",
    "Add a code cell below this one and follow these instructions:\n",
    "\n",
    "+ Create two variables that hold two different numeric values\n",
    "+ Get python to print the result of adding these two numbers together\n",
    "+ Get python to print the result of subtracting these two numbers together\n",
    "+ Get python to print the result of multiplying these two numbers together\n",
    "+ Get python to print the result of dividing these two numbers together\n",
    "+ Get python to print the result of raising one number to the other number\n",
    "+ Get python to print the remainder of dividing one number by 3"
   ]
  },
  {
   "cell_type": "markdown",
   "metadata": {},
   "source": [
    "#### Exercise #2 (Comparison Operators)\n",
    "Add a code cell below this one and follow these instructions:\n",
    "\n",
    "+ Create two variables that hold two different numeric values\n",
    "+ Get python to print whether the first number is less than the second number\n",
    "+ Get python to print whether the first number is less than or equal to the second number\n",
    "+ Get python to print whether the first number is greater than the second number\n",
    "+ Get python to print whether the first number is greater than or equal to the second number\n",
    "+ Get python to print whether the first number is equal to the second number\n",
    "+ Get python to print whether the first number is not equal to than the second number"
   ]
  },
  {
   "cell_type": "markdown",
   "metadata": {},
   "source": [
    "#### Exercise #3 (Conversion Operators)\n",
    "Add a code cell below this one and follow these instructions:\n",
    "\n",
    "+ Create a variable assign it the value '123', convert this variable to an integer\n",
    "+ Create a variable assign it the value 123, convert this variable to an string\n",
    "+ Create a variable assign it the value '321.2', convert this variable to an float\n",
    "+ Create a variable assign it the value 'hello', convert this variable to an integer, did it work?"
   ]
  },
  {
   "cell_type": "markdown",
   "metadata": {},
   "source": [
    "## Any Questions?\n",
    "---\n",
    "###### for any questions contact <jimmy@coolkidscodingschool.com> or <ayesha@coolkidscodingschool.com>"
   ]
  }
 ],
 "metadata": {
  "kernelspec": {
   "display_name": "Python 3",
   "language": "python",
   "name": "python3"
  },
  "language_info": {
   "codemirror_mode": {
    "name": "ipython",
    "version": 3
   },
   "file_extension": ".py",
   "mimetype": "text/x-python",
   "name": "python",
   "nbconvert_exporter": "python",
   "pygments_lexer": "ipython3",
   "version": "3.6.8"
  }
 },
 "nbformat": 4,
 "nbformat_minor": 2
}
