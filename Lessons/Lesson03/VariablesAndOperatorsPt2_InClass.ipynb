{
 "cells": [
  {
   "cell_type": "markdown",
   "metadata": {},
   "source": [
    "![](images/ckcslogo.png)\n",
    "---\n",
    "### [Cool Kids Coding School](http://www.coolkidscodingschool.com)\n",
    "### Course: Introductory Python\n",
    "### Lesson 3: Variables and Operators InClass Part2\n",
    "\n",
    "---"
   ]
  },
  {
   "cell_type": "markdown",
   "metadata": {},
   "source": [
    "#### Exercise #1\n",
    "Add a code cell below this one and answer the following questions:\n",
    "+ what is the type of the result of 20 % 3?\n",
    "+ what is the result of 2 ** 10?\n",
    "+ what is result of 345.6 / 123 - 12 + 37.5 ** 2\n",
    "+ what is 12 to the 4th power?"
   ]
  },
  {
   "cell_type": "markdown",
   "metadata": {},
   "source": [
    "#### Exercise #2\n",
    "Add a code cell below this one and perform the following actions:\n",
    "+ create a variable called **test** and set it equal to 100\n",
    "+ add 27 to the variable **test**\n",
    "+ subtract 32 from the variable **test**\n",
    "+ divide the variable **test** by 10\n",
    "+ what is the value of the variable **test** after all those operations?"
   ]
  },
  {
   "cell_type": "markdown",
   "metadata": {},
   "source": [
    "#### Exercise #3\n",
    "Add a code cell below this one and perform the following steps:\n",
    "+ create 2 variables called **part1** and **part2** and initialize to two different floating point numbers - you choose\n",
    "+ create a variable called **total** and initialize to the sum or **part1** and **part2**\n",
    "+ multiply **total** by 10\n",
    "+ what is the value of **total**?"
   ]
  },
  {
   "cell_type": "markdown",
   "metadata": {},
   "source": [
    "#### Exercise #4\n",
    "Add a code cell below this one and perform the following steps:\n",
    "+ create a variable called **str1** and set it equal to 'hello'\n",
    "+ create a variable called **str2** and set it equal to ' '\n",
    "+ create a variable called **str3** and set it equal to your name\n",
    "+ what is the sum of **str1**, **str2**, and **str3**?"
   ]
  },
  {
   "cell_type": "markdown",
   "metadata": {},
   "source": [
    "## Any Questions?\n",
    "---\n",
    "###### for any questions call me over or contact <ayesha@coolkidscodingschool.com>"
   ]
  }
 ],
 "metadata": {
  "kernelspec": {
   "display_name": "Python 3",
   "language": "python",
   "name": "python3"
  },
  "language_info": {
   "codemirror_mode": {
    "name": "ipython",
    "version": 3
   },
   "file_extension": ".py",
   "mimetype": "text/x-python",
   "name": "python",
   "nbconvert_exporter": "python",
   "pygments_lexer": "ipython3",
   "version": "3.6.4"
  }
 },
 "nbformat": 4,
 "nbformat_minor": 2
}
