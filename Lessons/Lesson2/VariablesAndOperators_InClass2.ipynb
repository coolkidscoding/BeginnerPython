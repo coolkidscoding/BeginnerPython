{
 "cells": [
  {
   "cell_type": "markdown",
   "metadata": {},
   "source": [
    "# [Cool Kids Coding School](http://www.coolkidscodingschool.com) \n",
    "## Course: _Introductory Python_\n",
    "### Lesson 2: _Variables and Operators Homework Assignment_\n",
    "---"
   ]
  },
  {
   "cell_type": "markdown",
   "metadata": {},
   "source": [
    "### Make a copy of this notebook in your JupyterHub area.  Follow the instructions below.\n",
    "\n",
    "---"
   ]
  },
  {
   "cell_type": "markdown",
   "metadata": {},
   "source": [
    "### Exercise #1: Pythagorean Triples ###\n",
    "For this exercise we are going use python to solve for ***Pythagorean*** triples.  For those that are not familiar, a little background.  \n",
    "In a right triangle there exists a strict relationship between the 3 sides.  A right triangle with sides a, b and hypoteneuse c maintains this relationship:\n",
    "\n",
    "<center>$c^2 = a^2 + b^2$</center>\n",
    "\n",
    "This picture describes it.\n",
    "![Pythagorean Theorem](images/PythagoreanTheoremFigure.gif)\n",
    "\n",
    "A ***Pythagorean*** triple consists of three positive integers a, b, and c, such that $a^2 + b^2 = c^2$. Such a triple is commonly written (a, b, c), and a well-known example is (3, 4, 5).\n",
    "\n",
    "Add a code cell for each triple below and solve for the missing side using the ***Pythagorean*** theorem.\n",
    "\n",
    "+ (a,b,c)\n",
    "+ (5, ,13)\n",
    "+ (8,15, )\n",
    "+ ( ,21,29)\n",
    "+ (12,35, )\n",
    "+ (  ,40,41)\n",
    "\n",
    "---"
   ]
  },
  {
   "cell_type": "markdown",
   "metadata": {},
   "source": [
    "### Exercise #2: Scientific Notation ###\n",
    "In this exercise we are going to use python to practice ***Scientific Notation***.  Scientific notation is a way of expressing numbers that are too big or too small to be conveniently written in decimal form. It is commonly used by scientists, mathematicians and engineers, in part because it can simplify certain arithmetic operations. \n",
    "\n",
    "In scientific notation all numbers are written in the form:\n",
    "\n",
    "<center>$m × 10^n$</center>\n",
    "    \n",
    "(m times ten raised to the power of n), where the exponent n is an integer, and the coefficient m is any real number.\n",
    "\n",
    "Add a code cell below and convert each value to scientific notaion that python would understand.\n",
    "\n",
    "+ Decimal notation \tScientific notation\n",
    "+ 2\n",
    "+ 300\n",
    "+ 4,321.768\n",
    "+ −53,000\n",
    "+ 6,720,000,000\n",
    "+ 0.2\n",
    "+ 0.00000000751\n",
    "\n",
    "You should confirm that your answer is equal to the value above by using a comparison operator\n",
    "\n",
    "---"
   ]
  },
  {
   "cell_type": "markdown",
   "metadata": {},
   "source": [
    "100 -> 1e2"
   ]
  },
  {
   "cell_type": "code",
   "execution_count": 1,
   "metadata": {},
   "outputs": [
    {
     "data": {
      "text/plain": [
       "True"
      ]
     },
     "execution_count": 1,
     "metadata": {},
     "output_type": "execute_result"
    }
   ],
   "source": [
    "100 == 1e2"
   ]
  },
  {
   "cell_type": "markdown",
   "metadata": {},
   "source": [
    "### Exercise #3 Measures on Geometric Shapes ###\n",
    "In this exercise we are going to use python to solve common measures of various geometric shapes.\n",
    "#### Area of a circle ####\n",
    "The area of a circle is defined as \n",
    "<center>$A=\\pi*r^2$</center>\n",
    "\n",
    "![Area of Circle](images/areaofcircle.gif)\n",
    "\n",
    "Add a code cell below and solve for the missing piece of information.  Manipulate the area equation as necessary.  To get access to the value for $\\pi$ use the code below\n",
    "\n",
    "```python\n",
    "import math\n",
    "math.pi\n",
    "```\n",
    "\n",
    "+ (A,r)\n",
    "+ (6, )\n",
    "+ (10, r)\n",
    "+ (  , 3.5)\n",
    "+ (  ,7)\n",
    "\n",
    "#### Volume of a Cylinder and a Cone ####\n",
    "\n",
    "The volume of a cylinder is defined as \n",
    "<center>$V=\\pi*r^2*h$</center>\n",
    "\n",
    "The volume of a cone  is defined as \n",
    "<center>$V=\\frac{1}{3}*\\pi*r^2*h$</center>\n",
    "\n",
    "![Volume of a Cylinder](images/volumecylinder.jpeg)\n",
    "\n",
    "Add a code cell below and calculate the volume of the cylinder.\n",
    "> ***Volume of Cylinder***\n",
    "+ (V, r, h)\n",
    "+ ( , 2, 3)\n",
    "+ ( , 3, 5)\n",
    "+ ( , 4, 7)\n",
    "\n",
    "Add a code cell below and calculate the volume of the cone.\n",
    "> ***Volume of Cone***\n",
    "+ (V, r, h)\n",
    "+ ( , 4, 12)\n",
    "+ ( , 2, 1)\n",
    "+ ( , 3, 15)\n",
    "\n",
    "---"
   ]
  },
  {
   "cell_type": "markdown",
   "metadata": {},
   "source": [
    "## Any Questions?\n",
    "---\n",
    "###### for any questions contact <jimmy@coolkidscodingschool.com>"
   ]
  }
 ],
 "metadata": {
  "kernelspec": {
   "display_name": "Python [conda env:PDSH]",
   "language": "python",
   "name": "conda-env-PDSH-py"
  },
  "language_info": {
   "codemirror_mode": {
    "name": "ipython",
    "version": 3
   },
   "file_extension": ".py",
   "mimetype": "text/x-python",
   "name": "python",
   "nbconvert_exporter": "python",
   "pygments_lexer": "ipython3",
   "version": "3.5.4"
  }
 },
 "nbformat": 4,
 "nbformat_minor": 2
}
