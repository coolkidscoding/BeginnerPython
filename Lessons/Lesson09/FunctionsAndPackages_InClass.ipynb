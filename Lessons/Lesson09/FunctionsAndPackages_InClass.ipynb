{
 "cells": [
  {
   "cell_type": "markdown",
   "metadata": {},
   "source": [
    "<div>\n",
    "\n",
    "<p>\n",
    "<img align=left src=\"images/ckcslogo.png\">\n",
    "</p>\n",
    "\n",
    "---\n",
    "\n",
    "<p>\n",
    "<H1 align=left><a href=\"http://www.coolkidscodingschool.com\">Cool Kids Coding School</a></H1>\n",
    "<H2 align=left>Course: <strong>Introductory Python</strong></H1>\n",
    "<H3 align=left>Lesson 9: <strong>Functions and Packages (In Class Assignment)</strong></H3>\n",
    "</p>\n",
    "\n",
    "</div>\n",
    "\n",
    "---"
   ]
  },
  {
   "cell_type": "markdown",
   "metadata": {},
   "source": [
    "#### Functions"
   ]
  },
  {
   "cell_type": "code",
   "execution_count": null,
   "metadata": {},
   "outputs": [],
   "source": [
    "# Create a function called Difference that will take 2 numbers and return the difference\n",
    "\n",
    "# Create a function called Product that wil take 2 numbers and return the product \n",
    "\n",
    "# Create a function called HelloWorld that takes one parameter, a name, and prints 'Hello World from <name>'\n",
    "\n",
    "# Create a function that takes one parameter, a list of numbers, and returns the sum of only the even numbers\n",
    "\n",
    "# Create a function that takes one parameter, a list of numbers, and returns the product of only the odd numbers\n",
    "\n",
    "# Create a function that takes no parameters and returns a random number between 0 and 8\n"
   ]
  },
  {
   "cell_type": "markdown",
   "metadata": {},
   "source": [
    "## Any Questions?\n",
    "---\n",
    "###### for any questions contact <hw_help@coolkidscodingschool.com>"
   ]
  }
 ],
 "metadata": {
  "kernelspec": {
   "display_name": "Python 3",
   "language": "python",
   "name": "python3"
  },
  "language_info": {
   "codemirror_mode": {
    "name": "ipython",
    "version": 3
   },
   "file_extension": ".py",
   "mimetype": "text/x-python",
   "name": "python",
   "nbconvert_exporter": "python",
   "pygments_lexer": "ipython3",
   "version": "3.6.4"
  }
 },
 "nbformat": 4,
 "nbformat_minor": 2
}