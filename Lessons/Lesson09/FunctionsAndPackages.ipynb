{
 "cells": [
  {
   "cell_type": "markdown",
   "metadata": {},
   "source": [
    "![](images/ckcslogo.png)\n",
    "---\n",
    "## [Cool Kids Coding School](http://www.coolkidscodingschool.com)  \n",
    "\n",
    "##### _Introductory Python_  \n",
    "###### Lesson 9: Functions and Packages  \n",
    "---"
   ]
  },
  {
   "cell_type": "markdown",
   "metadata": {},
   "source": [
    "### Overview\n",
    "- Welcome!\n",
    "- Go over syllabus objectives for today\n",
    "- Key points from last lesson\n",
    "- Why do we need to conditionals?\n",
    "- What are functions?  Why do we need them?\n",
    "- What are packages?\n",
    "- Review homework"
   ]
  },
  {
   "cell_type": "markdown",
   "metadata": {},
   "source": [
    "### Key points from last lesson\n",
    "+ We reviewed conditional statements.  These are statements that are used to control the flow of a program.\n",
    "+ To control the flow of a program means to control what code will be executed.  \n",
    "+ We discussed how the main part of a conditional is the condition that evaluates to True or False.\n",
    "+ We discussed how we execute the code in the body of the conditional if the condition evaluates to True.\n",
    "+ We discussed how if the condition evaluates to False and there is an else clause then that gets executed."
   ]
  },
  {
   "cell_type": "markdown",
   "metadata": {},
   "source": [
    "#### 1.0 Functions"
   ]
  },
  {
   "cell_type": "markdown",
   "metadata": {},
   "source": [
    "A function is a block of organized, reusable code that is used to perform a single action. Functions provide better modularity for your application and a high degree of code reusing.\n",
    "\n",
    "We have seen many functions already. Python gives you many built-in functions like print(), etc. but you can also create your own functions. These functions are called user-defined functions."
   ]
  },
  {
   "cell_type": "markdown",
   "metadata": {},
   "source": [
    "Just like with loops and conditional statements, functions also have code blocks.  The code in a function is not executed unless the function is called.  To 'call' a function means to actually use it.  "
   ]
  },
  {
   "cell_type": "markdown",
   "metadata": {},
   "source": [
    "##### 1.1 Structure of a function"
   ]
  },
  {
   "cell_type": "markdown",
   "metadata": {},
   "source": [
    "+ Function blocks begin with the keyword **def** followed by the function name and parentheses.\n",
    "+ Any input parameters or arguments should be placed within these parentheses.\n",
    "+ The statement **return** exits a function, optionally passing back an expression or result to the caller. A return statement with no arguments is the same as return None."
   ]
  },
  {
   "cell_type": "markdown",
   "metadata": {},
   "source": [
    "```python\n",
    "def functionname( parameters ):\n",
    "   function_code\n",
    "   return [expression/result]\n",
    "```"
   ]
  },
  {
   "cell_type": "markdown",
   "metadata": {},
   "source": [
    "##### 1.2 Defining a function"
   ]
  },
  {
   "cell_type": "code",
   "execution_count": 12,
   "metadata": {
    "scrolled": true
   },
   "outputs": [],
   "source": [
    "# this is a simple function that takes no arguments and just prints hello\n",
    "def SayHello():\n",
    "    print('Hello')\n",
    "    return\n",
    "\n",
    "# this is a simple function that takes two arguments and adds two numbers together\n",
    "def Add(x, y):\n",
    "    result = x + y\n",
    "    return result\n",
    "\n",
    "# this is a simple function that takes one argument, a list of values, and adds them all together\n",
    "def AddAllFromList(lst):\n",
    "    sum_var = 0\n",
    "    for elt in lst:\n",
    "        sum_var = sum_var + elt\n",
    "        \n",
    "    return sum_var"
   ]
  },
  {
   "cell_type": "markdown",
   "metadata": {},
   "source": [
    "If you execute the above cell you should notice that there is no output.  This is because all we have done above is define the function.  We have not executed the code in these functions.  We execute the code when we **call** the function."
   ]
  },
  {
   "cell_type": "markdown",
   "metadata": {},
   "source": [
    "##### 1.3 Calling a function"
   ]
  },
  {
   "cell_type": "markdown",
   "metadata": {},
   "source": [
    "The next thing we are going to learn is how to **call** a function.  "
   ]
  },
  {
   "cell_type": "code",
   "execution_count": 13,
   "metadata": {
    "scrolled": true
   },
   "outputs": [
    {
     "name": "stdout",
     "output_type": "stream",
     "text": [
      "Hello\n",
      "Hello\n",
      "Hello\n",
      "Hello\n",
      "The result of the Add function is 17\n",
      "Call the function Add again 20\n",
      "The result of the AddAllFromList function is 31\n"
     ]
    }
   ],
   "source": [
    "# Lets call the functions we defined above\n",
    "\n",
    "# call the SayHello function, at this point the code in the SayHello function is executed\n",
    "SayHello()\n",
    "\n",
    "# we can call it as many times as we like, thats why functions are reusable\n",
    "SayHello()\n",
    "SayHello()\n",
    "SayHello()\n",
    "\n",
    "# call the function Add, since this function needs two parameters we must provide them otherwise it would be an error\n",
    "value1 = 5\n",
    "value2 = 12\n",
    "function_result = Add(value1, value2)\n",
    "print('The result of the Add function is', function_result)\n",
    "\n",
    "print('Call the function Add again', Add(function_result, 3))\n",
    "\n",
    "# call the function AddAllFromList\n",
    "lst_var = [3,5,7,2,6,8]\n",
    "function_result2 = AddAllFromList(lst_var)\n",
    "print('The result of the AddAllFromList function is', AddAllFromList(lst_var))"
   ]
  },
  {
   "cell_type": "markdown",
   "metadata": {},
   "source": [
    "One thing to notice is that when we call a function with parameters the parameters that we use when we call the function are replaced with the parameters that are used in the definition of the function.  This is important to understand."
   ]
  },
  {
   "cell_type": "markdown",
   "metadata": {},
   "source": [
    "#### 2.0 Packages"
   ]
  },
  {
   "cell_type": "markdown",
   "metadata": {},
   "source": [
    "Packages in python are a way to make code that has been built by others available to all programmers.  A package is nothing more than a collection of related functions that have been written by someone else.  To bring the definition of these functions into our workspace we have to **import** the package.\n",
    "\n",
    "If you think about it there are millions of developers that are writing code and making their code available to all users.  It would be a shame to not be able to use it.  Also if you had to write the code to solve every problem you encounter yourself you would never get to your actual problem solving.\n",
    "\n",
    "This is why packages were developed.  \n",
    "\n",
    "We have encountered packages a bit since we started this course.  You should be familiar with packages like **random** and **datetime**.  This is the package that defined random number functions and date functionality respectively.\n",
    "\n",
    "There are thousands of packages available.  We are not going to go into all of them in this course."
   ]
  },
  {
   "cell_type": "code",
   "execution_count": 14,
   "metadata": {},
   "outputs": [
    {
     "name": "stdout",
     "output_type": "stream",
     "text": [
      "Give me a random number between 1 and 100:  80\n",
      "Today is 2019-05-16\n",
      "The time now is 12:44:12.489331\n"
     ]
    }
   ],
   "source": [
    "# bring the definition of functions that have to do with random numbers into our workspace\n",
    "import random\n",
    "\n",
    "# use a function from the package\n",
    "print('Give me a random number between 1 and 100: ', random.randint(1,100))\n",
    "\n",
    "# bring in the definition of functions related to dates\n",
    "import datetime\n",
    "\n",
    "# what is todays date\n",
    "todays_date = datetime.date.today()\n",
    "print('Today is', todays_date)\n",
    "\n",
    "# what is the time\n",
    "time_now = datetime.datetime.now()\n",
    "print('The time now is', time_now.time())"
   ]
  },
  {
   "cell_type": "markdown",
   "metadata": {},
   "source": [
    "## Any Questions?\n",
    "---\n",
    "###### for any questions contact <hw_help@coolkidscodingschool.com>"
   ]
  }
 ],
 "metadata": {
  "kernelspec": {
   "display_name": "Python 3",
   "language": "python",
   "name": "python3"
  },
  "language_info": {
   "codemirror_mode": {
    "name": "ipython",
    "version": 3
   },
   "file_extension": ".py",
   "mimetype": "text/x-python",
   "name": "python",
   "nbconvert_exporter": "python",
   "pygments_lexer": "ipython3",
   "version": "3.6.4"
  }
 },
 "nbformat": 4,
 "nbformat_minor": 2
}
