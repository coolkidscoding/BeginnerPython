{
 "cells": [
  {
   "cell_type": "markdown",
   "metadata": {},
   "source": [
    "![](images/ckcslogo.png)\n",
    "## [Cool Kids Coding School](http://www.coolkidscodingschool.com)  \n",
    "\n",
    "##### _Introductory Python_  \n",
    "###### Lesson 9: Functions and Packages Homework\n",
    "---"
   ]
  },
  {
   "cell_type": "markdown",
   "metadata": {},
   "source": [
    "### Build a Magic 8 Ball Program\n",
    "A Magic 8 Ball program is a toy that randomly responds to questions asked."
   ]
  },
  {
   "cell_type": "code",
   "execution_count": 1,
   "metadata": {},
   "outputs": [
    {
     "name": "stdout",
     "output_type": "stream",
     "text": [
      "I am a Python magic 8 ball, please ask a question How are you\n"
     ]
    }
   ],
   "source": [
    "# In order to build a Magic 8 Ball program we need the following program components\n",
    "# - A list of 8 replies that are clever and semi-ambiguous\n",
    "# - A function that returns a random number between 0 and 7\n",
    "# - A user input area that accepts a question from the user (this is how you do this)\n",
    "my_question = input('I am a Python magic 8 ball, please ask a question: ')\n",
    "\n",
    "# your program should work like this:\n",
    "# The program accepts a question from the user, when the user enters return after the question \n",
    "# a random number is drawn, this number is used to index into the response list.  The program then \n",
    "# prints the response after the user has entered his/her question\n"
   ]
  },
  {
   "cell_type": "markdown",
   "metadata": {},
   "source": [
    "## Any Questions?\n",
    "---\n",
    "###### for any questions contact <hw_help@coolkidscodingschool.com>"
   ]
  }
 ],
 "metadata": {
  "kernelspec": {
   "display_name": "Python 3",
   "language": "python",
   "name": "python3"
  },
  "language_info": {
   "codemirror_mode": {
    "name": "ipython",
    "version": 3
   },
   "file_extension": ".py",
   "mimetype": "text/x-python",
   "name": "python",
   "nbconvert_exporter": "python",
   "pygments_lexer": "ipython3",
   "version": "3.6.4"
  }
 },
 "nbformat": 4,
 "nbformat_minor": 2
}
