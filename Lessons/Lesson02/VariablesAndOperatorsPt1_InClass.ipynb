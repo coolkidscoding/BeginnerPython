{
 "cells": [
  {
   "cell_type": "markdown",
   "metadata": {},
   "source": [
    "# [Cool Kids Coding School](http://www.coolkidscodingschool.com) \n",
    "## Course: _Introductory Python_\n",
    "### Lesson 2: _Variables and Operators In Class Assignment_\n",
    "---"
   ]
  },
  {
   "cell_type": "markdown",
   "metadata": {},
   "source": [
    "This is a read-only copy of the in class exercises.  Make a copy of this notebook in your personal area, rename it whatever you want. I will not be collecting this.  If you dont finish during the class you should finish it at home.  *** Remember: you can only learn how to program by doing. ***\n",
    "\n",
    "---"
   ]
  },
  {
   "cell_type": "markdown",
   "metadata": {},
   "source": [
    "#### Exercise #1 ####\n",
    "Under Help there is a menu item called **User Interface Tour** take that tour now.  Don't rush through it.\n",
    "\n",
    "---"
   ]
  },
  {
   "cell_type": "markdown",
   "metadata": {},
   "source": [
    "#### Exercise #2 ####\n",
    "Add a markdown cell below this one and your name, your school, and your birthdate.  Once done - execute the cell.\n",
    "\n",
    "---"
   ]
  },
  {
   "cell_type": "markdown",
   "metadata": {},
   "source": [
    "#### Exercise #3 ####\n",
    "In this exercise you will write your first python program, ***Hello World***.  Add a code cell below this one and implement a two line program.  This ***Hello World*** should ask you for your name and then print it out a line that says \"Hello World from 'your name here'\" \n",
    "\n",
    "---"
   ]
  },
  {
   "cell_type": "markdown",
   "metadata": {},
   "source": [
    "#### Exercise #4 ####\n",
    "In the below code cell you have two variables, with two distinct values.  I want you to write a ***swap*** algorithm that will transfer the value from one variable to another.  If the variables are x and y, your code should transfer the value of x to y and the value of y to x, without losing anything.\n",
    "\n"
   ]
  },
  {
   "cell_type": "code",
   "execution_count": null,
   "metadata": {},
   "outputs": [],
   "source": [
    "import random\n",
    "# assign a random integer between 1 and 100\n",
    "var1 = random.randint(1,100)\n",
    "var2 = random.randint(1,100)\n",
    "\n",
    "# print out the values before you swap them\n",
    "print('var1', var1, 'var2', var2)\n",
    "\n",
    "# swap the values without losing anything\n",
    "\n",
    "# print out the values after you swap them\n",
    "print('var1', var1, 'var2', var2)\n"
   ]
  },
  {
   "cell_type": "markdown",
   "metadata": {},
   "source": [
    "---"
   ]
  },
  {
   "cell_type": "markdown",
   "metadata": {},
   "source": [
    "#### Exercise #5 ####\n",
    "What is the binary number 100111 equal to?  Add a code cell below and write the expression that calculates it.  Don't forget to check it by running ***bin()*** on your result.\n",
    "\n",
    "---"
   ]
  },
  {
   "cell_type": "markdown",
   "metadata": {},
   "source": [
    "#### Exercise #6 ####\n",
    "Add a code cell below and print out all the builtint help documentation of the ***print*** function.\n",
    "\n",
    "---"
   ]
  },
  {
   "cell_type": "markdown",
   "metadata": {},
   "source": [
    "#### Exercise #7 ####\n",
    "Add a code cell below this one and answer the following questions:\n",
    "+ what is the type of the result of 10/3?\n",
    "+ what is the remainder of 10024 % 23?\n",
    "+ what is 345.6 / 123 - 12 + 37.5 ** 2\n",
    "+ what is 12 to the 4th power?\n",
    "\n",
    "---"
   ]
  },
  {
   "cell_type": "markdown",
   "metadata": {},
   "source": [
    "## Any Questions?\n",
    "---\n",
    "###### for any questions call me over or contact <jimmy@coolkidscodingschool.com>"
   ]
  }
 ],
 "metadata": {
  "kernelspec": {
   "display_name": "Python [conda env:PDSH]",
   "language": "python",
   "name": "conda-env-PDSH-py"
  },
  "language_info": {
   "codemirror_mode": {
    "name": "ipython",
    "version": 3
   },
   "file_extension": ".py",
   "mimetype": "text/x-python",
   "name": "python",
   "nbconvert_exporter": "python",
   "pygments_lexer": "ipython3",
   "version": "3.5.4"
  }
 },
 "nbformat": 4,
 "nbformat_minor": 2
}
