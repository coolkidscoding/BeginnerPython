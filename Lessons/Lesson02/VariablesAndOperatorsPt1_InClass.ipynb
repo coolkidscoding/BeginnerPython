{
 "cells": [
  {
   "cell_type": "markdown",
   "metadata": {},
   "source": [
    "![](images/ckcslogo.png)\n",
    "---\n",
    "### [Cool Kids Coding School](http://www.coolkidscodingschool.com)   \n",
    "### Course: Introductory Python \n",
    "### Lesson 2: Variables and Operators InClass (Part1)\n",
    "---"
   ]
  },
  {
   "cell_type": "markdown",
   "metadata": {},
   "source": [
    "#### Exercise #1\n",
    "This is the 1st step to becoming a real programmer.  Create a \"Hello World\" program.\n",
    "Add a code cell below this one.  Create a variable called hw and assign to it the string \"Hello World\". After this print it."
   ]
  },
  {
   "cell_type": "markdown",
   "metadata": {},
   "source": [
    "#### Exercise #2\n",
    "Add a code cell below this one and create 4 variables one for each data type your learned today.  Once you create the variables then print the type of each variable and confirm they are what you expect."
   ]
  },
  {
   "cell_type": "markdown",
   "metadata": {},
   "source": [
    "#### Exercise #3\n",
    "Add a code cell below this one and answer the following questions:\n",
    "+ what is the type of the result of 10/3?\n",
    "+ what is the product of 123456789 * 987654321\n",
    "+ what is 345.6 / 123 - 12 + 37.5 * 2\n",
    "---"
   ]
  },
  {
   "cell_type": "markdown",
   "metadata": {},
   "source": [
    "## Any Questions?\n",
    "---\n",
    "###### for any questions contact <hw_help@coolkidscodingschool.com>"
   ]
  }
 ],
 "metadata": {
  "kernelspec": {
   "display_name": "Python 3",
   "language": "python",
   "name": "python3"
  },
  "language_info": {
   "codemirror_mode": {
    "name": "ipython",
    "version": 3
   },
   "file_extension": ".py",
   "mimetype": "text/x-python",
   "name": "python",
   "nbconvert_exporter": "python",
   "pygments_lexer": "ipython3",
   "version": "3.6.4"
  }
 },
 "nbformat": 4,
 "nbformat_minor": 2
}
