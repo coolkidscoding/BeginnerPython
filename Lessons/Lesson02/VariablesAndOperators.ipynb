{
 "cells": [
  {
   "cell_type": "markdown",
   "metadata": {},
   "source": [
    "# [Cool Kids Coding School](http://www.coolkidscodingschool.com)\n",
    "\n",
    "## Course: Introductory Python\n",
    "### Lesson 2: Variables and Operators\n",
    "\n",
    "---"
   ]
  },
  {
   "cell_type": "markdown",
   "metadata": {},
   "source": [
    "### Overview\n",
    "- Welcome!\n",
    "- Go over syllabus objectives for today\n",
    "- Key points from last lesson\n",
    "- Development Environment\n",
    "- Discuss what a type is\n",
    "- Describe variables and their uses\n",
    "- Discuss operators\n",
    "- Demonstration\n",
    "- In-class exercises\n",
    "    + Familiarize yourself with Jupyter notebook\n",
    "    + Use JN as a calculator\n",
    "- Review homework framework"
   ]
  },
  {
   "cell_type": "markdown",
   "metadata": {},
   "source": [
    "### Key points from last lesson\n",
    "+ We are going to learn and code in the Python programming language, specifically whats called Python3\n",
    "+ Program design is about algorithm design.  An algorithm is a set of steps or rules that are followed in order to solve a problem.  An algorithm can sometimes be visualized as a flowchart.  It is very important to think about your algorithm before your right your program.\n",
    "+ ![Example Flowchart](images/homework-flowchart.png)\n",
    "+ Programs execute in a top down fashion.  A python program is not an exception.  Lines of code can be skipped only if the program is designed to skip certain parts of the code."
   ]
  },
  {
   "cell_type": "markdown",
   "metadata": {},
   "source": [
    "### Development Environment\n",
    "+ The tool we will be using for our programming exercises both in class and at home will be the ***Jupyter Notebook***.  I handed out a cheat sheet that allows you to start learning the keystrokes to manipulate the notebook.\n",
    "+ These notebooks run online in an area called ***JupyterHub***.  This is our personal area.  The sheet that you were handed on the first day of class has the information for logging in.\n",
    "+ Each student has had an email account created.  It is usually first letter last names coolkidscodingschool.  This is for \n",
    "+ Each days lecture as well as the in-class exercises and the homework will be distributed to our ***JupyterHub*** before the lesson starts.  If there are any problems or questions send me an email and I will address asap.  Also use your fellow students for help.  Get comfortable ask for help, it helps you as well as the person that is heloing you.\n",
    "+ After every class your homework will be collected and uploaded to our ***GitHUB*** account.  GitHUB is nothing more than a software storage area.  Your parents will be able to see your progress over time."
   ]
  },
  {
   "cell_type": "markdown",
   "metadata": {},
   "source": [
    "### Data Types\n",
    "+ Python supports several types of data:\n",
    "    + integer (int)\n",
    "    + decimal (float)\n",
    "    + characters aka string (str)\n",
    "    + boolean (bool)"
   ]
  },
  {
   "cell_type": "markdown",
   "metadata": {},
   "source": [
    "#### Integers\n",
    "Any set of only digits is considered an ***int***"
   ]
  },
  {
   "cell_type": "code",
   "execution_count": null,
   "metadata": {},
   "outputs": [],
   "source": [
    "12345678901234567890"
   ]
  },
  {
   "cell_type": "code",
   "execution_count": null,
   "metadata": {},
   "outputs": [],
   "source": [
    "type(123456789)"
   ]
  },
  {
   "cell_type": "markdown",
   "metadata": {},
   "source": [
    "#### Floating Point Numbers\n",
    "Any set of digits with a decimal point in it is considered a ***float***"
   ]
  },
  {
   "cell_type": "code",
   "execution_count": null,
   "metadata": {},
   "outputs": [],
   "source": [
    "123456.789"
   ]
  },
  {
   "cell_type": "markdown",
   "metadata": {},
   "source": [
    "Floating point numbers can be represented in scientific notation.  In general a number in scientific notation takes the form **1.2x$10^5$**.  In python this same number is displayed as **1.2e5**.  The first part is called the significant digits and the second part is called the exponents term."
   ]
  },
  {
   "cell_type": "code",
   "execution_count": null,
   "metadata": {},
   "outputs": [],
   "source": [
    "1e2"
   ]
  },
  {
   "cell_type": "code",
   "execution_count": null,
   "metadata": {},
   "outputs": [],
   "source": [
    "1e-3"
   ]
  },
  {
   "cell_type": "markdown",
   "metadata": {},
   "source": [
    "Floating point numbers do have a limit as far as what can be represented both at the high end as well as the low end."
   ]
  },
  {
   "cell_type": "code",
   "execution_count": null,
   "metadata": {},
   "outputs": [],
   "source": [
    "1.0e310"
   ]
  },
  {
   "cell_type": "code",
   "execution_count": null,
   "metadata": {},
   "outputs": [],
   "source": [
    "1e-324"
   ]
  },
  {
   "cell_type": "code",
   "execution_count": null,
   "metadata": {},
   "outputs": [],
   "source": [
    "print(type(1234567.567))\n",
    "print(type(1e24))"
   ]
  },
  {
   "cell_type": "markdown",
   "metadata": {},
   "source": [
    "#### Character Strings\n",
    "Any series of characters, digits or other characters enclosed by quotes.  In python these are called ***str***."
   ]
  },
  {
   "cell_type": "code",
   "execution_count": null,
   "metadata": {},
   "outputs": [],
   "source": [
    "'hello'"
   ]
  },
  {
   "cell_type": "code",
   "execution_count": null,
   "metadata": {},
   "outputs": [],
   "source": [
    "\"goodbye\""
   ]
  },
  {
   "cell_type": "code",
   "execution_count": null,
   "metadata": {},
   "outputs": [],
   "source": [
    "'''see you'''"
   ]
  },
  {
   "cell_type": "code",
   "execution_count": null,
   "metadata": {},
   "outputs": [],
   "source": [
    "'Hello, this is a really long string with alot of different kinds of chracters.  It contains letters, 1234, !@#$'"
   ]
  },
  {
   "cell_type": "markdown",
   "metadata": {},
   "source": [
    "What you cant add, without thinking about it first, is a quote inside of a string.  In that case you have to choose your quotes carefully."
   ]
  },
  {
   "cell_type": "code",
   "execution_count": null,
   "metadata": {},
   "outputs": [],
   "source": [
    "'This string contains quotes \"'"
   ]
  },
  {
   "cell_type": "markdown",
   "metadata": {},
   "source": [
    "\"This string contains quotes '\""
   ]
  },
  {
   "cell_type": "code",
   "execution_count": null,
   "metadata": {},
   "outputs": [],
   "source": [
    "'''This string contains both types of quotes ' and \" '''"
   ]
  },
  {
   "cell_type": "code",
   "execution_count": null,
   "metadata": {},
   "outputs": [],
   "source": [
    "\"\"\"This string contains both types of quotes \" and ' \"\"\" "
   ]
  },
  {
   "cell_type": "code",
   "execution_count": null,
   "metadata": {},
   "outputs": [],
   "source": [
    "print(type('this is a string'))"
   ]
  },
  {
   "cell_type": "markdown",
   "metadata": {},
   "source": [
    "#### Boolean Values\n",
    "There are two values associated with the boolean data type.  The values are either True or False.  In python their data type is **bool**. Boolean values can be manipulated in expressions that result in boolean results."
   ]
  },
  {
   "cell_type": "code",
   "execution_count": null,
   "metadata": {},
   "outputs": [],
   "source": [
    "True"
   ]
  },
  {
   "cell_type": "code",
   "execution_count": null,
   "metadata": {},
   "outputs": [],
   "source": [
    "False"
   ]
  },
  {
   "cell_type": "code",
   "execution_count": null,
   "metadata": {},
   "outputs": [],
   "source": [
    "print(type(True))"
   ]
  },
  {
   "cell_type": "markdown",
   "metadata": {},
   "source": [
    "### Variables\n",
    "A variable is nothing more than a name attached to a value in memory."
   ]
  },
  {
   "cell_type": "code",
   "execution_count": null,
   "metadata": {},
   "outputs": [],
   "source": [
    "this_is_a_variable = 100"
   ]
  },
  {
   "cell_type": "markdown",
   "metadata": {},
   "source": [
    "In python a variable cannot be used until it is assigned to.  "
   ]
  },
  {
   "cell_type": "code",
   "execution_count": null,
   "metadata": {
    "scrolled": true
   },
   "outputs": [],
   "source": [
    "b"
   ]
  },
  {
   "cell_type": "markdown",
   "metadata": {},
   "source": [
    "Once assigned a variable points to a type.  This type, unlike other languages, can be changed at any time.  "
   ]
  },
  {
   "cell_type": "code",
   "execution_count": null,
   "metadata": {},
   "outputs": [],
   "source": [
    "variable = 2.5\n",
    "print(variable)"
   ]
  },
  {
   "cell_type": "code",
   "execution_count": null,
   "metadata": {},
   "outputs": [],
   "source": [
    "variable = 'now I am a string'\n",
    "print(variable)"
   ]
  },
  {
   "cell_type": "markdown",
   "metadata": {},
   "source": [
    "When you create a variable what you are doing is asking the computer to:\n",
    "+ allocate a piece of memory for your use \n",
    "+ then you are initializing that piece of memory\n",
    "+ then you are assigning that piece of memory a name"
   ]
  },
  {
   "cell_type": "code",
   "execution_count": null,
   "metadata": {},
   "outputs": [],
   "source": [
    "b = 1\n",
    "c = b\n",
    "print(b, c)\n",
    "print(id(b), id(c))"
   ]
  },
  {
   "cell_type": "markdown",
   "metadata": {},
   "source": [
    "In the above statement we are creating the variable **b** then we are creating a different variable **c** that also points to **b**.  In the above statement there is only one integer created but it has two names.  You can see this by examining the value returned by the function ***id*** which returns the memory id of the value.  "
   ]
  },
  {
   "cell_type": "code",
   "execution_count": null,
   "metadata": {},
   "outputs": [],
   "source": [
    "b = 100\n",
    "print(b, c)\n",
    "print(id(b), id(c))"
   ]
  },
  {
   "cell_type": "markdown",
   "metadata": {},
   "source": [
    "#### Variable Names\n",
    "Variable names can be anything you want, and as long as you want.  There are some restrictions to names:\n",
    "+ Variable names cannot start with a number\n",
    "+ Variable names cannot have any kind of puctuation marks in them\n",
    "+ Variable names cannot be restricted words\n",
    "+ Variable names can have an underscore"
   ]
  },
  {
   "cell_type": "code",
   "execution_count": null,
   "metadata": {},
   "outputs": [],
   "source": [
    "1_am_not_a_valid_variable = 0"
   ]
  },
  {
   "cell_type": "code",
   "execution_count": null,
   "metadata": {},
   "outputs": [],
   "source": [
    "neither_am_* = 0"
   ]
  },
  {
   "cell_type": "code",
   "execution_count": null,
   "metadata": {},
   "outputs": [],
   "source": [
    "import keyword\n",
    "keyword.kwlist"
   ]
  },
  {
   "cell_type": "code",
   "execution_count": null,
   "metadata": {},
   "outputs": [],
   "source": [
    "yield = 0"
   ]
  },
  {
   "cell_type": "markdown",
   "metadata": {},
   "source": [
    "i_am_a_perfectly_valid_variable_name = 0"
   ]
  },
  {
   "cell_type": "markdown",
   "metadata": {},
   "source": [
    "The names you choose for your variables are very important, especially as your program grows.  Choose them wisely.  Which program below looks better to you?"
   ]
  },
  {
   "cell_type": "code",
   "execution_count": null,
   "metadata": {},
   "outputs": [],
   "source": [
    "import datetime\n",
    "x1 = datetime.date.today().year\n",
    "x2 = 1967\n",
    "x3 = x1 - x2\n",
    "print('your age is: ', x3)"
   ]
  },
  {
   "cell_type": "code",
   "execution_count": null,
   "metadata": {},
   "outputs": [],
   "source": [
    "import datetime\n",
    "current_year = datetime.date.today().year\n",
    "birth_year = 1967\n",
    "age = current_year - birth_year\n",
    "print('your age is: ', age)"
   ]
  },
  {
   "cell_type": "markdown",
   "metadata": {},
   "source": [
    "Variables are case sensitive."
   ]
  },
  {
   "cell_type": "code",
   "execution_count": null,
   "metadata": {},
   "outputs": [],
   "source": [
    "age = 51\n",
    "AGE = 52\n",
    "Age = 53\n",
    "print(age,AGE,Age)"
   ]
  },
  {
   "cell_type": "markdown",
   "metadata": {},
   "source": [
    "### Operators\n",
    "In python operators are computations that you apply to variables or constants.  The values that an operator is applied on are called **operands**.  Operators and operands are chained together to create **expressions**."
   ]
  },
  {
   "cell_type": "markdown",
   "metadata": {},
   "source": [
    "#### Arithmetic Operators"
   ]
  },
  {
   "cell_type": "code",
   "execution_count": null,
   "metadata": {},
   "outputs": [],
   "source": [
    "a = 5 # variable assignment\n",
    "b = 10 # variable assignment\n",
    "a + b - 5 # expression definition"
   ]
  },
  {
   "cell_type": "code",
   "execution_count": null,
   "metadata": {},
   "outputs": [],
   "source": [
    "print(+a) # unary positive\n",
    "print(-a) # unary negative\n",
    "print(a + b)  # addition\n",
    "print(a - b) # subtraction\n",
    "print(a * b) # multiplication\n",
    "print(a / b) # division\n",
    "print(a % 2) # modulo (aka remainder)\n",
    "print(b // 3) # integer division\n",
    "print(a ** b) # exponentiation"
   ]
  },
  {
   "cell_type": "markdown",
   "metadata": {},
   "source": [
    "#### Comparison Operators\n",
    "These are operators that return a boolean result when applied."
   ]
  },
  {
   "cell_type": "code",
   "execution_count": null,
   "metadata": {},
   "outputs": [],
   "source": [
    "print(a, b) \n",
    "print(a < b) # less than\n",
    "print(a <= a) # less than or equal\n",
    "print(a > b) # greater than\n",
    "print(a >= b) # greater than or equal\n",
    "print(a == b) # equal to\n",
    "print(a == a) # equal to\n",
    "print(a != b) # not equal to"
   ]
  },
  {
   "cell_type": "markdown",
   "metadata": {},
   "source": [
    "#### Logical Operators\n",
    "Logical operators return boolen results and can be applied to operands that are not only boolean."
   ]
  },
  {
   "cell_type": "code",
   "execution_count": null,
   "metadata": {},
   "outputs": [],
   "source": [
    "x = True \n",
    "y = False\n",
    "print(not x) # logically reverses the state of the boolean\n",
    "print(x and y) # logical and operation\n",
    "print(x or y) # logical or operation"
   ]
  },
  {
   "cell_type": "markdown",
   "metadata": {},
   "source": [
    "#### Logical NOT\n",
    "|X|not X|\n",
    "|:--|:--|\n",
    "|True| False|\n",
    "|False| True|"
   ]
  },
  {
   "cell_type": "markdown",
   "metadata": {},
   "source": [
    "#### Logical AND\n",
    "|X|Y|X and Y|\n",
    "|:--|:--|:--|\n",
    "|True| True |True|\n",
    "|True| False |False|\n",
    "|False| True |False|\n",
    "|False| False |False|\n"
   ]
  },
  {
   "cell_type": "markdown",
   "metadata": {},
   "source": [
    "#### Logical OR\n",
    "|X|Y|X or Y|\n",
    "|:--|:--|:--|\n",
    "|True| True |True|\n",
    "|True| False |True|\n",
    "|False| True |True|\n",
    "|False| False |False|"
   ]
  },
  {
   "cell_type": "markdown",
   "metadata": {},
   "source": [
    "#### Identity Operators\n",
    "The last of the operators allow a user to identify whether we are referring to the same variable.  "
   ]
  },
  {
   "cell_type": "code",
   "execution_count": null,
   "metadata": {},
   "outputs": [],
   "source": [
    "x = 5000\n",
    "y = 5000\n",
    "z = x\n",
    "print(x,y,z)\n",
    "print(x == y)\n",
    "print(y == z)\n",
    "print(x is y)\n",
    "print(x is z)"
   ]
  },
  {
   "cell_type": "markdown",
   "metadata": {},
   "source": [
    "### Operator Precedence\n",
    "As in math opertors python uses a precedence of opertors that everyone should be familiar with.\n",
    "\n",
    "**Highest**\n",
    "+ exponentiation\n",
    "+ multiplication, division, floor division, modulo\n",
    "+ addition, subtraction\n",
    "**Lowest**"
   ]
  },
  {
   "cell_type": "markdown",
   "metadata": {},
   "source": [
    "### Builtin Functions\n",
    "A function is a piece of code that is already defined, performs a steps, and can return a result.  We have seen some functions already.  ***print*** is a function, ***type*** is a function, ***id*** is a function.  \n",
    "\n",
    "Python has a set of functions builtin that we can use when we need to.  We are going to investigate a few."
   ]
  },
  {
   "cell_type": "code",
   "execution_count": null,
   "metadata": {},
   "outputs": [],
   "source": [
    "# Aritmetic operators\n",
    "print('abs(-5) returns ', abs(-5)) # Returns the absolute value of the value passed in\n",
    "print('divmod(10,3) returns ', divmod(10,3)) # Returns the quotient and the remainder\n",
    "print('pow(2,3) returns ', pow(2,3)) # Returns a number passed in to the power also passed in\n",
    "\n",
    "# Conversion functions\n",
    "print('bin(101) returns ', bin(101)) # Converts an integer to its binary representation\n",
    "# in general non boolean values can be converted to boolean, zero is false non zero is true\n",
    "print('bool(1) returns ', bool(1)) # Converts the argument passed in to its boolean equivalent\n",
    "print('bool(0) returns ', bool(0)) # Converts the argument passed in to its boolean equivalent\n",
    "print('float(\"1.0\") returns ', float('1.0')) # Converts the argument passed in to a flating point number\n",
    "print('int(\"23\") returns ', int('23')) # Converts the argument passed in to an integer\n",
    "print('str(23) returns ', str(23)) # Converts the argment passed in to a string"
   ]
  },
  {
   "cell_type": "markdown",
   "metadata": {},
   "source": [
    "### Any Questions?\n",
    "---\n",
    "###### for any questions contact <jimmy@coolkidscodingschool.com> </h6>"
   ]
  }
 ],
 "metadata": {
  "kernelspec": {
   "display_name": "Python 3",
   "language": "python",
   "name": "python3"
  },
  "language_info": {
   "codemirror_mode": {
    "name": "ipython",
    "version": 3
   },
   "file_extension": ".py",
   "mimetype": "text/x-python",
   "name": "python",
   "nbconvert_exporter": "python",
   "pygments_lexer": "ipython3",
   "version": "3.6.4"
  }
 },
 "nbformat": 4,
 "nbformat_minor": 2
}
