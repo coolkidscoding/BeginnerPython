{
 "cells": [
  {
   "cell_type": "markdown",
   "metadata": {},
   "source": [
    "![](images/ckcslogo.png)\n",
    "---\n",
    "### [Cool Kids Coding School](http://www.coolkidscodingschool.com)   \n",
    "### Course: Introductory Python \n",
    "### Lesson 2: Variables and Operators Homework (Part1)\n",
    "---"
   ]
  },
  {
   "cell_type": "markdown",
   "metadata": {},
   "source": [
    "#### Question #1 ####\n",
    "Create a markdown cell below this cell and answer:\n",
    "what are the 3 steps that a programming language completes in order to create a variable in Python?\n",
    "\n",
    "---"
   ]
  },
  {
   "cell_type": "markdown",
   "metadata": {},
   "source": [
    "#### Question #2 ####\n",
    "Create a markdown cell below this cell and answer:\n",
    "What are 4 data types that we learned in the lesson?  Create a variable with each.\n",
    "\n",
    "---"
   ]
  },
  {
   "cell_type": "markdown",
   "metadata": {},
   "source": [
    "#### Question #3 ####\n",
    "Create a markdown cell below this cell and answer:\n",
    "What is one thing that a variable name CANNOT start with?\n",
    "\n",
    "---"
   ]
  },
  {
   "cell_type": "markdown",
   "metadata": {},
   "source": [
    "#### Question #4 ####\n",
    "Create a markdown cell below this cell and answer:\n",
    "Refer to the code at the end of this question.  What is the output going to be if I execute the cell?\n",
    "\n",
    "```python\n",
    "a=5\n",
    "b=5\n",
    "print('a<=b', a<=b)\n",
    "print('a>=b', a>=b)\n",
    "```\n",
    "---"
   ]
  },
  {
   "cell_type": "markdown",
   "metadata": {},
   "source": [
    "#### Question #5 ####\n",
    "Refer to the code at the end of this question.  What is the output going to be?\n",
    "```python\n",
    "3 + 4 * (1 + 2) / 12\n",
    "```\n",
    "---"
   ]
  },
  {
   "cell_type": "markdown",
   "metadata": {},
   "source": [
    "#### Question #6 ####\n",
    "Name 4 operators that Python supports?\n",
    "\n",
    "---"
   ]
  },
  {
   "cell_type": "markdown",
   "metadata": {},
   "source": [
    "## Any Questions?\n",
    "---\n",
    "###### for any questions contact <jimmy@coolkidscodingschool.com> or <ayesha@coolkidscodingschool.com>"
   ]
  }
 ],
 "metadata": {
  "kernelspec": {
   "display_name": "Python 3",
   "language": "python",
   "name": "python3"
  },
  "language_info": {
   "codemirror_mode": {
    "name": "ipython",
    "version": 3
   },
   "file_extension": ".py",
   "mimetype": "text/x-python",
   "name": "python",
   "nbconvert_exporter": "python",
   "pygments_lexer": "ipython3",
   "version": "3.6.4"
  }
 },
 "nbformat": 4,
 "nbformat_minor": 2
}
