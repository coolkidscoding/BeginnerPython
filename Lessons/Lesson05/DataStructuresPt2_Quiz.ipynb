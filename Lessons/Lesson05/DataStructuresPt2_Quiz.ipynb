{
 "cells": [
  {
   "cell_type": "markdown",
   "metadata": {},
   "source": [
    "<div>\n",
    "\n",
    "<p>\n",
    "<img align=left src=\"images/ckcslogo.png\">\n",
    "</p>\n",
    "\n",
    "---\n",
    "\n",
    "<p>\n",
    "<H1 align=left><a href=\"http://www.coolkidscodingschool.com\">Cool Kids Coding School</a></H1>\n",
    "<H2 align=left>Course: <strong>Introductory Python</strong></H1>\n",
    "<H3 align=left>Lesson 5: <strong>Quiz Data Structures</strong></H3>\n",
    "</p>\n",
    "\n",
    "</div>\n",
    "\n",
    "---\n"
   ]
  },
  {
   "cell_type": "markdown",
   "metadata": {},
   "source": [
    "#### Question 1:"
   ]
  },
  {
   "cell_type": "markdown",
   "metadata": {},
   "source": [
    "In this exercise we will test and work with the **List** data structure.  Follow the instructions in the comments of the code cell below."
   ]
  },
  {
   "cell_type": "code",
   "execution_count": 1,
   "metadata": {},
   "outputs": [],
   "source": [
    "# create an empty list\n",
    "\n",
    "# add three elements of different types to the list\n",
    "\n",
    "# use python to figure out the length of the list\n",
    "\n",
    "# print the 1st element in the list\n",
    "\n",
    "# search for the number 5 in your list\n"
   ]
  },
  {
   "cell_type": "markdown",
   "metadata": {},
   "source": [
    "#### Question 2:"
   ]
  },
  {
   "cell_type": "markdown",
   "metadata": {},
   "source": [
    "In this exercise we will test and work with the **Dictionary** data structure.  Follow the instructions in the comments of the code cell below."
   ]
  },
  {
   "cell_type": "code",
   "execution_count": null,
   "metadata": {},
   "outputs": [],
   "source": [
    "# create an empty dictionary\n",
    "\n",
    "# create a dictionary with the following key:value pairs already in it 'one':1, 'two':2, 'three':3\n",
    "\n",
    "# add three key:value pairs to the dictionary, use these keys 'key1', 'key2', 'key3' the values should be numbers\n",
    "\n",
    "# what is the length of the dictionary\n",
    "\n",
    "# search your dictionary for the key 'key4'\n"
   ]
  },
  {
   "cell_type": "markdown",
   "metadata": {},
   "source": [
    "#### Question 3:"
   ]
  },
  {
   "cell_type": "markdown",
   "metadata": {},
   "source": [
    "In this exercise we will test and work with the **tuple** data structure.  Follow the instructions in the comments of the code cell below."
   ]
  },
  {
   "cell_type": "code",
   "execution_count": 1,
   "metadata": {},
   "outputs": [],
   "source": [
    "# create a variable that holds an empty tuple\n",
    "\n",
    "# print out the type of the variable above\n",
    "\n",
    "# create a variable that holds a tuple with 3 elements in it.  This tuple should represent your favorite player\n",
    "# from your favorite sport.  The elements in the tuple should be name, team, jersey number\n",
    "\n",
    "# create two more tuples like the one above\n",
    "\n",
    "# add the tuples you just created to a list\n",
    "\n",
    "# print out the list"
   ]
  },
  {
   "cell_type": "markdown",
   "metadata": {},
   "source": [
    "## Any Questions?\n",
    "---\n",
    "###### for any questions contact <hw_help@coolkidscodingschool.com>"
   ]
  }
 ],
 "metadata": {
  "kernelspec": {
   "display_name": "Python 3",
   "language": "python",
   "name": "python3"
  },
  "language_info": {
   "codemirror_mode": {
    "name": "ipython",
    "version": 3
   },
   "file_extension": ".py",
   "mimetype": "text/x-python",
   "name": "python",
   "nbconvert_exporter": "python",
   "pygments_lexer": "ipython3",
   "version": "3.8.1"
  }
 },
 "nbformat": 4,
 "nbformat_minor": 2
}
