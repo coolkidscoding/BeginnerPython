{
 "cells": [
  {
   "cell_type": "markdown",
   "metadata": {},
   "source": [
    "<div>\n",
    "\n",
    "<p>\n",
    "<img align=left src=\"images/ckcslogo.png\">\n",
    "</p>\n",
    "\n",
    "---\n",
    "\n",
    "<p>\n",
    "<H1 align=left><a href=\"http://www.coolkidscodingschool.com\">Cool Kids Coding School</a></H1>\n",
    "<H2 align=left>Course: <strong>Introductory Python</strong></H1>\n",
    "<H3 align=left>Lesson 5: <strong>Data Structures II (In Class Assignment)</strong></H3>\n",
    "</p>\n",
    "\n",
    "</div>\n",
    "\n",
    "---\n"
   ]
  },
  {
   "cell_type": "markdown",
   "metadata": {},
   "source": [
    "#### Exercise 1:"
   ]
  },
  {
   "cell_type": "markdown",
   "metadata": {},
   "source": [
    "In this exercise we will test and work with the **tuple** data structure.  Follow the instructions in the comments of the code cell below."
   ]
  },
  {
   "cell_type": "code",
   "execution_count": 1,
   "metadata": {},
   "outputs": [],
   "source": [
    "# create a variable that holds an empty tuple\n",
    "\n",
    "# print out the type of the variable above\n",
    "\n",
    "# create a variable that holds a tuple with 3 elements in it.  This tuple should represent your favorite player\n",
    "# from your favorite sport.  The elements in the tuple should be name, team, jersey number\n",
    "\n",
    "# create two more tuples like the one above\n",
    "\n",
    "# add the tuples you just created to a list\n",
    "\n",
    "# print out the list"
   ]
  },
  {
   "cell_type": "markdown",
   "metadata": {},
   "source": [
    "#### Exercise 2:"
   ]
  },
  {
   "cell_type": "markdown",
   "metadata": {},
   "source": [
    "In this exercise we will test and work with the **set** data structure.  Follow the instructions in the comments of the code cell below."
   ]
  },
  {
   "cell_type": "code",
   "execution_count": 2,
   "metadata": {},
   "outputs": [],
   "source": [
    "# create variable that holds an empty set\n",
    "\n",
    "# add 3 elements to the set you just created above using the add function \n",
    "\n",
    "# use the below sets for the remaining questions:\n",
    "s1 = {'one', 'two', 'three'}\n",
    "s2 = {'three', 'four', 'five', 'six'}\n",
    "\n",
    "# what is the union of these two sets\n",
    "\n",
    "# what is the intersection of these two sets\n",
    "\n",
    "# what is the difference of s1 and s2\n",
    "\n",
    "# what is the difference of s2 and s1\n"
   ]
  },
  {
   "cell_type": "markdown",
   "metadata": {},
   "source": [
    "## Any Questions?\n",
    "---\n",
    "###### for any questions contact <hw_help@coolkidscodingschool.com>"
   ]
  }
 ],
 "metadata": {
  "kernelspec": {
   "display_name": "Python 3",
   "language": "python",
   "name": "python3"
  },
  "language_info": {
   "codemirror_mode": {
    "name": "ipython",
    "version": 3
   },
   "file_extension": ".py",
   "mimetype": "text/x-python",
   "name": "python",
   "nbconvert_exporter": "python",
   "pygments_lexer": "ipython3",
   "version": "3.6.4"
  }
 },
 "nbformat": 4,
 "nbformat_minor": 2
}