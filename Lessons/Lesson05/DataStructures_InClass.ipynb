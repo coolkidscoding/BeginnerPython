{
 "cells": [
  {
   "cell_type": "markdown",
   "metadata": {},
   "source": [
    "## [Cool Kids Coding School](http://www.coolkidscodingschool.com)  \n",
    "\n",
    "##### _Introductory Python_  \n",
    "##### Lesson 5: Data Structures InClass\n",
    "\n",
    "---"
   ]
  },
  {
   "cell_type": "markdown",
   "metadata": {},
   "source": [
    "Complete the following exercises in class during Lesson 5.  These exercises will reinforce and solidify your understanding of the **Data Structures** lesson."
   ]
  },
  {
   "cell_type": "markdown",
   "metadata": {},
   "source": [
    "#### Exercise 1\n",
    "In the code cell below you will test your understanding of the **List** data structure.  Follow the instructions below."
   ]
  },
  {
   "cell_type": "code",
   "execution_count": 1,
   "metadata": {},
   "outputs": [],
   "source": [
    "# this is the list we are going to start with\n",
    "test_variable1 = ['hello', 1, 2, 'a', True]\n",
    "\n",
    "# what is the type of test_variable1\n",
    "\n",
    "# what is the length of test_variable1\n",
    "\n",
    "# what is the index range of the elements in test_variable1, write it as a list so it doesn't generate an error when execute the cell\n",
    "\n",
    "# add a list element to the end with 3 elements in it to test_variable1\n",
    "\n",
    "# add the elements of a list to the end of test_variable1\n",
    "\n",
    "# get the 2nd element of the list element you just added to test_variable1\n",
    "\n",
    "# change the 3rd element of the list element you just added to False\n",
    "\n",
    "# change the 5th element in test_variable1 to False\n",
    "\n",
    "# add 1 to the 2nd and 3rd element in test_variable1 list\n",
    "\n",
    "# get the 3rd letter of the 1st element in test_variable1 list\n",
    "\n",
    "# get the 4th element of test_variable1\n",
    "\n",
    "# get the sublist of test_variable1, consisting of the 2nd, 3rd, and 4th element\n",
    "\n",
    "# get the sublist of test_variable1, consisting of the 3rd element until the end\n",
    "\n",
    "# get the sublist of test_variable1, consisting of all the elements up to and including the 3rd element\n",
    "\n",
    "# is the value 3 in test_variable1\n",
    "\n",
    "# is the value 99 in test_variable1\n",
    "\n",
    "# is the value 101 not in test_variable1\n",
    "\n",
    "# delete the 1st element of test_valriable1\n",
    "\n",
    "# clear test_variable1\n"
   ]
  },
  {
   "cell_type": "markdown",
   "metadata": {},
   "source": [
    "#### Exercise 2\n",
    "In the code cell below you will test your understanding of the **Dictionary** data structure.  Follow the instructions below."
   ]
  },
  {
   "cell_type": "code",
   "execution_count": 2,
   "metadata": {},
   "outputs": [],
   "source": [
    "# this is the dictionary we are going to start with\n",
    "test_variable2 = {'Colorado':'Rockies', 'New York':'Yankees', 'Boston':'Red Sox', 'Seattle':'Mariners', 'Brooklyn':'Dodgers'}\n",
    "\n",
    "# what is the length of test_variable2\n",
    "\n",
    "# what is the type of test_variable2\n",
    "\n",
    "# what are the keys of test_variable2\n",
    "\n",
    "# what are the items of test_variable2\n",
    "\n",
    "# what is the type of the 1st element of the items of test_variable2\n",
    "\n",
    "# add an element to test_variable2, using key Florida and team name Marlins\n",
    "\n",
    "# change the element with the key New York to Mets\n",
    "\n",
    "# delete the element with key Brooklyn\n",
    "\n",
    "# what is the value of the element with key Boston\n",
    "\n",
    "# what is the value of the element with key Toronto\n",
    "\n",
    "# is the element with key 'Seattle' in test_variable2\n",
    "\n",
    "# is the element with key 'Brooklyn' in test_variable2\n",
    "\n",
    "# clear test_variable2\n"
   ]
  },
  {
   "cell_type": "markdown",
   "metadata": {},
   "source": [
    "#### Exercise 3\n",
    "In the code cell below you will test your understanding of the **Tuple** data structure.  Follow the instructions below."
   ]
  },
  {
   "cell_type": "code",
   "execution_count": 3,
   "metadata": {},
   "outputs": [],
   "source": [
    "# this is the tuple we are going to start with\n",
    "test_variable3 = ('Lebron James', 'Lakers', 23)\n",
    "\n",
    "# what is the length of test_variable3\n",
    "\n",
    "# get the 1st element of the tuple\n",
    "\n",
    "# get the 2nd element of the tuple\n",
    "\n",
    "# unpack the test_variable3 tuple into 3 distinct variables\n",
    "\n",
    "# what is the type of test_variable3\n",
    "\n",
    "# change the value of the 2nd element in test_variable3 to Cavaliers, did it work?\n"
   ]
  },
  {
   "cell_type": "markdown",
   "metadata": {},
   "source": [
    "#### Exercise 4\n",
    "In the code cell below you will test your understanding of the **Set** data structure.  Follow the instructions below."
   ]
  },
  {
   "cell_type": "code",
   "execution_count": 4,
   "metadata": {},
   "outputs": [],
   "source": [
    "# this is the set we are going to start with\n",
    "test_variable4 = {5,6,7,8,9,10}\n",
    "\n",
    "# create a set from a list with the elements 1,2,3,4,5,6 in it, name it test_variable5\n",
    "\n",
    "# create a set from a tuple with the elements 3,4,5 in it, name it test_variable6\n",
    "\n",
    "# what is the type of test_variable4\n",
    "\n",
    "# what is the length of test_variable4\n",
    "\n",
    "# what is the 3rd value in test_variable4\n",
    "\n",
    "# change the 4th value in test_variable4 to 5, are there 2 5's in the set now\n",
    "\n",
    "# is the value 10 in the test_variable4\n",
    "\n",
    "# is the value 1 in test_variable4\n",
    "\n",
    "# what is the union of test_variable4 and test_variable5\n",
    "\n",
    "# what is the union of test_variable5 and test_variable6\n",
    "\n",
    "# what is the intersection of test_variable4, test_variable5 and test_variable6\n",
    "\n",
    "# what is the intersection of test_variable5 and test_variable6\n",
    "\n",
    "# what elements are in test_variable4 but not in test_variable5\n",
    "\n",
    "# what elements are in test_variable5 but not in test_variable6\n",
    "\n",
    "# what elements are in test_variable4 or test_variable5 but not in both\n",
    "\n",
    "# what elements are in test_variable5 or test_variable6 but not in both\n",
    "\n",
    "# is test_variable6 a subset of test_variable4\n",
    "\n",
    "# is test_variable6 a subset of test_variable5\n",
    "\n",
    "# is test_variable5 a superset of test_variable6\n"
   ]
  },
  {
   "cell_type": "markdown",
   "metadata": {},
   "source": [
    "---\n",
    "##### Any Questions?"
   ]
  },
  {
   "cell_type": "code",
   "execution_count": null,
   "metadata": {},
   "outputs": [],
   "source": []
  }
 ],
 "metadata": {
  "kernelspec": {
   "display_name": "Python [conda env:PDSH]",
   "language": "python",
   "name": "conda-env-PDSH-py"
  },
  "language_info": {
   "codemirror_mode": {
    "name": "ipython",
    "version": 3
   },
   "file_extension": ".py",
   "mimetype": "text/x-python",
   "name": "python",
   "nbconvert_exporter": "python",
   "pygments_lexer": "ipython3",
   "version": "3.5.4"
  }
 },
 "nbformat": 4,
 "nbformat_minor": 2
}
