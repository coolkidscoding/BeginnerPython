{
 "cells": [
  {
   "cell_type": "markdown",
   "metadata": {},
   "source": [
    "<div>\n",
    "\n",
    "<p>\n",
    "<img align=left src=\"images/ckcslogo.png\">\n",
    "</p>\n",
    "\n",
    "---\n",
    "\n",
    "<p>\n",
    "<H1 align=left><a href=\"http://www.coolkidscodingschool.com\">Cool Kids Coding School</a></H1>\n",
    "<H2 align=left>Course: <strong>Introductory Python</strong></H1>\n",
    "<H3 align=left>Lesson 4: <strong>Data Structures I (In Class Assignment)</strong></H3>\n",
    "</p>\n",
    "\n",
    "</div>\n",
    "\n",
    "---"
   ]
  },
  {
   "cell_type": "markdown",
   "metadata": {},
   "source": [
    "#### Exercise 1:"
   ]
  },
  {
   "cell_type": "markdown",
   "metadata": {},
   "source": [
    "In this exercise we will test and work with the **List** data structure.  Follow the instructions in the comments of the code cell below."
   ]
  },
  {
   "cell_type": "code",
   "execution_count": 1,
   "metadata": {},
   "outputs": [],
   "source": [
    "# create an empty list\n",
    "\n",
    "# add three elements of different types to the list\n",
    "\n",
    "# use python to figure out the length of the list\n",
    "\n",
    "# print the 1st element in the list"
   ]
  },
  {
   "cell_type": "markdown",
   "metadata": {},
   "source": [
    "#### Exercise 2:"
   ]
  },
  {
   "cell_type": "markdown",
   "metadata": {},
   "source": [
    "In this exercise we will test and work with the **Dictionary** data structure.  Follow the instructions in the comments of the code cell below."
   ]
  },
  {
   "cell_type": "code",
   "execution_count": 2,
   "metadata": {},
   "outputs": [],
   "source": [
    "# create an empty dictionary\n",
    "\n",
    "# add three key:value pairs to the dictionary, use these keys 'key1', 'key2', 'key3'\n",
    "\n",
    "# print the keys of the dictionary\n",
    "\n",
    "# print the values of the dictionary\n",
    "\n",
    "# what is the length of the dictionary\n"
   ]
  },
  {
   "cell_type": "markdown",
   "metadata": {},
   "source": [
    "## Any Questions?\n",
    "---\n",
    "###### for any questions contact <hw_help@coolkidscodingschool.com>"
   ]
  }
 ],
 "metadata": {
  "kernelspec": {
   "display_name": "Python 3",
   "language": "python",
   "name": "python3"
  },
  "language_info": {
   "codemirror_mode": {
    "name": "ipython",
    "version": 3
   },
   "file_extension": ".py",
   "mimetype": "text/x-python",
   "name": "python",
   "nbconvert_exporter": "python",
   "pygments_lexer": "ipython3",
   "version": "3.6.4"
  }
 },
 "nbformat": 4,
 "nbformat_minor": 2
}