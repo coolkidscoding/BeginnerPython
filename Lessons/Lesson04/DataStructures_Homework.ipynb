{
 "cells": [
  {
   "cell_type": "markdown",
   "metadata": {},
   "source": [
    "## [Cool Kids Coding School](http://www.coolkidscodingschool.com)  \n",
    "\n",
    "+ ### _Introductory Python_  \n",
    "+ #### Lesson 4: Data Structures Homework\n",
    "\n",
    "---"
   ]
  },
  {
   "cell_type": "markdown",
   "metadata": {},
   "source": [
    "Under each exercise you will find a code cell that is partially complete.  For these exercises you will complete the code ineach cell.  This homework is due at the beginning of the next class."
   ]
  },
  {
   "cell_type": "markdown",
   "metadata": {},
   "source": [
    "#### Exercise 1:"
   ]
  },
  {
   "cell_type": "markdown",
   "metadata": {},
   "source": [
    "In this exercise we will test and work with the **List** data structure.  Follow the instructions in the comments of the code cell below."
   ]
  },
  {
   "cell_type": "code",
   "execution_count": null,
   "metadata": {},
   "outputs": [],
   "source": [
    "# (1) create an empty list\n",
    "\n",
    "# (2) add three elements of different types to the list\n",
    "\n",
    "# (3) use python to figure out the length of the list\n",
    "\n",
    "# (4) add a 4th element to the list, any data type you want\n",
    "\n",
    "# (5) add another element to the list, this time the element should be a list\n",
    "\n",
    "# (6) print the 1st element in the list\n",
    "\n",
    "# (7) print the 4th element in the list\n",
    "\n",
    "# (8) print the slice of the 2nd, 3rd and 4th elements of this list\n",
    "\n",
    "# (9) change the 5th element of the list to the value None\n",
    "\n",
    "# (10) Use python to figure out if the list has an element that is the integer 7"
   ]
  },
  {
   "cell_type": "markdown",
   "metadata": {},
   "source": [
    "#### Exercise 2:"
   ]
  },
  {
   "cell_type": "markdown",
   "metadata": {},
   "source": [
    "In this exercise we will test and work with the **Dictionary** data structure.  Follow the instructions in the comments of the code cell below."
   ]
  },
  {
   "cell_type": "code",
   "execution_count": null,
   "metadata": {},
   "outputs": [],
   "source": [
    "# (1) create an empty dictionary\n",
    "\n",
    "# (2) add five key:value pairs to the dictionary, use these keys 'key1', 'key2', 'key3', 'key4', 'key5'\n",
    "\n",
    "# (3) print the keys of the dictionary\n",
    "\n",
    "# (4) print the values of the dictionary\n",
    "\n",
    "# (5) use python to figure out if there exists a value in the dictionary with a key value of 'key3'\n",
    "\n",
    "# (6) use python to figure out if there exists a value in the dictionary with a key value of 'key7'\n",
    "\n",
    "# (7) change the element under key value 'key2' to None\n",
    "\n",
    "# (8) use python to figure out how many elements are in this dictionary\n"
   ]
  },
  {
   "cell_type": "markdown",
   "metadata": {},
   "source": [
    "#### Exercise 3:"
   ]
  },
  {
   "cell_type": "markdown",
   "metadata": {},
   "source": [
    "In this exercise we will test and work with the **Tuple** data structure.  Follow the instructions in the comments of the code cell below."
   ]
  },
  {
   "cell_type": "code",
   "execution_count": null,
   "metadata": {},
   "outputs": [],
   "source": [
    "# (1) create a tuple with three elements that are logically related\n",
    "\n",
    "# (2) what is the type of this tuple\n",
    "\n",
    "# (3) what is the value of the 2nd element in the tuple you just created\n",
    "\n",
    "# (4) change the value of the 1st element in the tuple you just created to None\n",
    "\n",
    "# (5) did it work?  why or why not\n",
    "\n",
    "# (6) create a dictionary where the keys are tuples.  an example can be a dictionary that has a key consist of a team name and\n",
    "#     jersey number and the value is the players name\n"
   ]
  },
  {
   "cell_type": "markdown",
   "metadata": {},
   "source": [
    "#### Exercise 4:"
   ]
  },
  {
   "cell_type": "markdown",
   "metadata": {},
   "source": [
    "In this exercise we will test and work with the **Set** data structure.  Follow the instructions in the comments of the code cell below."
   ]
  },
  {
   "cell_type": "code",
   "execution_count": null,
   "metadata": {},
   "outputs": [],
   "source": [
    "# (1) create a set with four elements\n",
    "\n",
    "# (2) add the same elements to the set again\n",
    "\n",
    "# (3) print the set, do the elements appear twice? why or why not\n"
   ]
  },
  {
   "cell_type": "markdown",
   "metadata": {},
   "source": [
    "#### Exercise 5:"
   ]
  },
  {
   "cell_type": "markdown",
   "metadata": {},
   "source": [
    "In this exercise we will learn a little about **Set Theory**.  This is an important topic that you will learn, if you already have not.  Set theory is a branch of mathematical logic that studies sets, which informally are collections of objects. Although any type of object can be collected into a set, set theory is applied most often to objects that are relevant to mathematics.  A method of graphically displaying set operations is thru the use of **Venn Diagrams**."
   ]
  },
  {
   "cell_type": "markdown",
   "metadata": {},
   "source": [
    "![venn diagrams](images/set-operations-venn-diagrams.png)"
   ]
  },
  {
   "cell_type": "code",
   "execution_count": 1,
   "metadata": {},
   "outputs": [],
   "source": [
    "# here are the definitions of a few sets\n",
    "A = {1,2,3,5,7,9,10}\n",
    "B = {5,7,3,12,16}\n",
    "C = {3,5,7}\n",
    "\n",
    "# find the intersection of set A and B\n",
    "\n",
    "# find the union of set A and B\n",
    "\n",
    "# is set A a subset of B\n",
    "\n",
    "# is set B a subset of A\n",
    "\n",
    "# is set C a subset of A\n",
    "\n",
    "# is set C a subset of B\n",
    "\n",
    "# find the difference set between A and B (these are the elements in A that are not in B)\n",
    "\n",
    "# find the symmetric difference between A and B (these are the elements in A or B but not both)\n"
   ]
  },
  {
   "cell_type": "markdown",
   "metadata": {},
   "source": [
    "## Any Questions?\n",
    "---\n",
    "###### for any questions contact <jimmy@coolkidscodingschool.com>"
   ]
  }
 ],
 "metadata": {
  "kernelspec": {
   "display_name": "Python [conda env:PDSH]",
   "language": "python",
   "name": "conda-env-PDSH-py"
  },
  "language_info": {
   "codemirror_mode": {
    "name": "ipython",
    "version": 3
   },
   "file_extension": ".py",
   "mimetype": "text/x-python",
   "name": "python",
   "nbconvert_exporter": "python",
   "pygments_lexer": "ipython3",
   "version": "3.5.4"
  }
 },
 "nbformat": 4,
 "nbformat_minor": 2
}
