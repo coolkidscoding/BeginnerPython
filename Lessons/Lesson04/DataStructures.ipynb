{
 "cells": [
  {
   "cell_type": "markdown",
   "metadata": {},
   "source": [
    "# [Cool Kids Coding School](http://www.coolkidscodingschool.com)\n",
    "\n",
    "## Course: Introductory Python\n",
    "### Lesson 4: Data Structures\n",
    "\n",
    "---"
   ]
  },
  {
   "cell_type": "markdown",
   "metadata": {},
   "source": [
    "### Overview\n",
    "- Welcome!\n",
    "- Go over syllabus objectives for today\n",
    "- Key points from last lesson\n",
    "- What is the motivation behind data structures?\n",
    "- Discuss what a data structure is\n",
    "- Discuss different types of data structures\n",
    "- How do we load data into a data structure?\n",
    "- How do we search through a data structure?\n",
    "- Review homework"
   ]
  },
  {
   "cell_type": "markdown",
   "metadata": {},
   "source": [
    "### Key points from last lesson\n",
    "+ There are four different data types we are going to deal with in this class\n",
    "    + int\n",
    "    + float\n",
    "    + str\n",
    "    + bool\n",
    "+ Variables are used to store data types.    \n",
    "+ Operators are used to modify and manipulate variables.\n",
    "+ There are several different types of operators.\n",
    "    + arithmetic operators\n",
    "    + comparison operators"
   ]
  },
  {
   "cell_type": "markdown",
   "metadata": {},
   "source": [
    "### What is the motivation behind data structures?\n",
    "Variables so far are great.  We can store a single value in a variable.  What if we needed to store and manage alot of information? \n",
    "The government, for instance, needs to store the social security number for every person in the US.  Do you think they have a program with 350 million variables?  That would be too difficult.  The maintenance on that program would be incredible!"
   ]
  },
  {
   "cell_type": "markdown",
   "metadata": {},
   "source": [
    "### Discuss what a data structure is?\n",
    "To solve this problem, Computer Scientists created the idea of **Data Structures**.  **Data structures** are programing components builtin to the language that can help you manage larger amounts of information in a program context.  We can use data structures to manage data that is logically related.  You use data structures in your daily life.  \n",
    "+ When you or someone from your family goes to the supermarket for grocery shopping many times they have a list of things they need to buy.\n",
    "+ When you are looking for a piece of information in a book you use the index or the table of contents to zoom into the page that has the information instead of looking through every page.\n",
    "+ When you filled out the student information sheet at the beginning of the course I asked you for all the information about you and I grouped that information together on one sheet."
   ]
  },
  {
   "cell_type": "markdown",
   "metadata": {},
   "source": [
    "### Different types of data structures\n",
    "There are many types of data structures.  The data structures that we will discuss are builtin to the language.  There are more advanced programming techniques where a computer scientist can define their own data structure as well.  We will learn about these in future courses.  The creation of custom data structures is the basis of **Object Oriented Programming**.\n",
    "#### Builtin Data Structures\n",
    "+ List\n",
    "+ Dict\n",
    "+ Tuple \n",
    "+ Set\n",
    "\n",
    "We are going to learn about each one in turn.\n",
    "\n",
    "#### List\n",
    "A **List** is an ordered data structure.  The order that data is added, is the order that they stay in, unless you change it.  A **List** can be created with data or without data.  Data can be added or removed.\n",
    "In Python a **List** and any other data structure"
   ]
  },
  {
   "cell_type": "markdown",
   "metadata": {},
   "source": [
    "##### Creating a List"
   ]
  },
  {
   "cell_type": "code",
   "execution_count": 1,
   "metadata": {},
   "outputs": [
    {
     "data": {
      "text/plain": [
       "list"
      ]
     },
     "execution_count": 1,
     "metadata": {},
     "output_type": "execute_result"
    }
   ],
   "source": [
    "# this is an empty list\n",
    "list_variable = []\n",
    "type(list_variable)"
   ]
  },
  {
   "cell_type": "code",
   "execution_count": 4,
   "metadata": {},
   "outputs": [
    {
     "name": "stdout",
     "output_type": "stream",
     "text": [
      "[1, 2, 3, 4, 5]\n"
     ]
    }
   ],
   "source": [
    "# this is a list with data in it\n",
    "list_variable2 = [1,2,3,4,5]\n",
    "print(list_variable2)"
   ]
  },
  {
   "cell_type": "markdown",
   "metadata": {},
   "source": [
    "In Python all data structures can hold any data type including other data structures."
   ]
  },
  {
   "cell_type": "code",
   "execution_count": 5,
   "metadata": {},
   "outputs": [
    {
     "name": "stdout",
     "output_type": "stream",
     "text": [
      "[1, 2, 3.14, 'hello', True]\n"
     ]
    }
   ],
   "source": [
    "# a list with different data types in it\n",
    "list_variable3 = [1, 2, 3.14, 'hello', True]\n",
    "print(list_variable3)"
   ]
  },
  {
   "cell_type": "code",
   "execution_count": 8,
   "metadata": {},
   "outputs": [
    {
     "name": "stdout",
     "output_type": "stream",
     "text": [
      "[1, 2, 5.7, 8.2, 10000.0, [4, 5, 6.7]]\n"
     ]
    }
   ],
   "source": [
    "# a list with another list in it\n",
    "list_variable3 = [1, 2, 5.7, 8.2, 1e4, [4,5,6.7]]\n",
    "print(list_variable3)"
   ]
  },
  {
   "cell_type": "code",
   "execution_count": null,
   "metadata": {},
   "outputs": [],
   "source": []
  }
 ],
 "metadata": {
  "kernelspec": {
   "display_name": "Python 3",
   "language": "python",
   "name": "python3"
  },
  "language_info": {
   "codemirror_mode": {
    "name": "ipython",
    "version": 3
   },
   "file_extension": ".py",
   "mimetype": "text/x-python",
   "name": "python",
   "nbconvert_exporter": "python",
   "pygments_lexer": "ipython3",
   "version": "3.6.4"
  }
 },
 "nbformat": 4,
 "nbformat_minor": 2
}
