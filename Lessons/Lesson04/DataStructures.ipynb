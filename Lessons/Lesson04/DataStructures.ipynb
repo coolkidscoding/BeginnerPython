{
 "cells": [
  {
   "cell_type": "markdown",
   "metadata": {},
   "source": [
    "# [Cool Kids Coding School](http://www.coolkidscodingschool.com)\n",
    "\n",
    "## Course: Introductory Python\n",
    "### Lesson 4: Data Structures\n",
    "\n",
    "---"
   ]
  },
  {
   "cell_type": "markdown",
   "metadata": {},
   "source": [
    "### Overview\n",
    "- Welcome!\n",
    "- Go over syllabus objectives for today\n",
    "- Key points from last lesson\n",
    "- What is the motivation behind data structures?\n",
    "- Discuss what a data structure is\n",
    "- Discuss different types of data structures\n",
    "- How do we load data into a data structure?\n",
    "- How do we search through a data structure?\n",
    "- Review homework"
   ]
  },
  {
   "cell_type": "markdown",
   "metadata": {},
   "source": [
    "### Key points from last lesson\n",
    "+ There are four different data types we are going to deal with in this class\n",
    "    + int\n",
    "    + float\n",
    "    + str\n",
    "    + bool\n",
    "+ Variables are used to store data types.    \n",
    "+ Operators are used to modify and manipulate variables.\n",
    "+ There are several different types of operators.\n",
    "    + arithmetic operators\n",
    "    + comparison operators"
   ]
  },
  {
   "cell_type": "markdown",
   "metadata": {},
   "source": [
    "### What is the motivation behind data structures?\n",
    "Variables so far are great.  We can store a single value in a variable.  What if we needed to store and manage alot of information? \n",
    "The government, for instance, needs to store the social security number for every person in the US.  Do you think they have a program with 350 million variables?  That would be too difficult.  The maintenance on that program would be incredible!"
   ]
  },
  {
   "cell_type": "markdown",
   "metadata": {},
   "source": [
    "### Discuss what a data structure is?\n",
    "To solve this problem, Computer Scientists created the idea of **Data Structures**.  **Data structures** are programing components builtin to the language that can help you manage larger amounts of information in a program context.  We can use data structures to manage data that is logically related.  You use data structures in your daily life.  \n",
    "+ When you or someone from your family goes to the supermarket for grocery shopping many times they have a list of things they need to buy.\n",
    "+ When you are looking for a piece of information in a book you use the index or the table of contents to zoom into the page that has the information instead of looking through every page.\n",
    "+ When you filled out the student information sheet at the beginning of the course I asked you for all the information about you and I grouped that information together on one sheet."
   ]
  },
  {
   "cell_type": "markdown",
   "metadata": {},
   "source": [
    "### Different types of data structures\n",
    "There are many types of data structures.  The data structures that we will discuss are builtin to the language.  There are more advanced programming techniques where a computer scientist can define their own data structure as well.  We will learn about these in future courses.  The creation of custom data structures is the basis of **Object Oriented Programming**.\n",
    "#### Builtin Data Structures\n",
    "+ List\n",
    "+ Dict\n",
    "+ Tuple \n",
    "+ Set\n",
    "\n",
    "We are going to learn about each one in turn.\n",
    "\n",
    "#### List\n",
    "A **List** is an ordered data structure.  The order that data is added, is the order that they stay in, unless you change it.  A **List** can be created with data or without data.  Data can be added or removed.\n",
    "In Python a **List** and any other data structure"
   ]
  },
  {
   "cell_type": "markdown",
   "metadata": {},
   "source": [
    "##### Creating a List"
   ]
  },
  {
   "cell_type": "code",
   "execution_count": null,
   "metadata": {},
   "outputs": [],
   "source": [
    "# this is an empty list\n",
    "list_variable = []\n",
    "type(list_variable)"
   ]
  },
  {
   "cell_type": "code",
   "execution_count": null,
   "metadata": {},
   "outputs": [],
   "source": [
    "# this is a list with data in it\n",
    "list_variable2 = [1,2,3,4,5]\n",
    "print(list_variable2)"
   ]
  },
  {
   "cell_type": "markdown",
   "metadata": {},
   "source": [
    "In Python all data structures can hold any data type including other data structures."
   ]
  },
  {
   "cell_type": "code",
   "execution_count": null,
   "metadata": {},
   "outputs": [],
   "source": [
    "# a list with different data types in it\n",
    "list_variable3 = [1, 2, 3.14, 'hello', True]\n",
    "print(list_variable3)"
   ]
  },
  {
   "cell_type": "code",
   "execution_count": null,
   "metadata": {},
   "outputs": [],
   "source": [
    "# a list with another list in it\n",
    "list_variable3 = [1, 2, 5.7, 8.2, 1e4, [4,5,6.7]]\n",
    "print(list_variable3)"
   ]
  },
  {
   "cell_type": "markdown",
   "metadata": {},
   "source": [
    "#### Adding to an existing List"
   ]
  },
  {
   "cell_type": "code",
   "execution_count": null,
   "metadata": {},
   "outputs": [],
   "source": [
    "print('Before:', list_variable)\n",
    "list_variable.append(1)\n",
    "list_variable.append(3.7)\n",
    "list_variable.append(1.6)\n",
    "print('After:', list_variable)"
   ]
  },
  {
   "cell_type": "markdown",
   "metadata": {},
   "source": [
    "#### Adding a List to a List"
   ]
  },
  {
   "cell_type": "code",
   "execution_count": null,
   "metadata": {},
   "outputs": [],
   "source": [
    "print('Before:', list_variable)\n",
    "list_variable.append([9,8,7])\n",
    "print('After:', list_variable)"
   ]
  },
  {
   "cell_type": "code",
   "execution_count": null,
   "metadata": {},
   "outputs": [],
   "source": [
    "print('Before:', list_variable)\n",
    "list_variable.extend(['a','b','c'])\n",
    "print('After:', list_variable)"
   ]
  },
  {
   "cell_type": "markdown",
   "metadata": {},
   "source": [
    "#### Other operations on a List"
   ]
  },
  {
   "cell_type": "code",
   "execution_count": null,
   "metadata": {},
   "outputs": [],
   "source": [
    "print('Before:', list_variable)\n",
    "# clearing a list\n",
    "list_variable = []\n",
    "print('After:', list_variable)"
   ]
  },
  {
   "cell_type": "code",
   "execution_count": null,
   "metadata": {},
   "outputs": [],
   "source": [
    "print('Before:', list_variable2)\n",
    "# length of a list\n",
    "print(len(list_variable2))\n"
   ]
  },
  {
   "cell_type": "markdown",
   "metadata": {},
   "source": [
    "#### Accessing elements from a list\n",
    "In Python we can access a single element from a list, this is called indexing.  Indexes in Python are always 0 based.  They always start at 0.  The largest index is len() - 1."
   ]
  },
  {
   "cell_type": "code",
   "execution_count": null,
   "metadata": {},
   "outputs": [],
   "source": [
    "print(list_variable2)\n",
    "\n",
    "# get the 1st variable\n",
    "print('1st element', list_variable2[0])\n",
    "\n",
    "# get the 2nd variable\n",
    "print('2nd element', list_variable2[1])\n",
    "\n",
    "# get the 3rd variable\n",
    "print('3rd element', list_variable2[2])\n",
    "\n",
    "# get the 4th variable\n",
    "print('4th element', list_variable2[3])\n",
    "\n",
    "# get the 5th variable\n",
    "print('5th element', list_variable2[4])\n",
    "\n",
    "# asking for an index that does not exist generates an error\n",
    "print('10th element', list_variable2[9])"
   ]
  },
  {
   "cell_type": "markdown",
   "metadata": {},
   "source": [
    "Instead of extracting a single element we can also choose to extract multiple values.  This is called slicing.  "
   ]
  },
  {
   "cell_type": "code",
   "execution_count": null,
   "metadata": {},
   "outputs": [],
   "source": [
    "list_variable2 = [1,2,3,4,5]\n",
    "print('Initial List', list_variable2)\n",
    "# get the 1st thru the 2nd\n",
    "print('1st - 2nd', list_variable2[0:2])\n",
    "# get the 2nd thru the 4th\n",
    "print('2nd - 4th', list_variable2[1:4])\n",
    "# get the 3rd thru the 5th\n",
    "print('3rd - 5th', list_variable2[2:5])\n",
    "# get the 4th thru the end\n",
    "print('4th - end', list_variable2[3:])\n",
    "# get the beginning thru the 3rd\n",
    "print('beginning - 3rd', list_variable2[:3])"
   ]
  },
  {
   "cell_type": "markdown",
   "metadata": {},
   "source": [
    "#### Modifying an element in a List\n",
    "When we index or slice into a list we get access to the original list memory so we can modify the list using this syntax."
   ]
  },
  {
   "cell_type": "code",
   "execution_count": null,
   "metadata": {},
   "outputs": [],
   "source": [
    "list_variable2 = [1,2,3,4,5]\n",
    "\n",
    "# modify an element in the list\n",
    "list_variable2[2] = 10\n",
    "print('After modifying a single element', list_variable2)\n",
    "\n",
    "# modify a slice in the list\n",
    "list_variable2[3:5] = [20,21]\n",
    "print('After modifying a slice', list_variable2)"
   ]
  },
  {
   "cell_type": "markdown",
   "metadata": {},
   "source": [
    "#### Searching through a List\n",
    "To search for an element in a list we use the builtin function **in**."
   ]
  },
  {
   "cell_type": "code",
   "execution_count": null,
   "metadata": {},
   "outputs": [],
   "source": [
    "list_variable2 = [1,2,3,4,5]\n",
    "\n",
    "# look for a 5\n",
    "print(5 in list_variable2)\n",
    "\n",
    "# look for a 3\n",
    "print(3 in list_variable2)\n",
    "\n",
    "# look for a 10\n",
    "print(10 in list_variable2)"
   ]
  },
  {
   "cell_type": "markdown",
   "metadata": {},
   "source": [
    "#### Dictionary\n",
    "A **Dictionary** is an unordered data structure.  The big difference between a dictionary and a list is the fact that the dictionary stores values based on keys.  When we store a value in a dictionary we use a key, when we want to retrieve it we use the same key.  Lookups and searches in a dictionary is optimized and much faster than they are in a list."
   ]
  },
  {
   "cell_type": "markdown",
   "metadata": {},
   "source": [
    "#### Creating a dictionary"
   ]
  },
  {
   "cell_type": "code",
   "execution_count": null,
   "metadata": {},
   "outputs": [],
   "source": [
    "# an empty dictionary\n",
    "d1 = {}\n",
    "\n",
    "# a dictionary with some initial values\n",
    "d2 = {'one':1, 'two':2, 'three':3}"
   ]
  },
  {
   "cell_type": "markdown",
   "metadata": {},
   "source": [
    "#### Adding to a dictionary\n",
    "In order to add to a dictionary we have to provide the key that the value will be stored under.  If we use an existing key then the value will be overwritten.  If we use a new key then there will be a new value added."
   ]
  },
  {
   "cell_type": "code",
   "execution_count": null,
   "metadata": {},
   "outputs": [],
   "source": [
    "d1 = {'one':1, 'two':2, 'three':3}\n",
    "print(d1)\n",
    "\n",
    "# add a new key:value\n",
    "d1['four'] = 4\n",
    "\n",
    "# overwrite an existing key:value\n",
    "d1['two'] = 10\n",
    "\n",
    "print(d1)"
   ]
  },
  {
   "cell_type": "markdown",
   "metadata": {},
   "source": [
    "Just like in lists we can add any object to a dictionary.  "
   ]
  },
  {
   "cell_type": "code",
   "execution_count": null,
   "metadata": {},
   "outputs": [],
   "source": [
    "d1 = {'one':1, 'two':2, 'three':3}\n",
    "\n",
    "# add a list\n",
    "d1['list'] = [1,2,3,4]\n",
    "\n",
    "# add a dictionary\n",
    "d1['dictionary'] = {1:'one', 2:'two', 3:'three'}\n",
    "\n",
    "print(d1)"
   ]
  },
  {
   "cell_type": "markdown",
   "metadata": {},
   "source": [
    "#### Other Operations"
   ]
  },
  {
   "cell_type": "code",
   "execution_count": null,
   "metadata": {},
   "outputs": [],
   "source": [
    "# getting the number of elements in a dictionary\n",
    "print(len(d1))\n",
    "\n",
    "# getting the keys of a dictionary\n",
    "print(d1.keys())\n",
    "\n",
    "# getting the values of a dictionary\n",
    "print(d1.values())"
   ]
  },
  {
   "cell_type": "markdown",
   "metadata": {},
   "source": [
    "#### Accessing elements from a dictionary\n",
    "Elements in a dictionary need to be accessed by key.  There is no slicing in a dictionary."
   ]
  },
  {
   "cell_type": "code",
   "execution_count": null,
   "metadata": {},
   "outputs": [],
   "source": [
    "d1 = {'one':1, 'two':2, 'three':3}\n",
    "print(d1)\n",
    "\n",
    "# get the value with the key 'one'\n",
    "print('one', d1['one'])\n",
    "\n",
    "# get the value with the key 'two'\n",
    "print('two', d1['two'])"
   ]
  },
  {
   "cell_type": "markdown",
   "metadata": {},
   "source": [
    "#### Modifying an elelement in a dictionary\n",
    "We discussed it a bit above.  To modify an element, just use an existing key."
   ]
  },
  {
   "cell_type": "code",
   "execution_count": null,
   "metadata": {},
   "outputs": [],
   "source": [
    "d1 = {'one':1, 'two':2, 'three':3}\n",
    "print(d1)\n",
    "\n",
    "d1['one'] = 100\n",
    "del d1['two']\n",
    "\n",
    "print(d1)"
   ]
  },
  {
   "cell_type": "markdown",
   "metadata": {},
   "source": [
    "#### Searching through a dictionary\n",
    "To search through a dictionary we use a similar statement as in a list."
   ]
  },
  {
   "cell_type": "code",
   "execution_count": null,
   "metadata": {},
   "outputs": [],
   "source": [
    "d1 = {'one':1, 'two':2, 'three':3}\n",
    "\n",
    "print('Look for one', 'one' in d1)\n",
    "print('Look for two', 'two' in d1)\n",
    "print('Look for four', 'four' in d1)"
   ]
  },
  {
   "cell_type": "markdown",
   "metadata": {},
   "source": [
    "#### Why use dictionaries?\n",
    "At this point you may be thinking why do we need dictionaries?  WHy not just use lists everywhere and keep life simple?\n",
    "The major reason is speed of searching.  Below, we provide an example that will show you this."
   ]
  },
  {
   "cell_type": "code",
   "execution_count": null,
   "metadata": {},
   "outputs": [],
   "source": [
    "import random\n",
    "list1 = [random.randint(0, 1000) for x in range(1000) ]\n",
    "\n",
    "%timeit random.randint(0,1000) in list1"
   ]
  },
  {
   "cell_type": "code",
   "execution_count": null,
   "metadata": {},
   "outputs": [],
   "source": [
    "import random\n",
    "dictionary1 = {random.randint(0, 1000):'testvalue' for x in range(1000)}\n",
    "\n",
    "%timeit random.randint(0,1000) in dictionary1"
   ]
  },
  {
   "cell_type": "markdown",
   "metadata": {},
   "source": [
    "#### Tuple\n",
    "A tuple is a simple data structure that allows you to group data that is logically connected together.  For instance, a player's name and his jersey number is a piece of information that can be grouped together.  Another example could be your name, address and telephone number.\n",
    "Let's look at tuples a bit closer."
   ]
  },
  {
   "cell_type": "markdown",
   "metadata": {},
   "source": [
    "#### Creating a Tuple\n",
    "To create a tuple place parenthesis around the data.  The data can be of any type.  Each piece of data is seperated by commas.  "
   ]
  },
  {
   "cell_type": "code",
   "execution_count": null,
   "metadata": {},
   "outputs": [],
   "source": [
    "t1 = (1,2,3)\n",
    "type(t1)"
   ]
  },
  {
   "cell_type": "markdown",
   "metadata": {},
   "source": [
    "#### Tuple Immutability\n",
    "Once a tuple is created, you cannot modify it so creating an empty tuple and then adding data to is it not possible."
   ]
  },
  {
   "cell_type": "code",
   "execution_count": null,
   "metadata": {},
   "outputs": [],
   "source": [
    "t2 = ()\n",
    "t2.append(1)"
   ]
  },
  {
   "cell_type": "code",
   "execution_count": null,
   "metadata": {},
   "outputs": [],
   "source": [
    "t2 = (1,2,3)\n",
    "t2[2] = 4"
   ]
  },
  {
   "cell_type": "markdown",
   "metadata": {},
   "source": [
    "Because a tuple is immutable once it is created allows you to use it as a key in a dictionary.  You cannot use a list as a key in a dictionary."
   ]
  },
  {
   "cell_type": "code",
   "execution_count": null,
   "metadata": {},
   "outputs": [],
   "source": [
    "\n",
    "d1 = {(1,2):1, (2,3):2}\n",
    "print(d1)"
   ]
  },
  {
   "cell_type": "code",
   "execution_count": null,
   "metadata": {},
   "outputs": [],
   "source": [
    "d1 = {[1,2]:1, [2,3]:2}"
   ]
  },
  {
   "cell_type": "markdown",
   "metadata": {},
   "source": [
    "#### Accessing elements in a Tuple"
   ]
  },
  {
   "cell_type": "code",
   "execution_count": null,
   "metadata": {},
   "outputs": [],
   "source": [
    "t1 = (1,2,3)\n",
    "print(t1[0], t1[1], t1[2])"
   ]
  },
  {
   "cell_type": "markdown",
   "metadata": {},
   "source": [
    "#### Tuple Unpacking\n",
    "With tuples you have a feature that makes extracting all the values very convenient"
   ]
  },
  {
   "cell_type": "code",
   "execution_count": null,
   "metadata": {},
   "outputs": [],
   "source": [
    "x,y,z = (1,2,3)\n",
    "print(x,y,z)"
   ]
  },
  {
   "cell_type": "markdown",
   "metadata": {},
   "source": [
    "#### Set\n",
    "A **set** is a data structure that looks similar to a dictionary, and performs similar to a list.  Upon closer look though the **set** is much more powerful in that it allows you to do set math."
   ]
  },
  {
   "cell_type": "markdown",
   "metadata": {},
   "source": [
    "#### Creating a set"
   ]
  },
  {
   "cell_type": "code",
   "execution_count": null,
   "metadata": {},
   "outputs": [],
   "source": [
    "s1 = {1,2,3,4,4,5}\n",
    "s2 = set()\n",
    "print(type(s1), s1)\n",
    "print(type(s2), s2)"
   ]
  },
  {
   "cell_type": "markdown",
   "metadata": {},
   "source": [
    "A set can be constructed from another data structure"
   ]
  },
  {
   "cell_type": "code",
   "execution_count": null,
   "metadata": {},
   "outputs": [],
   "source": [
    "s3 = set([1,2,3,4,5])\n",
    "print(s3)"
   ]
  },
  {
   "cell_type": "markdown",
   "metadata": {},
   "source": [
    "Sets do not allow duplicate values"
   ]
  },
  {
   "cell_type": "code",
   "execution_count": null,
   "metadata": {},
   "outputs": [],
   "source": [
    "s1 = {1,2,3,4,4,5,5,6}\n",
    "print(s1)"
   ]
  },
  {
   "cell_type": "markdown",
   "metadata": {},
   "source": [
    "#### Adding elements to a set\n",
    "If you try to add an element to a set that already exists, you won't see any change to the set."
   ]
  },
  {
   "cell_type": "code",
   "execution_count": 2,
   "metadata": {},
   "outputs": [
    {
     "name": "stdout",
     "output_type": "stream",
     "text": [
      "{1, 2, 3, 4, 5}\n",
      "{1, 2, 3, 4, 5, 6}\n",
      "{1, 2, 3, 4, 5, 6}\n"
     ]
    }
   ],
   "source": [
    "s1 = {1,2,3,4,5}\n",
    "print(s1)\n",
    "\n",
    "# add an element that is not there\n",
    "s1.add(6)\n",
    "print(s1)\n",
    "\n",
    "# add an element that is already there\n",
    "s1.add(5)\n",
    "print(s1)"
   ]
  },
  {
   "cell_type": "markdown",
   "metadata": {},
   "source": [
    "#### Set Operations"
   ]
  },
  {
   "cell_type": "code",
   "execution_count": null,
   "metadata": {},
   "outputs": [],
   "source": [
    "s1 = {1,2,3,4,5}\n",
    "s2 = {3,4,5,6,7}\n",
    "s3 = {4,5,6}\n",
    "\n",
    "# set union\n",
    "print('Union', s1.union(s2))\n",
    "\n",
    "# set intersection\n",
    "print('Intersection', s1.intersection(s2))\n",
    "\n",
    "# set subset\n",
    "print('S3 is subset of S1?', s3.issubset(s1))\n",
    "print('S3 is subset of S2?', s3.issubset(s2))\n",
    "\n",
    "# set difference\n",
    "print('Difference', s1.difference(s2))\n",
    "\n",
    "# set symmetric difference\n",
    "print('Symmetric Difference', s1.symmetric_difference(s2))"
   ]
  },
  {
   "cell_type": "markdown",
   "metadata": {},
   "source": [
    "It might not seem like much but being able to do the above operations is very powerful.  Imagine trying to identify students in different classes.  It would be very difficult to do that manually."
   ]
  },
  {
   "cell_type": "markdown",
   "metadata": {},
   "source": [
    "## Any Questions?\n",
    "---\n",
    "###### for any questions contact <jimmy@coolkidscodingschool.com>"
   ]
  },
  {
   "cell_type": "code",
   "execution_count": null,
   "metadata": {},
   "outputs": [],
   "source": []
  }
 ],
 "metadata": {
  "kernelspec": {
   "display_name": "Python [conda env:PDSH]",
   "language": "python",
   "name": "conda-env-PDSH-py"
  },
  "language_info": {
   "codemirror_mode": {
    "name": "ipython",
    "version": 3
   },
   "file_extension": ".py",
   "mimetype": "text/x-python",
   "name": "python",
   "nbconvert_exporter": "python",
   "pygments_lexer": "ipython3",
   "version": "3.5.4"
  }
 },
 "nbformat": 4,
 "nbformat_minor": 2
}
