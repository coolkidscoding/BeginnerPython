{
 "cells": [
  {
   "cell_type": "markdown",
   "metadata": {},
   "source": [
    "![](images/ckcslogo.png)\n",
    "---\n",
    "## [Cool Kids Coding School](http://www.coolkidscodingschool.com)  \n",
    "\n",
    "##### _Introductory Python_  \n",
    "###### Lesson 4: Data Structures Part1 \n",
    "---"
   ]
  },
  {
   "cell_type": "markdown",
   "metadata": {},
   "source": [
    "### 1.0 Overview\n",
    "- Welcome!\n",
    "- Go over syllabus objectives for today\n",
    "- Key points from last lesson\n",
    "- What is the motivation behind data structures?\n",
    "- Discuss what a data structure is\n",
    "- Discuss different types of data structures\n",
    "- How do we load data into a data structure?\n",
    "- How do we search through a data structure?\n",
    "- Review homework"
   ]
  },
  {
   "cell_type": "markdown",
   "metadata": {},
   "source": [
    "### 2.0 Key points from last lesson\n",
    "+ There are four different data types we are going to deal with in this class\n",
    "    + int\n",
    "    + float\n",
    "    + str\n",
    "    + bool\n",
    "+ Variables are used to store data types.    \n",
    "+ Operators are used to modify and manipulate variables.\n",
    "+ There are several different types of operators.\n",
    "    + arithmetic operators\n",
    "    + comparison operators"
   ]
  },
  {
   "cell_type": "markdown",
   "metadata": {},
   "source": [
    "### 3.0 What is the motivation behind data structures?\n",
    "Variables so far are great.  We can store a single value in a variable.  What if we needed to store and manage alot of information? \n",
    "The government, for instance, needs to store the social security number for every person in the US.  Do you think they have a program with 350 million variables?  That would be too difficult.  The maintenance on that program would be incredible!"
   ]
  },
  {
   "cell_type": "markdown",
   "metadata": {},
   "source": [
    "### 3.1 Discuss what a data structure is?\n",
    "To solve this problem, Computer Scientists created the idea of **Data Structures**.  **Data structures** are programing components builtin to the language that can help you manage larger amounts of information in a program context.  We can use data structures to manage data that is logically related.  You use data structures in your daily life.  \n",
    "+ When you or someone from your family goes to the supermarket for grocery shopping many times they have a list of things they need to buy.\n",
    "+ When you are looking for a piece of information in a book you use the index or the table of contents to zoom into the page that has the information instead of looking through every page.\n",
    "+ When you filled out the student information sheet at the beginning of the course I asked you for all the information about you and I grouped that information together on one sheet."
   ]
  },
  {
   "cell_type": "markdown",
   "metadata": {},
   "source": [
    "### 3.3 Different types of data structures\n",
    "\n",
    "There are many types of data structures.  The data structures that we will discuss are builtin to the language.  There are more advanced programming techniques where a computer scientist can define their own data structure as well.  We will learn about these in future courses.  The creation of custom data structures is the basis of **Object Oriented Programming**.\n",
    "\n",
    "#### 3.4 Builtin Data Structures\n",
    "\n",
    "+ List\n",
    "+ Dict\n",
    "+ Tuple \n",
    "+ Set\n",
    "\n",
    "We are going to learn about each one in turn.\n",
    "\n",
    "#### 3.5 List\n",
    "\n",
    "A **List** is an ordered data structure. Being ordred means the order that you add items into the data structure is not changed.  The order that data is added, is the order that they stay in, unless you change it.  A **List** can be created with data or without data.  Data can be added or removed."
   ]
  },
  {
   "cell_type": "markdown",
   "metadata": {},
   "source": [
    "##### 3.6 Creating a List\n",
    "A list can be identified from the SQUARE BRACKETS."
   ]
  },
  {
   "cell_type": "code",
   "execution_count": 1,
   "metadata": {},
   "outputs": [
    {
     "data": {
      "text/plain": [
       "list"
      ]
     },
     "execution_count": 1,
     "metadata": {},
     "output_type": "execute_result"
    }
   ],
   "source": [
    "# this is an empty list\n",
    "list_variable = []\n",
    "type(list_variable)"
   ]
  },
  {
   "cell_type": "code",
   "execution_count": 2,
   "metadata": {},
   "outputs": [
    {
     "name": "stdout",
     "output_type": "stream",
     "text": [
      "[1, 2, 3, 4, 5]\n"
     ]
    }
   ],
   "source": [
    "# this is a list with data in it\n",
    "list_variable2 = [1,2,3,4,5]\n",
    "print(list_variable2)"
   ]
  },
  {
   "cell_type": "markdown",
   "metadata": {},
   "source": [
    "In Python all data structures can hold any data type including other data structures."
   ]
  },
  {
   "cell_type": "code",
   "execution_count": 3,
   "metadata": {},
   "outputs": [
    {
     "name": "stdout",
     "output_type": "stream",
     "text": [
      "[1, 2, 3.14, 'hello', True]\n"
     ]
    }
   ],
   "source": [
    "# a list with different data types in it\n",
    "list_variable3 = [1, 2, 3.14, 'hello', True]\n",
    "print(list_variable3)"
   ]
  },
  {
   "cell_type": "code",
   "execution_count": 4,
   "metadata": {},
   "outputs": [
    {
     "name": "stdout",
     "output_type": "stream",
     "text": [
      "[1, 2, 5.7, 8.2, [4, 5, 6.7]]\n"
     ]
    }
   ],
   "source": [
    "# a list with another list in it\n",
    "list_variable3 = [1, 2, 5.7, 8.2, [4,5,6.7]]\n",
    "print(list_variable3)"
   ]
  },
  {
   "cell_type": "markdown",
   "metadata": {},
   "source": [
    "#### 3.7 Adding to an existing List"
   ]
  },
  {
   "cell_type": "code",
   "execution_count": 5,
   "metadata": {},
   "outputs": [
    {
     "name": "stdout",
     "output_type": "stream",
     "text": [
      "Before: []\n",
      "After: [1, 3.7, 1.6]\n"
     ]
    }
   ],
   "source": [
    "print('Before:', list_variable)\n",
    "list_variable.append(1)\n",
    "list_variable.append(3.7)\n",
    "list_variable.append(1.6)\n",
    "print('After:', list_variable)"
   ]
  },
  {
   "cell_type": "markdown",
   "metadata": {},
   "source": [
    "#### 3.8 Other operations on a List"
   ]
  },
  {
   "cell_type": "code",
   "execution_count": 6,
   "metadata": {},
   "outputs": [
    {
     "name": "stdout",
     "output_type": "stream",
     "text": [
      "Before: [1, 3.7, 1.6]\n",
      "After: []\n"
     ]
    }
   ],
   "source": [
    "print('Before:', list_variable)\n",
    "# clearing a list\n",
    "list_variable = []\n",
    "print('After:', list_variable)"
   ]
  },
  {
   "cell_type": "code",
   "execution_count": 7,
   "metadata": {},
   "outputs": [
    {
     "name": "stdout",
     "output_type": "stream",
     "text": [
      "Before: [1, 2, 3, 4, 5]\n",
      "5\n"
     ]
    }
   ],
   "source": [
    "print('Before:', list_variable2)\n",
    "# length of a list\n",
    "print(len(list_variable2))\n"
   ]
  },
  {
   "cell_type": "markdown",
   "metadata": {},
   "source": [
    "#### 3.9 Accessing elements from a list\n",
    "To access an element from a list we use **indexing**.  That is we use an integer value that identifies the position in the list we are looking to get a value from. **Indexes in Python always start at 0**.  **The largest valid index of a non-empty list is the length of the list - 1**.\n",
    "\n",
    "![](images/listindex.png)"
   ]
  },
  {
   "cell_type": "code",
   "execution_count": 8,
   "metadata": {},
   "outputs": [
    {
     "name": "stdout",
     "output_type": "stream",
     "text": [
      "[1, 2, 3, 4, 5]\n",
      "1st element 1\n",
      "2nd element 2\n",
      "3rd element 3\n",
      "4th element 4\n",
      "5th element 5\n"
     ]
    },
    {
     "ename": "IndexError",
     "evalue": "list index out of range",
     "output_type": "error",
     "traceback": [
      "\u001b[0;31m---------------------------------------------------------------------------\u001b[0m",
      "\u001b[0;31mIndexError\u001b[0m                                Traceback (most recent call last)",
      "\u001b[0;32m<ipython-input-8-6f61b7842a5e>\u001b[0m in \u001b[0;36m<module>\u001b[0;34m()\u001b[0m\n\u001b[1;32m     17\u001b[0m \u001b[0;34m\u001b[0m\u001b[0m\n\u001b[1;32m     18\u001b[0m \u001b[0;31m# asking for an index that does not exist generates an error\u001b[0m\u001b[0;34m\u001b[0m\u001b[0;34m\u001b[0m\u001b[0m\n\u001b[0;32m---> 19\u001b[0;31m \u001b[0mprint\u001b[0m\u001b[0;34m(\u001b[0m\u001b[0;34m'10th element'\u001b[0m\u001b[0;34m,\u001b[0m \u001b[0mlist_variable2\u001b[0m\u001b[0;34m[\u001b[0m\u001b[0;36m9\u001b[0m\u001b[0;34m]\u001b[0m\u001b[0;34m)\u001b[0m\u001b[0;34m\u001b[0m\u001b[0m\n\u001b[0m",
      "\u001b[0;31mIndexError\u001b[0m: list index out of range"
     ]
    }
   ],
   "source": [
    "print(list_variable2)\n",
    "\n",
    "# get the 1st variable\n",
    "print('1st element', list_variable2[0])\n",
    "\n",
    "# get the 2nd variable\n",
    "print('2nd element', list_variable2[1])\n",
    "\n",
    "# get the 3rd variable\n",
    "print('3rd element', list_variable2[2])\n",
    "\n",
    "# get the 4th variable\n",
    "print('4th element', list_variable2[3])\n",
    "\n",
    "# get the 5th variable\n",
    "print('5th element', list_variable2[4])\n",
    "\n",
    "# asking for an index that does not exist generates an error\n",
    "print('10th element', list_variable2[9])"
   ]
  },
  {
   "cell_type": "markdown",
   "metadata": {},
   "source": [
    "#### 3.10 Modifying an element in a List\n",
    "When we index into a list we get access to the original list memory so we can modify the list using this syntax."
   ]
  },
  {
   "cell_type": "code",
   "execution_count": null,
   "metadata": {},
   "outputs": [],
   "source": [
    "list_variable2 = [1,2,3,4,5]\n",
    "\n",
    "# modify an element in the list\n",
    "list_variable2[2] = 10\n",
    "print('After modifying a single element', list_variable2)"
   ]
  },
  {
   "cell_type": "markdown",
   "metadata": {},
   "source": [
    "#### 3.11 Searching through a List\n",
    "To search for an element in a list we use the builtin function **in**."
   ]
  },
  {
   "cell_type": "code",
   "execution_count": null,
   "metadata": {},
   "outputs": [],
   "source": [
    "list_variable2 = [1,2,3,4,5]\n",
    "\n",
    "# look for a 5\n",
    "print(5 in list_variable2)\n",
    "\n",
    "# look for a 3\n",
    "print(3 in list_variable2)\n",
    "\n",
    "# look for a 10\n",
    "print(10 in list_variable2)"
   ]
  },
  {
   "cell_type": "markdown",
   "metadata": {},
   "source": [
    "#### 4.0 Dictionary\n",
    "A **Dictionary** is an unordered data structure.  The big difference between a dictionary and a list is the fact that the dictionary stores values based on keys.  When we store a value in a dictionary we use a key, when we want to retrieve it we use the same key.  Lookups and searches in a dictionary is optimized and much faster than they are in a list."
   ]
  },
  {
   "cell_type": "markdown",
   "metadata": {},
   "source": [
    "#### 4.1 Creating a dictionary"
   ]
  },
  {
   "cell_type": "code",
   "execution_count": null,
   "metadata": {},
   "outputs": [],
   "source": [
    "# an empty dictionary\n",
    "d1 = {}\n",
    "\n",
    "# a dictionary with some initial values\n",
    "d2 = {'one':1, 'two':2, 'three':3}"
   ]
  },
  {
   "cell_type": "markdown",
   "metadata": {},
   "source": [
    "#### 4.2 Adding to a dictionary\n",
    "In order to add to a dictionary we have to provide the key that the value will be stored under.  If we use an existing key then the value will be overwritten.  If we use a new key then there will be a new value added."
   ]
  },
  {
   "cell_type": "code",
   "execution_count": null,
   "metadata": {},
   "outputs": [],
   "source": [
    "d1 = {'one':1, 'two':2, 'three':3}\n",
    "print(d1)\n",
    "\n",
    "# add a new key:value\n",
    "d1['four'] = 4\n",
    "\n",
    "# overwrite an existing key:value\n",
    "d1['two'] = 10\n",
    "\n",
    "print(d1)"
   ]
  },
  {
   "cell_type": "markdown",
   "metadata": {},
   "source": [
    "Just like in lists we can add any object to a dictionary.  "
   ]
  },
  {
   "cell_type": "code",
   "execution_count": null,
   "metadata": {},
   "outputs": [],
   "source": [
    "d1 = {'one':1, 'two':2, 'three':3}\n",
    "\n",
    "# add a list\n",
    "d1['list'] = [1,2,3,4]\n",
    "\n",
    "# add a dictionary\n",
    "d1['dictionary'] = {1:'one', 2:'two', 3:'three'}\n",
    "\n",
    "print(d1)"
   ]
  },
  {
   "cell_type": "markdown",
   "metadata": {},
   "source": [
    "#### 4.3 Other Operations"
   ]
  },
  {
   "cell_type": "code",
   "execution_count": null,
   "metadata": {},
   "outputs": [],
   "source": [
    "# getting the number of elements in a dictionary\n",
    "print(len(d1))\n",
    "\n",
    "# getting the keys of a dictionary\n",
    "print(d1.keys())\n",
    "\n",
    "# getting the values of a dictionary\n",
    "print(d1.values())\n",
    "\n",
    "# getting the keys and values of dictionary as a pair (aka Tuple)\n",
    "print(d1.items())"
   ]
  },
  {
   "cell_type": "markdown",
   "metadata": {},
   "source": [
    "#### 4.4 Accessing elements from a dictionary\n",
    "Elements in a dictionary need to be accessed by key.  There is no slicing in a dictionary."
   ]
  },
  {
   "cell_type": "code",
   "execution_count": null,
   "metadata": {},
   "outputs": [],
   "source": [
    "d1 = {'one':1, 'two':2, 'three':3}\n",
    "print(d1)\n",
    "\n",
    "# get the value with the key 'one'\n",
    "print('one', d1['one'])\n",
    "\n",
    "# get the value with the key 'two'\n",
    "print('two', d1['two'])"
   ]
  },
  {
   "cell_type": "markdown",
   "metadata": {},
   "source": [
    "#### 4.5 Modifying an elelement in a dictionary\n",
    "We discussed it a bit above.  To modify an element, just use an existing key."
   ]
  },
  {
   "cell_type": "code",
   "execution_count": null,
   "metadata": {},
   "outputs": [],
   "source": [
    "d1 = {'one':1, 'two':2, 'three':3}\n",
    "print(d1)\n",
    "\n",
    "d1['one'] = 100\n",
    "del d1['two']\n",
    "\n",
    "print(d1)"
   ]
  },
  {
   "cell_type": "markdown",
   "metadata": {},
   "source": [
    "#### 4.6 Searching through a dictionary\n",
    "To search through a dictionary we use a similar statement as in a list."
   ]
  },
  {
   "cell_type": "code",
   "execution_count": null,
   "metadata": {},
   "outputs": [],
   "source": [
    "d1 = {'one':1, 'two':2, 'three':3}\n",
    "\n",
    "print('Look for one', 'one' in d1)\n",
    "print('Look for two', 'two' in d1)\n",
    "print('Look for four', 'four' in d1)"
   ]
  },
  {
   "cell_type": "markdown",
   "metadata": {},
   "source": [
    "#### 4.7 Why use dictionaries?\n",
    "At this point you may be thinking why do we need dictionaries?  Why not just use lists everywhere and keep life simple?\n",
    "The major reason is speed of searching.  Without going into too much detail at this point, just know that it is MUCH faster to search for something in a dictionary than a list."
   ]
  },
  {
   "cell_type": "markdown",
   "metadata": {},
   "source": [
    "## Any Questions?\n",
    "---\n",
    "###### for any questions contact <hw_help@coolkidscodingschool.com>"
   ]
  }
 ],
 "metadata": {
  "kernelspec": {
   "display_name": "Python 3",
   "language": "python",
   "name": "python3"
  },
  "language_info": {
   "codemirror_mode": {
    "name": "ipython",
    "version": 3
   },
   "file_extension": ".py",
   "mimetype": "text/x-python",
   "name": "python",
   "nbconvert_exporter": "python",
   "pygments_lexer": "ipython3",
   "version": "3.6.4"
  }
 },
 "nbformat": 4,
 "nbformat_minor": 2
}
