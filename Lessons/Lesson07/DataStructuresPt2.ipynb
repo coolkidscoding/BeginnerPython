{
 "cells": [
  {
   "cell_type": "markdown",
   "metadata": {},
   "source": [
    "![](images/ckcslogo.png)\n",
    "---\n",
    "## [Cool Kids Coding School](http://www.coolkidscodingschool.com)  \n",
    "\n",
    "##### _Introductory Python_  \n",
    "###### Lesson 6: Data Structures Part2 \n",
    "---"
   ]
  },
  {
   "cell_type": "markdown",
   "metadata": {},
   "source": [
    "### 1.0 Overview\n",
    "- Welcome!\n",
    "- Go over syllabus objectives for today\n",
    "- Key points from last lesson\n",
    "- Review the data structures we have discused already (list, dictionary)\n",
    "- Discuss the two new data structures we are going to learn about\n",
    "- Review homework"
   ]
  },
  {
   "cell_type": "markdown",
   "metadata": {},
   "source": [
    "### 2.0 Key points from last lesson\n",
    "+ There are four buit-in data structures.  We discussed two last lesson, List and Dictionary.\n",
    "+ Data structures are used to manage and organize large amounts of data.\n",
    "+ Data structures need to be able to support adding, accessing and searching for elements.\n",
    "+ The List data structure uses indexing to access data in it.  \n",
    "+ The Dictionary data structure uses keys to access data in it."
   ]
  },
  {
   "cell_type": "markdown",
   "metadata": {},
   "source": [
    "### 3.0 Data Structures (Part2)\n",
    "\n",
    "+ In this lesson we are going to learn about two new data structures: \n",
    "    + Tuple\n",
    "    + Set"
   ]
  },
  {
   "cell_type": "markdown",
   "metadata": {},
   "source": [
    "#### 3.1 Tuple\n",
    "A **tuple** is an ordered data structure.  A tuple can be thought of as a grouping of related data.  Whenever you have data that you think needs to be kept together as one unit, you can use a tuple.  A tuple can be created by using PARENTHESIS around a comma seperated group of data.  There are some special characteristics associated with a tuple that we will discuss soon.  "
   ]
  },
  {
   "cell_type": "code",
   "execution_count": 5,
   "metadata": {},
   "outputs": [
    {
     "data": {
      "text/plain": [
       "tuple"
      ]
     },
     "execution_count": 5,
     "metadata": {},
     "output_type": "execute_result"
    }
   ],
   "source": [
    "# this is an empty tuple\n",
    "tuple_variable = ()\n",
    "type(tuple_variable)"
   ]
  },
  {
   "cell_type": "code",
   "execution_count": 6,
   "metadata": {},
   "outputs": [
    {
     "name": "stdout",
     "output_type": "stream",
     "text": [
      "(1, 2, 3, 4, 5)\n"
     ]
    }
   ],
   "source": [
    "# this is a tuple with data in it\n",
    "tuple_variable2 = (1,2,3,4,5)\n",
    "print(tuple_variable2)"
   ]
  },
  {
   "cell_type": "markdown",
   "metadata": {},
   "source": [
    "If I had data that is related I could use a tuple to manage that data.  For instance, if I was writing a program to model basketball players I could create the following tuple."
   ]
  },
  {
   "cell_type": "code",
   "execution_count": 7,
   "metadata": {},
   "outputs": [],
   "source": [
    "nba_player1 = ('Lebron James', 23, 'Lakers')\n",
    "nba_player2 = ('Russell Westbrook', 0, 'Thunder')"
   ]
  },
  {
   "cell_type": "markdown",
   "metadata": {},
   "source": [
    "As we discussed last lesson, a data structure can hold any data structure."
   ]
  },
  {
   "cell_type": "code",
   "execution_count": 8,
   "metadata": {},
   "outputs": [
    {
     "name": "stdout",
     "output_type": "stream",
     "text": [
      "[('Lebron James', 23, 'Lakers'), ('Russell Westbrook', 0, 'Thunder')]\n"
     ]
    }
   ],
   "source": [
    "# a tuple with nba player tuples in it\n",
    "nba_players = []\n",
    "nba_players.append(nba_player1)\n",
    "nba_players.append(nba_player2)\n",
    "print(nba_players)"
   ]
  },
  {
   "cell_type": "markdown",
   "metadata": {},
   "source": [
    "#### 3.2 Accessing elements from a Tuple"
   ]
  },
  {
   "cell_type": "markdown",
   "metadata": {},
   "source": [
    "Elements in a tuple are accessed the same way we access data from a list, we use indexing.  **Same as list indexing, indexes in Python always start at 0**.  **The largest valid index of a non-empty tuple is the length of the tuple - 1**.\n",
    "![](images/listindex.png)"
   ]
  },
  {
   "cell_type": "code",
   "execution_count": 9,
   "metadata": {},
   "outputs": [
    {
     "name": "stdout",
     "output_type": "stream",
     "text": [
      "('Lebron James', 23, 'Lakers')\n",
      "The first element in the tuple: Lebron James\n",
      "The second element in the tuple: 23\n",
      "The third element in the tuple: Lakers\n",
      "The length of the tuple 3\n"
     ]
    }
   ],
   "source": [
    "print(nba_player1)\n",
    "print('The first element in the tuple:', nba_player1[0])\n",
    "print('The second element in the tuple:', nba_player1[1])\n",
    "print('The third element in the tuple:', nba_player1[2])\n",
    "\n",
    "print('The length of the tuple', len(nba_player1))"
   ]
  },
  {
   "cell_type": "markdown",
   "metadata": {},
   "source": [
    "#### 3.3 The similarities between tuples and lists end there\n",
    "\n",
    "Unlike lists, once we create a tuple we cannot modify it any more.  This includes adding, removing or changing existing elements.  A tuple is said to be **constant**."
   ]
  },
  {
   "cell_type": "code",
   "execution_count": 10,
   "metadata": {},
   "outputs": [
    {
     "ename": "TypeError",
     "evalue": "'tuple' object does not support item assignment",
     "output_type": "error",
     "traceback": [
      "\u001b[0;31m---------------------------------------------------------------------------\u001b[0m",
      "\u001b[0;31mTypeError\u001b[0m                                 Traceback (most recent call last)",
      "\u001b[0;32m<ipython-input-10-a33a167f7e71>\u001b[0m in \u001b[0;36m<module>\u001b[0;34m()\u001b[0m\n\u001b[1;32m      1\u001b[0m \u001b[0;31m# using the nba_players we created above\u001b[0m\u001b[0;34m\u001b[0m\u001b[0;34m\u001b[0m\u001b[0m\n\u001b[1;32m      2\u001b[0m \u001b[0;31m# if I try to change the team on a tuple we will get an error\u001b[0m\u001b[0;34m\u001b[0m\u001b[0;34m\u001b[0m\u001b[0m\n\u001b[0;32m----> 3\u001b[0;31m \u001b[0mnba_player1\u001b[0m\u001b[0;34m[\u001b[0m\u001b[0;36m2\u001b[0m\u001b[0;34m]\u001b[0m \u001b[0;34m=\u001b[0m \u001b[0;34m'Cavaliers'\u001b[0m\u001b[0;34m\u001b[0m\u001b[0m\n\u001b[0m",
      "\u001b[0;31mTypeError\u001b[0m: 'tuple' object does not support item assignment"
     ]
    }
   ],
   "source": [
    "# using the nba_players we created above\n",
    "# if I try to change the team on a tuple we will get an error\n",
    "nba_player1[2] = 'Cavaliers'"
   ]
  },
  {
   "cell_type": "code",
   "execution_count": 11,
   "metadata": {},
   "outputs": [
    {
     "ename": "AttributeError",
     "evalue": "'tuple' object has no attribute 'append'",
     "output_type": "error",
     "traceback": [
      "\u001b[0;31m---------------------------------------------------------------------------\u001b[0m",
      "\u001b[0;31mAttributeError\u001b[0m                            Traceback (most recent call last)",
      "\u001b[0;32m<ipython-input-11-9979aeb47c14>\u001b[0m in \u001b[0;36m<module>\u001b[0;34m()\u001b[0m\n\u001b[1;32m      1\u001b[0m \u001b[0;31m# if I try to add something to an existing tuple, it will fail\u001b[0m\u001b[0;34m\u001b[0m\u001b[0;34m\u001b[0m\u001b[0m\n\u001b[0;32m----> 2\u001b[0;31m \u001b[0mnba_player1\u001b[0m\u001b[0;34m.\u001b[0m\u001b[0mappend\u001b[0m\u001b[0;34m(\u001b[0m\u001b[0;34m'Los Angeles'\u001b[0m\u001b[0;34m)\u001b[0m\u001b[0;34m\u001b[0m\u001b[0m\n\u001b[0m",
      "\u001b[0;31mAttributeError\u001b[0m: 'tuple' object has no attribute 'append'"
     ]
    }
   ],
   "source": [
    "# if I try to add something to an existing tuple, it will fail\n",
    "nba_player1.append('Los Angeles')"
   ]
  },
  {
   "cell_type": "markdown",
   "metadata": {},
   "source": [
    "#### 3.4 Why do we need tuples?\n",
    "Based on what we discussed you maybe asking yourself why we even need tuples.  Why dont we just use lists everywhere?\n",
    "\n",
    "The answer is that because tuples are constant, we can use them as keys in a dictionary.  I cant use a list as a key, but I can use a tuple. "
   ]
  },
  {
   "cell_type": "code",
   "execution_count": 12,
   "metadata": {},
   "outputs": [
    {
     "name": "stdout",
     "output_type": "stream",
     "text": [
      "{('John', 'Allen-Stevenson'): [90, 88, 76], ('James', 'Trinity'): [100, 100, 100], ('Jeremy', 'Buckley'): [92, 75, 74]}\n"
     ]
    }
   ],
   "source": [
    "# if i had a bunch of students and the school they go to \n",
    "student1 = ('John', 'Allen-Stevenson')\n",
    "student2 = ('James', 'Trinity')\n",
    "student3 = ('Jeremy', 'Buckley')\n",
    "\n",
    "# and I wanted to keep track of their test scores\n",
    "student_dict ={student1:[90,88,76], student2:[100,100,100], student3:[92,75,74]}\n",
    "\n",
    "# this works fine\n",
    "print(student_dict)"
   ]
  },
  {
   "cell_type": "code",
   "execution_count": 13,
   "metadata": {},
   "outputs": [
    {
     "ename": "TypeError",
     "evalue": "unhashable type: 'list'",
     "output_type": "error",
     "traceback": [
      "\u001b[0;31m---------------------------------------------------------------------------\u001b[0m",
      "\u001b[0;31mTypeError\u001b[0m                                 Traceback (most recent call last)",
      "\u001b[0;32m<ipython-input-13-5be2324acd40>\u001b[0m in \u001b[0;36m<module>\u001b[0;34m()\u001b[0m\n\u001b[1;32m      1\u001b[0m \u001b[0;31m# if I tried to use a list for the student then I would get an error\u001b[0m\u001b[0;34m\u001b[0m\u001b[0;34m\u001b[0m\u001b[0m\n\u001b[1;32m      2\u001b[0m \u001b[0mstudent4\u001b[0m \u001b[0;34m=\u001b[0m \u001b[0;34m[\u001b[0m\u001b[0;34m'Josh'\u001b[0m\u001b[0;34m,\u001b[0m \u001b[0;34m'Dalton'\u001b[0m\u001b[0;34m]\u001b[0m\u001b[0;34m\u001b[0m\u001b[0m\n\u001b[0;32m----> 3\u001b[0;31m \u001b[0mstudent_dict\u001b[0m\u001b[0;34m[\u001b[0m\u001b[0mstudent4\u001b[0m\u001b[0;34m]\u001b[0m \u001b[0;34m=\u001b[0m \u001b[0;34m[\u001b[0m\u001b[0;36m100\u001b[0m\u001b[0;34m,\u001b[0m\u001b[0;36m50\u001b[0m\u001b[0;34m,\u001b[0m\u001b[0;36m99\u001b[0m\u001b[0;34m]\u001b[0m\u001b[0;34m\u001b[0m\u001b[0m\n\u001b[0m",
      "\u001b[0;31mTypeError\u001b[0m: unhashable type: 'list'"
     ]
    }
   ],
   "source": [
    "# if I tried to use a list for the student then I would get an error\n",
    "student4 = ['Josh', 'Dalton']\n",
    "student_dict[student4] = [100,50,99]"
   ]
  },
  {
   "cell_type": "markdown",
   "metadata": {},
   "source": [
    "#### 3.5 Searching through a Tuple\n",
    "To search for an element in a tuple we use the builtin function **in**, same as we do for lists."
   ]
  },
  {
   "cell_type": "code",
   "execution_count": 14,
   "metadata": {},
   "outputs": [
    {
     "name": "stdout",
     "output_type": "stream",
     "text": [
      "True\n",
      "True\n",
      "False\n"
     ]
    }
   ],
   "source": [
    "tup_variable = (1,2,3,4,5,6)\n",
    "\n",
    "# look for a 5\n",
    "print(5 in tup_variable)\n",
    "\n",
    "# look for a 3\n",
    "print(3 in tup_variable)\n",
    "\n",
    "# look for a 9\n",
    "print(9 in tup_variable)"
   ]
  },
  {
   "cell_type": "markdown",
   "metadata": {},
   "source": [
    "#### 4.1 Set\n",
    "A **Set** is an unordered data structure.  You may have learned about sets in your math class.  If not, there is some functionality that sets have that can be very useful.  We will go over this functionality below.  A set looks similar to a dictionary.  They both use the CURLY BRACES, however if you look closely a set does not use keys.  There are a few other differences which we will get into."
   ]
  },
  {
   "cell_type": "markdown",
   "metadata": {},
   "source": [
    "#### 4.2 Creating a set"
   ]
  },
  {
   "cell_type": "code",
   "execution_count": 15,
   "metadata": {},
   "outputs": [
    {
     "name": "stdout",
     "output_type": "stream",
     "text": [
      "<class 'set'>\n",
      "{'three', 2, 'one'} <class 'set'>\n"
     ]
    }
   ],
   "source": [
    "# an empty set cannot be created with just braces, because python would think you are trying yo create a dictionary.\n",
    "# Instead an empty set is created with the set keyword.\n",
    "s1 = set() \n",
    "print(type(s1))\n",
    "\n",
    "# a set with some initial values\n",
    "s2 = {'one', 2, 'three'}\n",
    "print(s2, type(s2))"
   ]
  },
  {
   "cell_type": "markdown",
   "metadata": {},
   "source": [
    "#### 4.3 Adding to a set\n",
    "To add new elements to a set we use the **add** function, similar to the way we use append on lists."
   ]
  },
  {
   "cell_type": "code",
   "execution_count": 17,
   "metadata": {},
   "outputs": [
    {
     "name": "stdout",
     "output_type": "stream",
     "text": [
      "{1, 2, 3, 4, 5}\n",
      "{1, 2, 3, 4, 5, 6}\n"
     ]
    }
   ],
   "source": [
    "s1 = {1,2,3,4,5}\n",
    "print(s1)\n",
    "\n",
    "# add a new value\n",
    "s1.add(6)\n",
    "\n",
    "print(s1)"
   ]
  },
  {
   "cell_type": "markdown",
   "metadata": {},
   "source": [
    "If we try to add an element that already exists in the set we do not get a duplicate value.  Sets do not support duplicate eleiments.  There is no error in this case though."
   ]
  },
  {
   "cell_type": "code",
   "execution_count": 18,
   "metadata": {},
   "outputs": [
    {
     "name": "stdout",
     "output_type": "stream",
     "text": [
      "{1, 2, 3, 4, 5}\n",
      "{1, 2, 3, 4, 5}\n"
     ]
    }
   ],
   "source": [
    "s1 = {1,2,3,4,5}\n",
    "print(s1)\n",
    "\n",
    "# try adding a second 5\n",
    "s1.add(5)\n",
    "\n",
    "# you will notice there is no error, however there is no duplicate 5 either\n",
    "print(s1)"
   ]
  },
  {
   "cell_type": "markdown",
   "metadata": {},
   "source": [
    "#### 4.4 Other Set Operations"
   ]
  },
  {
   "cell_type": "code",
   "execution_count": 19,
   "metadata": {},
   "outputs": [
    {
     "name": "stdout",
     "output_type": "stream",
     "text": [
      "The length of s1: 5\n",
      "Union set: {1, 2, 3, 4, 5, 6, 7, 8}\n",
      "Intersection set: {4, 5}\n",
      "Difference set: {1, 2, 3}\n"
     ]
    }
   ],
   "source": [
    "s1 = {1,2,3,4,5}\n",
    "s2 = {4,5,6,7,8}\n",
    "\n",
    "# getting the number of elements in a dictionary\n",
    "print('The length of s1:', len(s1))\n",
    "\n",
    "# sets support operations like\n",
    "\n",
    "# union: adding two sets together\n",
    "s3 = s1.union(s2)\n",
    "print('Union set:', s3)\n",
    "\n",
    "# intersection: common elements between two sets\n",
    "s4 = s1.intersection(s2)\n",
    "print('Intersection set:', s4)\n",
    "\n",
    "# difference: elements in one set but not the other\n",
    "s5 = s1.difference(s2)\n",
    "print('Difference set:', s5)"
   ]
  },
  {
   "cell_type": "markdown",
   "metadata": {},
   "source": [
    "#### 4.5 Searching through a set\n",
    "To search through a set we use a similar statement as in a list."
   ]
  },
  {
   "cell_type": "code",
   "execution_count": 20,
   "metadata": {},
   "outputs": [
    {
     "name": "stdout",
     "output_type": "stream",
     "text": [
      "Look for one True\n",
      "Look for two False\n",
      "Look for four False\n"
     ]
    }
   ],
   "source": [
    "s1 = {'one', 2, 'three'}\n",
    "\n",
    "print('Look for one', 'one' in s1)\n",
    "print('Look for two', 'two' in s1)\n",
    "print('Look for four', 'four' in s1)"
   ]
  },
  {
   "cell_type": "markdown",
   "metadata": {},
   "source": [
    "## Any Questions?\n",
    "---\n",
    "###### for any questions contact <ayesha@coolkidscodingschool.com>"
   ]
  }
 ],
 "metadata": {
  "kernelspec": {
   "display_name": "Python 3",
   "language": "python",
   "name": "python3"
  },
  "language_info": {
   "codemirror_mode": {
    "name": "ipython",
    "version": 3
   },
   "file_extension": ".py",
   "mimetype": "text/x-python",
   "name": "python",
   "nbconvert_exporter": "python",
   "pygments_lexer": "ipython3",
   "version": "3.6.4"
  }
 },
 "nbformat": 4,
 "nbformat_minor": 2
}
