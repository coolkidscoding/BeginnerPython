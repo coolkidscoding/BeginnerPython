{
 "cells": [
  {
   "cell_type": "markdown",
   "metadata": {},
   "source": [
    "<div>\n",
    "\n",
    "<p>\n",
    "<img align=left src=\"images/ckcslogo.png\">\n",
    "</p>\n",
    "\n",
    "---\n",
    "\n",
    "<p>\n",
    "<H1 align=left><a href=\"http://www.coolkidscodingschool.com\">Cool Kids Coding School</a></H1>\n",
    "<H2 align=left>Course: <strong>Introductory Python</strong></H1>\n",
    "<H3 align=left>Lesson 7: <strong>Loops II (In Class Assignment)</strong></H3>\n",
    "</p>\n",
    "\n",
    "</div>\n",
    "\n",
    "---"
   ]
  },
  {
   "cell_type": "markdown",
   "metadata": {},
   "source": [
    "### Exercise 1:\n",
    "\n",
    "**for** loops"
   ]
  },
  {
   "cell_type": "code",
   "execution_count": null,
   "metadata": {},
   "outputs": [],
   "source": [
    "# Create a for loop that will count all the numbers from 0 to 100\n",
    "\n"
   ]
  },
  {
   "cell_type": "code",
   "execution_count": null,
   "metadata": {},
   "outputs": [],
   "source": [
    "# Using the list below print out the first letter of each string\n",
    "list_variable = ['hello', 'echo', 'lava', 'lucky', 'orange']\n"
   ]
  },
  {
   "cell_type": "code",
   "execution_count": null,
   "metadata": {},
   "outputs": [],
   "source": [
    "# Starting with an empty dictionary populate it with 10 elements where the key and the value are integers\n",
    "# you should end up with this {1:1, 2:2, 3:3, 4:4, 5:5, 6:6, 7:7, 8:8, 9:9 10:10}\n",
    "\n"
   ]
  },
  {
   "cell_type": "code",
   "execution_count": null,
   "metadata": {},
   "outputs": [],
   "source": [
    "# Using the dictionary below create a loop that adds a random number to each element\n",
    "import random\n",
    "var1 = random.randint(100)\n",
    "\n",
    "dict_variable = {'a':1, 'b':2, 'c':3, 'd':4, 'e':5}\n"
   ]
  },
  {
   "cell_type": "markdown",
   "metadata": {},
   "source": [
    "## Any Questions?\n",
    "---\n",
    "###### for any questions contact <hw_help@coolkidscodingschool.com>"
   ]
  }
 ],
 "metadata": {
  "kernelspec": {
   "display_name": "Python 3",
   "language": "python",
   "name": "python3"
  },
  "language_info": {
   "codemirror_mode": {
    "name": "ipython",
    "version": 3
   },
   "file_extension": ".py",
   "mimetype": "text/x-python",
   "name": "python",
   "nbconvert_exporter": "python",
   "pygments_lexer": "ipython3",
   "version": "3.6.4"
  }
 },
 "nbformat": 4,
 "nbformat_minor": 2
}