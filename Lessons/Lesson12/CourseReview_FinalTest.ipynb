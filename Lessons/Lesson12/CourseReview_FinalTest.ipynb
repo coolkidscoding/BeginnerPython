{
 "cells": [
  {
   "cell_type": "markdown",
   "metadata": {},
   "source": [
    "<div>\n",
    "\n",
    "<p>\n",
    "<img align=left src=\"images/ckcslogo.png\">\n",
    "</p>\n",
    "\n",
    "---\n",
    "\n",
    "<p>\n",
    "<H1 align=left><a href=\"http://www.coolkidscodingschool.com\">Cool Kids Coding School</a></H1>\n",
    "<H2 align=left>Course: <strong>Introductory Python</strong></H1>\n",
    "<H3 align=left>Lesson 12: <strong>Final Test</strong></H3>\n",
    "</p>\n",
    "\n",
    "</div>\n",
    "\n",
    "---"
   ]
  },
  {
   "cell_type": "markdown",
   "metadata": {},
   "source": [
    "#### Question #1 (10 points):\n",
    "\n",
    "This question is about using Python as a calculator.  Follow the instructions below:"
   ]
  },
  {
   "cell_type": "code",
   "execution_count": 1,
   "metadata": {},
   "outputs": [],
   "source": [
    "# Print the value of 1026 - 312 + 45 - 16 * 7 / 3 * 9\n",
    "\n",
    "# Print the value of 2 raised to the 10th power\n",
    "\n",
    "# Print the remainder of 10 divided by 3\n",
    "\n",
    "# Print the result of the division of 10 divided by 3\n"
   ]
  },
  {
   "cell_type": "markdown",
   "metadata": {},
   "source": [
    "#### Question #2 (10 points):\n",
    "\n",
    "This question is about variables.  Follow the instructions below:"
   ]
  },
  {
   "cell_type": "code",
   "execution_count": 2,
   "metadata": {},
   "outputs": [],
   "source": [
    "# Create 2 variables holding integers\n",
    "\n",
    "# Print the type of one of these two variables \n",
    "\n",
    "# Create 2 variables holding floats\n",
    "\n",
    "# Print the type of one of these two variables \n",
    "\n",
    "# Create 2 variables holding strings\n",
    "\n",
    "# Print the type of one these two variables \n",
    "\n",
    "# Create 2 variables holding booleans\n",
    "\n",
    "# Print the type of one these two variables \n"
   ]
  },
  {
   "cell_type": "markdown",
   "metadata": {},
   "source": [
    "#### Question #3 (10 points):\n",
    "\n",
    "This question is about variables and operators.  Follow the instructions below:"
   ]
  },
  {
   "cell_type": "code",
   "execution_count": 3,
   "metadata": {},
   "outputs": [],
   "source": [
    "# Create 4 variables below, using any valid variable name.  The variables should all hold numeric data (float or integer)\n",
    "\n",
    "# Print the result of adding all the variables together\n",
    "\n",
    "# Print the result of subtracting each variable from the other\n",
    "\n",
    "# Print the result of multiplying each variable with the other\n",
    "\n",
    "# Print the result of testing the 1st variable to see if its greater or equal to the 2nd variable\n",
    "\n",
    "# Print the result of testing the 3rd variable to see if its less than to the 4nd variable\n",
    "\n",
    "# Print the result of testing the 2nd variable to see if its equal to the 3nd variable\n",
    "\n",
    "# Print the result of testing the 1st variable to see if its not equal to the 4nd variable\n"
   ]
  },
  {
   "cell_type": "markdown",
   "metadata": {},
   "source": [
    "#### Question #4 (10 points):\n",
    "\n",
    "This question is about data structures, specifically lists.  Follow the instructions below:"
   ]
  },
  {
   "cell_type": "code",
   "execution_count": 4,
   "metadata": {},
   "outputs": [],
   "source": [
    "# Create an empty list \n",
    "\n",
    "# Add 3 elements to your list, all the elements should be integers\n",
    "\n",
    "# Print out the length of your list\n",
    "\n",
    "# Print out the last element in your list\n",
    "\n",
    "# Print out the first element in your list\n",
    "\n",
    "# Change the value of any element in your list\n",
    "\n",
    "# Print out the result of searching for the number 5 in your list\n"
   ]
  },
  {
   "cell_type": "markdown",
   "metadata": {},
   "source": [
    "#### Question #5 (10 points):\n",
    "\n",
    "This question is about data structures, specifically dictionaries.  Follow the instructions below:"
   ]
  },
  {
   "cell_type": "code",
   "execution_count": 5,
   "metadata": {},
   "outputs": [],
   "source": [
    "# Create a dictionary with 2 elements in it\n",
    "\n",
    "# Add 3 more elements to your dictionary, use any key and any value you want\n",
    "\n",
    "# Print out the length of your dictionary\n",
    "\n",
    "# Print out the keys of your dictionary\n",
    "\n",
    "# Print out the values of your dictionary\n",
    "\n",
    "# Print out any element from your dictionary\n",
    "\n",
    "# Change the value of any key in your dictionary\n",
    "\n",
    "# Print out the result of searching for the key 'bye' in your dictionary\n"
   ]
  },
  {
   "cell_type": "markdown",
   "metadata": {},
   "source": [
    "#### Question #6 (10 points):\n",
    "\n",
    "This question is about data structures, specifically tuples.  Follow the instructions below:"
   ]
  },
  {
   "cell_type": "code",
   "execution_count": 6,
   "metadata": {},
   "outputs": [],
   "source": [
    "# Create a tuple with 3 elements\n",
    "\n",
    "# Print out the length of your tuple\n",
    "\n",
    "# Print out the type of your tuple\n",
    "\n",
    "# Print out the result of searching for the number 6 in your tuple\n"
   ]
  },
  {
   "cell_type": "markdown",
   "metadata": {},
   "source": [
    "#### Question #7 (10 points):\n",
    "\n",
    "This question is about data structures, specifically sets.  Follow the instructions below:"
   ]
  },
  {
   "cell_type": "code",
   "execution_count": 7,
   "metadata": {},
   "outputs": [],
   "source": [
    "# Create a set with 3 elements in it\n",
    "\n",
    "# Create a second set that is empty\n",
    "\n",
    "# Add 3 elements to your 2nd set\n",
    "\n",
    "# Print the union of these two sets\n",
    "\n",
    "# Print the intersection of these two sets\n"
   ]
  },
  {
   "cell_type": "markdown",
   "metadata": {},
   "source": [
    "#### Question #8 (10 points):\n",
    "\n",
    "This question is about loops, specifically while loops.  Follow the instructions below:"
   ]
  },
  {
   "cell_type": "code",
   "execution_count": 8,
   "metadata": {},
   "outputs": [],
   "source": [
    "# Write a while loop that will count to 100 and then stop.  In each iteration you will add 1 to a variable you \n",
    "# declare.  Also in each iteration you should print out the current count\n",
    "\n"
   ]
  },
  {
   "cell_type": "markdown",
   "metadata": {},
   "source": [
    "#### Question #9 (10 points):\n",
    "\n",
    "This question is about loops, specifically for loops.  Follow the instructions below:"
   ]
  },
  {
   "cell_type": "code",
   "execution_count": 9,
   "metadata": {},
   "outputs": [],
   "source": [
    "# Create a list with 10 numbers \n",
    "\n",
    "# Create a for loop that will sum all the values only if the value is greater than 5 and less than 10 in the list together\n",
    "\n",
    "# Print out the sum\n"
   ]
  },
  {
   "cell_type": "markdown",
   "metadata": {},
   "source": [
    "#### Question #10 (10 points):\n",
    "\n",
    "This question is about conditionals.  Follow the instructions below:"
   ]
  },
  {
   "cell_type": "code",
   "execution_count": 10,
   "metadata": {},
   "outputs": [],
   "source": [
    "# Create a loop that will loop over all the numbers from 0 to 99\n",
    "\n",
    "# Add a conditional to your loop that will identify odd numbers and print them out\n"
   ]
  },
  {
   "cell_type": "markdown",
   "metadata": {},
   "source": [
    "#### Bonus Question (5 points):\n",
    "\n",
    "This question is about functions.  Follow the instructions below:"
   ]
  },
  {
   "cell_type": "code",
   "execution_count": 11,
   "metadata": {},
   "outputs": [],
   "source": [
    "# Create a function called MaxScore that takes one argument, a list of scores and returns the highest score in the list.\n",
    "# You can use the builtin max() function to do this.\n",
    "\n",
    "# Create another function MinScore that takes one argument, a list of scores and returns the lowest score in the list.\n",
    "# You can use the builtin min() function to do this.\n",
    "\n",
    "# Create three lists that represent the scores in 3 different classes.  \n",
    "\n",
    "# Print out the results of calling these two functions on the 3 lists you created above.\n"
   ]
  },
  {
   "cell_type": "markdown",
   "metadata": {},
   "source": [
    "#### Bonus Question (5 points):\n",
    "\n",
    "This question is about data structures.  \n",
    "\n",
    "You work for a manufacturer, and have been asked to calculate the total profit made on the sales of a product. You are given a dictionary containing the cost price per unit (in dollars), sell price per unit (in dollars), and the starting inventory. Return the total profit made, rounded to the nearest dollar. Assume all of the inventory has been sold.\n"
   ]
  },
  {
   "cell_type": "code",
   "execution_count": null,
   "metadata": {},
   "outputs": [],
   "source": [
    "product1 = {\n",
    "  \"cost_price\": 32.67,\n",
    "  \"sell_price\": 45.00,\n",
    "  \"inventory\": 1200\n",
    "}\n",
    "\n",
    "# profit(product1) -> 14796\n",
    "\n",
    "product2 = {\n",
    "  \"cost_price\": 225.89,\n",
    "  \"sell_price\": 550.00,\n",
    "  \"inventory\": 100\n",
    "}\n",
    "\n",
    "# profit(product2) ➞ 32411\n",
    "\n",
    "product3 = {\n",
    "  \"cost_price\": 2.77,\n",
    "  \"sell_price\": 7.95,\n",
    "  \"inventory\": 8500\n",
    "}\n",
    "\n",
    "# profit(product3) ➞ 44030\n"
   ]
  },
  {
   "cell_type": "markdown",
   "metadata": {},
   "source": [
    "#### Bonus Question (5 points):\n",
    "\n",
    "This question is about data structures.  \n",
    "\n",
    "Suppose you have a guest list of students and the country they are from, stored as key-value pairs in a dictionary.\n",
    "\n",
    "```python\n",
    "GUEST_LIST = {\n",
    "\"Randy\": \"Germany\",\n",
    "\"Karla\": \"France\",\n",
    "\"Wendy\": \"Japan\",\n",
    "\"Norman\": \"England\",\n",
    "\"Sam\": \"Argentina\"\n",
    "}\n",
    "```\n",
    "Write a function that takes in a name and returns a name tag, that should read:\n",
    "\n",
    "\"Hi! I'm [name], and I'm from [country].\"\n",
    "\n",
    "If the name is not in the dictionary, return:\n",
    "\n",
    "\"Hi! I'm a guest.\"\n",
    "\n",
    "Examples\n",
    "\n",
    "greeting(\"Randy\") ➞ \"Hi! I'm Randy, and I'm from Germany.\"\n",
    "\n",
    "greeting(\"Sam\") ➞ \"Hi! I'm Sam, and I'm from Argentina.\"\n",
    "\n",
    "greeting(\"Monti\") ➞ \"Hi! I'm a guest.\""
   ]
  },
  {
   "cell_type": "code",
   "execution_count": null,
   "metadata": {},
   "outputs": [],
   "source": []
  },
  {
   "cell_type": "markdown",
   "metadata": {},
   "source": [
    "## Any Questions?\n",
    "---\n",
    "###### for any questions contact <hw_help@coolkidscodingschool.com>"
   ]
  }
 ],
 "metadata": {
  "kernelspec": {
   "display_name": "Python 3",
   "language": "python",
   "name": "python3"
  },
  "language_info": {
   "codemirror_mode": {
    "name": "ipython",
    "version": 3
   },
   "file_extension": ".py",
   "mimetype": "text/x-python",
   "name": "python",
   "nbconvert_exporter": "python",
   "pygments_lexer": "ipython3",
   "version": "3.6.4"
  }
 },
 "nbformat": 4,
 "nbformat_minor": 2
}