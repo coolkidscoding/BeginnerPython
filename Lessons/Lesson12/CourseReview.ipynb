{
 "cells": [
  {
   "cell_type": "markdown",
   "metadata": {},
   "source": [
    "## [Cool Kids Coding School](http://www.coolkidscodingschool.com)  \n",
    "\n",
    "##### _Introductory Python_  \n",
    "###### Lesson 11: Course Review\n",
    "---"
   ]
  },
  {
   "cell_type": "markdown",
   "metadata": {},
   "source": [
    "### Overview\n",
    "- Welcome!\n",
    "- Go over syllabus objectives for today\n",
    "- Review all material in prep for test next week"
   ]
  },
  {
   "cell_type": "markdown",
   "metadata": {},
   "source": [
    "## Variables and Operators\n",
    "\n",
    "Before we discuss **variables and operators**, we need to discuss the fundamental data types that we discussed in this course.\n",
    "\n",
    "- integer\n",
    "- floating point number\n",
    "- string\n",
    "- bool\n",
    "\n",
    "We started this course discussing variables, the most fundamental building block in coding.  A variable is memory location with a label.  We can save things to this memory location.  Specifically we can save data types."
   ]
  },
  {
   "cell_type": "code",
   "execution_count": 15,
   "metadata": {},
   "outputs": [
    {
     "name": "stdout",
     "output_type": "stream",
     "text": [
      "<class 'float'> <class 'int'> <class 'str'> <class 'bool'>\n"
     ]
    }
   ],
   "source": [
    "# variables\n",
    "a_variable_name = 5.0\n",
    "another_variable_name = 1\n",
    "yet_another_variable_name = 'hello'\n",
    "one_more_variable_name = True\n",
    "\n",
    "print(type(a_variable_name), type(another_variable_name), type(yet_another_variable_name), type(one_more_variable_name))"
   ]
  },
  {
   "cell_type": "markdown",
   "metadata": {},
   "source": [
    "Variables can be manipulated and adjusted using operators.  We talked about 2 different types of operators.  Can someone remind me?\n",
    "\n",
    "- arithmetic operators\n",
    "- comparison operators\n",
    "\n",
    "In python When we use an operator on a variable but dont save the result back to a variable then we are using python like a calculator, the result is returned immediately but lost immediately.  When we save the result back to a variable then we are using python like a programming language."
   ]
  },
  {
   "cell_type": "code",
   "execution_count": 16,
   "metadata": {},
   "outputs": [
    {
     "name": "stdout",
     "output_type": "stream",
     "text": [
      "10 5\n",
      "addition 15\n",
      "subtraction 5\n",
      "multiplication 50\n",
      "division 2.0\n",
      "exponentiation 100000\n",
      "integer division 2\n",
      "remainder 0\n",
      "greater than True\n",
      "greater than or equal True\n",
      "less than False\n",
      "less than or equal False\n",
      "is equal False\n",
      "is not equal True\n"
     ]
    }
   ],
   "source": [
    "variable1 = 10\n",
    "variable2 = 5\n",
    "\n",
    "# Arithmetic operators\n",
    "print(variable1, variable2)\n",
    "\n",
    "# + addition\n",
    "print('addition', variable1 + variable2)\n",
    "\n",
    "# - subtraction\n",
    "print('subtraction', variable1 - variable2)\n",
    "\n",
    "# * multiplication\n",
    "print('multiplication', variable1 * variable2)\n",
    "\n",
    "# / division\n",
    "print('division', variable1 / variable2)\n",
    "\n",
    "# ** exponentiation\n",
    "print('exponentiation', variable1 ** variable2)\n",
    "\n",
    "# // integer division\n",
    "print('integer division', variable1 // variable2)\n",
    "\n",
    "# % remainder\n",
    "print('remainder', variable1 % variable2)\n",
    "\n",
    "# Comparison operators\n",
    "# > greater than\n",
    "print('greater than', variable1 > variable2)\n",
    "\n",
    "# >= greater than or equals\n",
    "print('greater than or equal', variable1 >= variable2)\n",
    "\n",
    "# < less than\n",
    "print('less than', variable1 < variable2)\n",
    "\n",
    "# <= less than or equal\n",
    "print('less than or equal', variable1 <= variable2)\n",
    "\n",
    "# == is equal\n",
    "print('is equal', variable1 == variable2)\n",
    "\n",
    "# != is not equal\n",
    "print('is not equal', variable1 != variable2)\n"
   ]
  },
  {
   "cell_type": "markdown",
   "metadata": {},
   "source": [
    "## Data Structures\n",
    "\n",
    "You can think of **Data structures** as variables that can hold more than one value.  We talked about 4 different data structures:\n",
    "\n",
    "- list\n",
    "- dictionary\n",
    "- tuple\n",
    "- set\n",
    "\n",
    "### List\n",
    "\n",
    "A list is an ordered data structure.  Elements can be added to a list using the **append** function.  The length of a list can be determined using the len function.  Elements in a list can be accessed using the indexing notation **[]**.  The smallest valid index on a non-empty list is 0, the largest valid index on a non-empty list is length - 1.  Searching through a list can be done using the **in** syntax."
   ]
  },
  {
   "cell_type": "code",
   "execution_count": 17,
   "metadata": {},
   "outputs": [
    {
     "name": "stdout",
     "output_type": "stream",
     "text": [
      "length of the list 6\n",
      "the whole list [11, 22.0, '33', 1, 2.0, '3']\n",
      "the length of the list 6\n",
      "the element at the smallest valid index 11\n",
      "the element at the highest valid index 3\n",
      "searching for an element True\n"
     ]
    }
   ],
   "source": [
    "# list\n",
    "\n",
    "# empty list\n",
    "variable_list = []\n",
    "\n",
    "# a list with elements\n",
    "variable_list = [11, 22.0, '33']\n",
    "\n",
    "# adding elements to the list\n",
    "variable_list.append(1)\n",
    "variable_list.append(2.0)\n",
    "variable_list.append('3')\n",
    "\n",
    "# length of the list\n",
    "print('length of the list', len(variable_list))\n",
    "\n",
    "print('the whole list', variable_list)\n",
    "print('the length of the list', len(variable_list))\n",
    "print('the element at the smallest valid index', variable_list[0])\n",
    "print('the element at the highest valid index', variable_list[len(variable_list) - 1])\n",
    "print('searching for an element', '3' in variable_list)\n"
   ]
  },
  {
   "cell_type": "markdown",
   "metadata": {},
   "source": [
    "### Dictionary\n",
    "\n",
    "A dictionary is an unordered data structure.  A dictionary is a key/value data structure.  Each element is associated to a specific key.  Elements are added to a dictionary by assigning the element to a key.  If the key exists in the dictionary a new element is added.  If the key is already in the dictionary then it overwrites the existing value.  Elements in a list can be accessed by using the key in the **[]** syntax.  A dictionary allows you to see all the keys using the **keys** function as well as all the values using the **values** function.  The pair of key/value can be extracted using the **items** function.  An element is searched for using the **in** syntax, but you look for the key not the element.\n"
   ]
  },
  {
   "cell_type": "code",
   "execution_count": 18,
   "metadata": {},
   "outputs": [
    {
     "name": "stdout",
     "output_type": "stream",
     "text": [
      "length of the dictionary 6\n",
      "accessing an element 1\n",
      "all the keys dict_keys(['akey0', 'anotherkey0', 'yetanotherkey0', 'akey', 'anotherkey', 'yetanotherkey'])\n",
      "all the values dict_values([11, 22.0, '33', 1, 2.0, '3'])\n",
      "all the items dict_items([('akey0', 11), ('anotherkey0', 22.0), ('yetanotherkey0', '33'), ('akey', 1), ('anotherkey', 2.0), ('yetanotherkey', '3')])\n",
      "searching for an element in the dictionary True\n"
     ]
    }
   ],
   "source": [
    "# dictionary\n",
    "\n",
    "# empty dictionary\n",
    "variable_dictionary = {}\n",
    "\n",
    "# dictionary with elements\n",
    "variable_dictionary = {'akey0':11, 'anotherkey0':22.0, 'yetanotherkey0':'33'}\n",
    "\n",
    "# adding elements to the dictionary\n",
    "variable_dictionary['akey'] = 1\n",
    "variable_dictionary['anotherkey'] = 2.0\n",
    "variable_dictionary['yetanotherkey'] = '3'\n",
    "\n",
    "# length of the dictionary\n",
    "print('length of the dictionary', len(variable_dictionary))\n",
    "\n",
    "# element with key akey\n",
    "print('accessing an element', variable_dictionary['akey'])\n",
    "\n",
    "print('all the keys', variable_dictionary.keys())\n",
    "print('all the values', variable_dictionary.values())\n",
    "print('all the items', variable_dictionary.items())\n",
    "\n",
    "print('searching for an element in the dictionary', 'akey' in variable_dictionary)"
   ]
  },
  {
   "cell_type": "markdown",
   "metadata": {},
   "source": [
    "### Tuple\n",
    "\n",
    "A tuple is an ordered data structure.  It can be thought of as a grouping of elements.  Elements in a tuple can be accessed using the **[]** syntax.  Searching through a tuple is alos done using the **in** syntax.  One big difference is that once a tuple is created it cannot be changed, it is immutable.  Initially it seems that a tuple does not have any benefits that a list does not.  However the immutability feature allows a tuple to be used as a key in a dictionary, whereas a list cannot."
   ]
  },
  {
   "cell_type": "code",
   "execution_count": 19,
   "metadata": {},
   "outputs": [
    {
     "name": "stdout",
     "output_type": "stream",
     "text": [
      "length of the tuple 3\n",
      "searching through a tuple True\n",
      "searching through a dictionary with a tuple True\n"
     ]
    }
   ],
   "source": [
    "# tuple\n",
    "\n",
    "# creating a tuple\n",
    "variable_tuple = (1, 2.0, '3')\n",
    "\n",
    "# length of the tuple\n",
    "print('length of the tuple', len(variable_tuple))\n",
    "\n",
    "print('searching through a tuple', '3' in variable_tuple)\n",
    "\n",
    "# using a tuple as a key in a dictionary\n",
    "variable_dictionary2 = {}\n",
    "variable_dictionary2[(23, 'Lakers')] = 'Lebron James'\n",
    "\n",
    "print('searching through a dictionary with a tuple',(23, 'Lakers') in variable_dictionary2)"
   ]
  },
  {
   "cell_type": "markdown",
   "metadata": {},
   "source": [
    "### Set\n",
    "\n",
    "A set is an unordered data structure.  A set can be created using the same braces as a dictionary, **{}**.  However a set does not use keys.  We can add elements to a set by using the **add** method.  A set cannot have duplicate elements.  We can search for elements in a set using the **in** syntax.  Sets, however have some very powerful functionality built in.  "
   ]
  },
  {
   "cell_type": "code",
   "execution_count": 21,
   "metadata": {},
   "outputs": [
    {
     "name": "stdout",
     "output_type": "stream",
     "text": [
      "length of a set 1\n",
      "union of two sets {1, 66, 22, 55, 11, 77}\n",
      "intersection of two sets {1}\n",
      "difference of two sets {11, 22}\n",
      "symmetric difference of two sets {2, 7, 8, 11, 22}\n"
     ]
    }
   ],
   "source": [
    "# set\n",
    "\n",
    "# an empty set\n",
    "variable_set = set()\n",
    "\n",
    "# a set with some elements\n",
    "variable_set = {1}\n",
    "\n",
    "# length of a set\n",
    "print('length of a set', len(variable_set))\n",
    "\n",
    "# adding elements to a set\n",
    "variable_set.add(11)\n",
    "variable_set.add(22)\n",
    "\n",
    "# set operations\n",
    "variable_set1 = {1,2,7,8}\n",
    "variable_set2 = {55,66,77}\n",
    "\n",
    "print('union of two sets', variable_set.union(variable_set2))\n",
    "print('intersection of two sets', variable_set.intersection(variable_set1))\n",
    "print('difference of two sets', variable_set.difference(variable_set1))\n",
    "print('symmetric difference of two sets', variable_set.symmetric_difference(variable_set1))"
   ]
  },
  {
   "cell_type": "markdown",
   "metadata": {},
   "source": [
    "## Loops and Conditionals\n",
    "\n",
    "Why do we need loops?  What do loops allow us to do that we couldn't do already?\n",
    "\n",
    "In this class we discussed two types of loops, **while** and **for**.  Loops execute a section of code over and over again.  The terminating criteria for a loop is different in each loop.  We will review more below.\n",
    "\n",
    "We also discussed the need for **conditionals**.  A conditional is a decision.  Depending on certain criteria a conditional will execute a different section of code.\n",
    "\n",
    "Both loops as well as conditionals allow for the creation of **code blocks** which are sections of code that may or may not get executed, depending on whether the loop is entered or a conditional evaluates to true."
   ]
  },
  {
   "cell_type": "markdown",
   "metadata": {},
   "source": [
    "### While Loop\n",
    "\n",
    "A **while** loop contains a condition.  A **while** loop will enter and continue looping while the condition evaluates to true.  In other words we continue looping while the condition of the loop is true."
   ]
  },
  {
   "cell_type": "code",
   "execution_count": null,
   "metadata": {},
   "outputs": [],
   "source": [
    "import random\n",
    "\n",
    "sum_variable = 0\n",
    "number_of_iterations = 0\n",
    "\n",
    "while sum_variable < 1000:\n",
    "    sum_variable = sum_variable + random.randint(1,10)\n",
    "    number_of_iterations = number_of_iterations + 1\n",
    "    print('Sum variable is currently at', sum_variable)\n",
    "    \n",
    "print('It took', number_of_iterations, 'to get above 1000')\n"
   ]
  },
  {
   "cell_type": "markdown",
   "metadata": {},
   "source": [
    "### For Loop\n",
    "\n",
    "Unlike a **while** loop, a **for** loop has a loop variable and is attached to a data structure.  In the **for** we will loop over every element in that data structure, the loop variable will take the value of each element in the data structure."
   ]
  },
  {
   "cell_type": "code",
   "execution_count": null,
   "metadata": {},
   "outputs": [],
   "source": [
    "loop_data_structure = [1,2,3,4,5,6,7,8,9,10]\n",
    "loop_data_structure_plus_one = []\n",
    "\n",
    "for var in loop_data_structure:\n",
    "    loop_data_structure_plus_one.append(var + 1)\n",
    "    \n",
    "print('Loop data structure plus one', loop_data_structure_plus_one)"
   ]
  },
  {
   "cell_type": "markdown",
   "metadata": {},
   "source": [
    "For all loops there are ways where we can disrupt the looping.  In one case we want to exit the loop early, so we can use the **break** statement.  In another case we want to skip the current iteration, so we can use the **continue** statement.  We will see these statements used when we review **conditionals** below."
   ]
  },
  {
   "cell_type": "markdown",
   "metadata": {},
   "source": [
    "### Conditionals\n",
    "\n",
    "Conditionals are also known as **if** statements.  A conditional allows us to change the execution of the code based on whether the condition evaluates to true or false.  A conditional can have many sections.  Each section can check for a different condition.  The section that evaluates to true is the section that will be executed."
   ]
  },
  {
   "cell_type": "code",
   "execution_count": null,
   "metadata": {},
   "outputs": [],
   "source": [
    "# find the even numbers above 10 and below 50\n",
    "results = []\n",
    "for var in range(100):\n",
    "    \n",
    "    # go back to the top of the loop if the value is less or equal to 10\n",
    "    if var <= 10:\n",
    "        continue\n",
    "        \n",
    "    # break out of the loop if the value is greater or equal 50\n",
    "    if var >= 50:\n",
    "        break\n",
    "        \n",
    "    # add the values that have no remainder after dividing by 2\n",
    "    if var % 2 == 0:\n",
    "        results.append(var)\n",
    "    \n",
    "print('Results', results)"
   ]
  },
  {
   "cell_type": "markdown",
   "metadata": {},
   "source": [
    "## Functions and Packages\n",
    "\n",
    "What are **functions**, what are they used for?  \n",
    "If you think about it, this whole course we have been writing code for 10+ weeks now.  In many cases we wrote the same code over and over.  \n",
    "It would have been great if we could reuse this code.  This is what **functions** are.\n",
    "\n",
    "**Packages** are collections of functions that are related.  We have used several packages in this course so far."
   ]
  },
  {
   "cell_type": "markdown",
   "metadata": {},
   "source": [
    "### Functions\n",
    "\n",
    "Functions are pieces of code that reusable and only executed if they are explicitly executed.  They are identified from the keyword **def**.  A function may or may not have have variables that are used in the function code.  If it does then these variables are \n",
    "\n",
    "They are very important and everyone should be very comfortable with them.\n"
   ]
  },
  {
   "cell_type": "code",
   "execution_count": null,
   "metadata": {},
   "outputs": [],
   "source": [
    "# function used to calculate the average score\n",
    "def AverageScore(lstvar):\n",
    "    sum_var = 0\n",
    "    for var in lstvar:\n",
    "        sum_var = sum_var + var\n",
    "        \n",
    "    return sum_var/len(lstvar)\n",
    "\n",
    "test_scores_class1 = [100, 98, 76, 82, 65, 90]\n",
    "test_scores_class2 = [100,100, 95, 32, 76, 93]\n",
    "test_scores_class3 = [77, 89,  91, 70, 88, 87]\n",
    "\n",
    "test_scores = [test_scores_class1, test_scores_class2, test_scores_class3]\n",
    "\n",
    "for lst in test_scores:\n",
    "    avg_score = AverageScore(lst)\n",
    "    print('Average test score ', avg_score)\n",
    "    "
   ]
  },
  {
   "cell_type": "markdown",
   "metadata": {},
   "source": [
    "### Packages\n",
    "\n",
    "+ **random** contains functions that are used to generate random numbers\n",
    "+ **datetime** contains functions that are used to represent dates and times\n",
    "+ **matplotlib** contains functions that are used for graphing\n",
    "+ **request** contains functions that are used for making internet requests"
   ]
  },
  {
   "cell_type": "markdown",
   "metadata": {},
   "source": [
    "## Any Questions?\n",
    "---\n",
    "###### for any questions contact <jimmy@coolkidscodingschool.com> or <ayesha@coolkidscodingschool.com>"
   ]
  }
 ],
 "metadata": {
  "kernelspec": {
   "display_name": "Python 3",
   "language": "python",
   "name": "python3"
  },
  "language_info": {
   "codemirror_mode": {
    "name": "ipython",
    "version": 3
   },
   "file_extension": ".py",
   "mimetype": "text/x-python",
   "name": "python",
   "nbconvert_exporter": "python",
   "pygments_lexer": "ipython3",
   "version": "3.6.4"
  }
 },
 "nbformat": 4,
 "nbformat_minor": 2
}
