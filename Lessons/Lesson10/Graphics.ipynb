{
 "cells": [
  {
   "cell_type": "markdown",
   "metadata": {},
   "source": [
    "## [Cool Kids Coding School](http://www.coolkidscodingschool.com)  \n",
    "\n",
    "##### _Introductory Python_  \n",
    "###### Lesson 10: Graphics\n",
    "---"
   ]
  },
  {
   "cell_type": "markdown",
   "metadata": {},
   "source": [
    "### Overview\n",
    "- Welcome!\n",
    "- Go over syllabus objectives for today\n",
    "- Key points from last lesson\n",
    "- What graphical packages are available in Python?\n",
    "- What can we do with them?\n",
    "- Review homework"
   ]
  },
  {
   "cell_type": "markdown",
   "metadata": {},
   "source": [
    "### Key points from last lesson\n",
    "+ We reviewed functions and packages\n",
    "+ We discussed what functions are and why they are important\n",
    "+ We discussed what packages were\n",
    "+ We discussed some packages that we have used in this course"
   ]
  },
  {
   "cell_type": "markdown",
   "metadata": {},
   "source": [
    "Graphics are a very powerful component of computer programming.  Drawing allows humans to identify complicated relationships between data.  The saying 'a picture is worth a thousand words' is very true."
   ]
  },
  {
   "cell_type": "markdown",
   "metadata": {},
   "source": [
    "We are going to examine graphing using a graphing package we have already used recently - **matplotlib**"
   ]
  },
  {
   "cell_type": "markdown",
   "metadata": {},
   "source": [
    "## Matplotlib\n",
    "matplotlib is a plotting library for the Python programming language and its numerical mathematics extension NumPy."
   ]
  },
  {
   "cell_type": "markdown",
   "metadata": {},
   "source": [
    "This is an example of a basic **line** plot.  We have 2 axes and we plot each points x and y values then we connect the dots."
   ]
  },
  {
   "cell_type": "code",
   "execution_count": null,
   "metadata": {},
   "outputs": [],
   "source": [
    "%matplotlib inline\n",
    "import numpy as np\n",
    "import matplotlib.pyplot as plt\n",
    "\n",
    "# consistent interval for x-axis\n",
    "x = [x*0.1 for x in range(100)]\n",
    "\n",
    "# function of x for y-axis\n",
    "y1 = np.sin(x)\n",
    "y2 = np.cos(x)\n",
    "\n",
    "# create line plot\n",
    "plt.plot(x, y1)\n",
    "plt.plot(x, y2)\n",
    "\n",
    "# show line plot\n",
    "plt.show()"
   ]
  },
  {
   "cell_type": "markdown",
   "metadata": {},
   "source": [
    "This is an example of a **bar** plot.  "
   ]
  },
  {
   "cell_type": "code",
   "execution_count": null,
   "metadata": {},
   "outputs": [],
   "source": [
    "%matplotlib inline\n",
    "\n",
    "# example of a bar chart\n",
    "import random\n",
    "import matplotlib.pyplot as plt\n",
    "\n",
    "# seed the random number generator\n",
    "random.seed(1)\n",
    "\n",
    "# names for categories\n",
    "x = ['red', 'green', 'blue']\n",
    "\n",
    "# quantities for each category\n",
    "red_value = random.randint(0, 100)\n",
    "green_value = random.randint(0, 100)\n",
    "blue_value = random.randint(0, 100)\n",
    "\n",
    "y = [red_value, green_value, blue_value]\n",
    "\n",
    "# create bar chart\n",
    "plt.bar(x, y)\n",
    "\n",
    "# show line plot\n",
    "plt.show()"
   ]
  },
  {
   "cell_type": "markdown",
   "metadata": {},
   "source": [
    "This is an example of a **histogram**."
   ]
  },
  {
   "cell_type": "code",
   "execution_count": null,
   "metadata": {},
   "outputs": [],
   "source": [
    "%matplotlib inline\n",
    "\n",
    "# example of a histogram plot\n",
    "import numpy.random as np\n",
    "import matplotlib.pyplot as plt\n",
    "\n",
    "# seed the random number generator\n",
    "np.seed(1)\n",
    "\n",
    "# random numbers drawn from a Gaussian distribution\n",
    "x = []\n",
    "for var in range(1000):\n",
    "    x.append(np.randn())\n",
    "\n",
    "# create histogram plot\n",
    "plt.hist(x)\n",
    "\n",
    "# show line plot\n",
    "plt.show()"
   ]
  },
  {
   "cell_type": "markdown",
   "metadata": {},
   "source": [
    "This is an example of a boxplot.  Boxplots show alot of data so lets describe:\n",
    "\n",
    "![boxplot](./images/boxplot.png)"
   ]
  },
  {
   "cell_type": "code",
   "execution_count": null,
   "metadata": {},
   "outputs": [],
   "source": [
    "%matplotlib inline\n",
    "\n",
    "# example of a box and whisker plot\n",
    "import numpy.random as np\n",
    "import matplotlib.pyplot as plt\n",
    "\n",
    "# seed the random number generator\n",
    "np.seed(1)\n",
    "\n",
    "# random numbers drawn from a Gaussian distribution\n",
    "x = []\n",
    "for var in range(1000):\n",
    "    x.append(np.randn())\n",
    "    \n",
    "# create box and whisker plot\n",
    "plt.boxplot(x)\n",
    "# show line plot\n",
    "plt.show()"
   ]
  },
  {
   "cell_type": "markdown",
   "metadata": {},
   "source": [
    "This is an example of a **scatter plot**.  In this case all we are showing is the actual point."
   ]
  },
  {
   "cell_type": "code",
   "execution_count": null,
   "metadata": {},
   "outputs": [],
   "source": [
    "%matplotlib inline\n",
    "\n",
    "# example of a scatter plot\n",
    "import numpy.random as np\n",
    "import matplotlib.pyplot as plt\n",
    "\n",
    "# seed the random number generator\n",
    "np.seed(1)\n",
    "\n",
    "x = []\n",
    "y = []\n",
    "\n",
    "for var in range(1000):\n",
    "    # first variable\n",
    "    x.append(20 * np.randn() + 100)\n",
    "\n",
    "    # second variable\n",
    "    y.append(10 * var + 50)\n",
    "    \n",
    "# create scatter plot\n",
    "plt.scatter(x, y)\n",
    "\n",
    "# show line plot\n",
    "plt.show()"
   ]
  },
  {
   "cell_type": "markdown",
   "metadata": {},
   "source": [
    "## Any Questions?\n",
    "---\n",
    "###### for any questions contact <jimmy@coolkidscodingschool.com>"
   ]
  },
  {
   "cell_type": "code",
   "execution_count": null,
   "metadata": {},
   "outputs": [],
   "source": []
  }
 ],
 "metadata": {
  "kernelspec": {
   "display_name": "Python 3",
   "language": "python",
   "name": "python3"
  },
  "language_info": {
   "codemirror_mode": {
    "name": "ipython",
    "version": 3
   },
   "file_extension": ".py",
   "mimetype": "text/x-python",
   "name": "python",
   "nbconvert_exporter": "python",
   "pygments_lexer": "ipython3",
   "version": "3.6.4"
  }
 },
 "nbformat": 4,
 "nbformat_minor": 2
}
