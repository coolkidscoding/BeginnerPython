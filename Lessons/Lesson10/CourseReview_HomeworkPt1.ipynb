{
 "cells": [
  {
   "cell_type": "markdown",
   "metadata": {},
   "source": [
    "![](images/ckcslogo.png)\n",
    "## [Cool Kids Coding School](http://www.coolkidscodingschool.com)  \n",
    "\n",
    "##### _Introductory Python_  \n",
    "###### Lesson 10: Review Homework (pt1)\n",
    "---"
   ]
  },
  {
   "cell_type": "markdown",
   "metadata": {},
   "source": [
    "#### Question #1:\n",
    "\n",
    "This question is about variables.  Follow the instructions below:"
   ]
  },
  {
   "cell_type": "code",
   "execution_count": null,
   "metadata": {},
   "outputs": [],
   "source": [
    "# Create 4 variables below, using any valid variable name.  Each variable should hold data of a different type.\n",
    "\n",
    "# Add print statements that print out the type of the variable.\n"
   ]
  },
  {
   "cell_type": "markdown",
   "metadata": {},
   "source": [
    "#### Question #2:\n",
    "\n",
    "This question is about variables and operators.  Follow the instructions below:"
   ]
  },
  {
   "cell_type": "code",
   "execution_count": null,
   "metadata": {},
   "outputs": [],
   "source": [
    "# Create 6 variables below, using any valid variable name.  The variables should all hold numeric data (either int or float).  \n",
    "\n",
    "# Use the variables you created above with 4 different arithmetic operators and print out the results\n",
    "\n",
    "# Use the variables you created above with 3 different comparison operators and print out the results\n"
   ]
  },
  {
   "cell_type": "markdown",
   "metadata": {},
   "source": [
    "#### Question #3:\n",
    "\n",
    "This question is about data structures, specifically lists.  Follow the instructions below:"
   ]
  },
  {
   "cell_type": "code",
   "execution_count": null,
   "metadata": {},
   "outputs": [],
   "source": [
    "# Create an empty list \n",
    "\n",
    "# Add 5 elements to your list\n",
    "\n",
    "# Print out the length of your list\n",
    "\n",
    "# Print out the first element in your list\n",
    "\n",
    "# Print out the last element in your list\n",
    "\n",
    "# Print out the result of searching for the number 5 in your list\n"
   ]
  },
  {
   "cell_type": "markdown",
   "metadata": {},
   "source": [
    "#### Question #4:\n",
    "\n",
    "This question is about data structures, specifically dictionaries.  Follow the instructions below:"
   ]
  },
  {
   "cell_type": "code",
   "execution_count": null,
   "metadata": {},
   "outputs": [],
   "source": [
    "# Create an empty dictionary\n",
    "\n",
    "# Add 5 elements to your dictionary, use any key and any value you want\n",
    "\n",
    "# Print out the length of your dictionary\n",
    "\n",
    "# Print out the keys of your dictionary\n",
    "\n",
    "# Print out the values of your dictionary\n",
    "\n",
    "# Print out any element from your dictionary\n",
    "\n",
    "# Print out the result of searching for the key 'hello' in your dictionary\n"
   ]
  },
  {
   "cell_type": "markdown",
   "metadata": {},
   "source": [
    "#### Question #5:\n",
    "\n",
    "This question is about data structures, specifically tuples.  Follow the instructions below:"
   ]
  },
  {
   "cell_type": "code",
   "execution_count": null,
   "metadata": {},
   "outputs": [],
   "source": [
    "# Create a tuple with 3 elements\n",
    "\n",
    "# Print out the length of your tuple\n",
    "\n",
    "# Print out the type of your tuple\n",
    "\n",
    "# Print out the result of searching for the number 5 in your tuple\n"
   ]
  },
  {
   "cell_type": "markdown",
   "metadata": {},
   "source": [
    "#### Question #6:\n",
    "\n",
    "This question is about data structures, specifically sets.  Follow the instructions below:"
   ]
  },
  {
   "cell_type": "code",
   "execution_count": null,
   "metadata": {},
   "outputs": [],
   "source": [
    "# Create an empty set\n",
    "\n",
    "# Add 5 elements to your set\n",
    "\n",
    "# Create another empty set\n",
    "\n",
    "# Add 2 elements to your 2nd set\n",
    "\n",
    "# Print the union of these two sets\n",
    "\n",
    "# Print the intersection of these two sets\n"
   ]
  },
  {
   "cell_type": "markdown",
   "metadata": {},
   "source": [
    "## Any Questions?\n",
    "---\n",
    "###### for any questions contact <hw_help@coolkidscodingschool.com>"
   ]
  }
 ],
 "metadata": {
  "kernelspec": {
   "display_name": "Python 3",
   "language": "python",
   "name": "python3"
  },
  "language_info": {
   "codemirror_mode": {
    "name": "ipython",
    "version": 3
   },
   "file_extension": ".py",
   "mimetype": "text/x-python",
   "name": "python",
   "nbconvert_exporter": "python",
   "pygments_lexer": "ipython3",
   "version": "3.6.4"
  }
 },
 "nbformat": 4,
 "nbformat_minor": 2
}
