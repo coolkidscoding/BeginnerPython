{
 "cells": [
  {
   "cell_type": "markdown",
   "metadata": {},
   "source": [
    "## [Cool Kids Coding School](http://www.coolkidscodingschool.com)  \n",
    "\n",
    "##### _Introductory Python_  \n",
    "###### Lesson 11: Review Homework\n",
    "---"
   ]
  },
  {
   "cell_type": "markdown",
   "metadata": {},
   "source": [
    "#### Question #1:\n",
    "\n",
    "This question is about variables.  Follow the instructions below:"
   ]
  },
  {
   "cell_type": "code",
   "execution_count": null,
   "metadata": {},
   "outputs": [],
   "source": [
    "# Create 4 variables below, using any valid variable name.  Each variable should hold data of a different type.\n",
    "\n",
    "# Add print statements that print out the type of the variable.\n"
   ]
  },
  {
   "cell_type": "markdown",
   "metadata": {},
   "source": [
    "#### Question #2:\n",
    "\n",
    "This question is about variables and operators.  Follow the instructions below:"
   ]
  },
  {
   "cell_type": "code",
   "execution_count": null,
   "metadata": {},
   "outputs": [],
   "source": [
    "# Create 6 variables below, using any valid variable name.  The variables should all hold numeric data (either int or float).  \n",
    "\n",
    "# Use the variables you created above with 4 different arithmetic operators and print out the results\n",
    "\n",
    "# Use the variables you created above with 3 different comparison operators and print out the results\n"
   ]
  },
  {
   "cell_type": "markdown",
   "metadata": {},
   "source": [
    "#### Question #3:\n",
    "\n",
    "This question is about data structures, specifically lists.  Follow the instructions below:"
   ]
  },
  {
   "cell_type": "code",
   "execution_count": null,
   "metadata": {},
   "outputs": [],
   "source": [
    "# Create an empty list \n",
    "\n",
    "# Add 5 elements to your list\n",
    "\n",
    "# Print out the length of your list\n",
    "\n",
    "# Print out the first element in your list\n",
    "\n",
    "# Print out the last element in your list\n",
    "\n",
    "# Print out the result of searching for the number 5 in your list\n"
   ]
  },
  {
   "cell_type": "markdown",
   "metadata": {},
   "source": [
    "#### Question #4:\n",
    "\n",
    "This question is about data structures, specifically dictionaries.  Follow the instructions below:"
   ]
  },
  {
   "cell_type": "code",
   "execution_count": null,
   "metadata": {},
   "outputs": [],
   "source": [
    "# Create an empty dictionary\n",
    "\n",
    "# Add 5 elements to your dictionary, use any key and any value you want\n",
    "\n",
    "# Print out the length of your dictionary\n",
    "\n",
    "# Print out the keys of your dictionary\n",
    "\n",
    "# Print out the values of your dictionary\n",
    "\n",
    "# Print out any element from your dictionary\n",
    "\n",
    "# Print out the result of searching for the key 'hello' in your dictionary\n"
   ]
  },
  {
   "cell_type": "markdown",
   "metadata": {},
   "source": [
    "#### Question #5:\n",
    "\n",
    "This question is about data structures, specifically tuples.  Follow the instructions below:"
   ]
  },
  {
   "cell_type": "code",
   "execution_count": null,
   "metadata": {},
   "outputs": [],
   "source": [
    "# Create a tuple with 3 elements\n",
    "\n",
    "# Print out the length of your tuple\n",
    "\n",
    "# Print out the type of your tuple\n",
    "\n",
    "# Print out the result of searching for the number 5 in your tuple\n"
   ]
  },
  {
   "cell_type": "markdown",
   "metadata": {},
   "source": [
    "#### Question #6:\n",
    "\n",
    "This question is about data structures, specifically sets.  Follow the instructions below:"
   ]
  },
  {
   "cell_type": "code",
   "execution_count": null,
   "metadata": {},
   "outputs": [],
   "source": [
    "# Create an empty set\n",
    "\n",
    "# Add 5 elements to your set\n",
    "\n",
    "# Create another empty set\n",
    "\n",
    "# Add 2 elements to your 2nd set\n",
    "\n",
    "# Print the union of these two sets\n",
    "\n",
    "# Print the intersection of these two sets\n"
   ]
  },
  {
   "cell_type": "markdown",
   "metadata": {},
   "source": [
    "#### Question #7:\n",
    "\n",
    "This question is about loops, specifically while loops.  Follow the instructions below:"
   ]
  },
  {
   "cell_type": "code",
   "execution_count": null,
   "metadata": {},
   "outputs": [],
   "source": [
    "# Write a while loop that will count how many time 2 fits into 20, do this programmatically\n"
   ]
  },
  {
   "cell_type": "markdown",
   "metadata": {},
   "source": [
    "#### Question #8:\n",
    "\n",
    "This question is about loops, specifically for loops.  Follow the instructions below:"
   ]
  },
  {
   "cell_type": "code",
   "execution_count": null,
   "metadata": {},
   "outputs": [],
   "source": [
    "# Create a list with 5 numbers \n",
    "\n",
    "# Create a for loop that will sum all the values in the list together\n",
    "\n",
    "# Print out the sum\n"
   ]
  },
  {
   "cell_type": "markdown",
   "metadata": {},
   "source": [
    "#### Question #9:\n",
    "\n",
    "This question is about conditionals.  Follow the instructions below:"
   ]
  },
  {
   "cell_type": "code",
   "execution_count": null,
   "metadata": {},
   "outputs": [],
   "source": [
    "# Create a loop that will loop over all the numbers from 0 to 99\n",
    "\n",
    "# Add a conditional to your loop that will identify odd numbers and print them out\n"
   ]
  },
  {
   "cell_type": "markdown",
   "metadata": {},
   "source": [
    "#### Question #10:\n",
    "\n",
    "This question is about functions.  Follow the instructions below:"
   ]
  },
  {
   "cell_type": "code",
   "execution_count": null,
   "metadata": {},
   "outputs": [],
   "source": [
    "# Create a HelloWorld function that takes one argument, a name.  When you execute this function it should \n",
    "# print out 'hello world from <your name here>'\n",
    "\n",
    "# Call the HelloWorld function with 3 different names\n"
   ]
  },
  {
   "cell_type": "markdown",
   "metadata": {},
   "source": [
    "## Any Questions?\n",
    "---\n",
    "###### for any questions contact <jimmy@coolkidscodingschool.com>"
   ]
  }
 ],
 "metadata": {
  "kernelspec": {
   "display_name": "Python 3",
   "language": "python",
   "name": "python3"
  },
  "language_info": {
   "codemirror_mode": {
    "name": "ipython",
    "version": 3
   },
   "file_extension": ".py",
   "mimetype": "text/x-python",
   "name": "python",
   "nbconvert_exporter": "python",
   "pygments_lexer": "ipython3",
   "version": "3.6.4"
  }
 },
 "nbformat": 4,
 "nbformat_minor": 2
}
