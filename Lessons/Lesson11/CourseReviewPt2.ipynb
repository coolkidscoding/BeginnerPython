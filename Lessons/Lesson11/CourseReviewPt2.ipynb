{
 "cells": [
  {
   "cell_type": "markdown",
   "metadata": {},
   "source": [
    "<div>\n",
    "\n",
    "<p>\n",
    "<img align=left src=\"images/ckcslogo.png\">\n",
    "</p>\n",
    "\n",
    "---\n",
    "\n",
    "<p>\n",
    "<H1 align=left><a href=\"http://www.coolkidscodingschool.com\">Cool Kids Coding School</a></H1>\n",
    "<H2 align=left>Course: <strong>Introductory Python</strong></H1>\n",
    "<H3 align=left>Lesson 11: <strong>Course Review II</strong></H3>\n",
    "</p>\n",
    "\n",
    "</div>\n",
    "\n",
    "---"
   ]
  },
  {
   "cell_type": "markdown",
   "metadata": {},
   "source": [
    "### Overview\n",
    "- Welcome!\n",
    "- Go over syllabus objectives for today\n",
    "- Review all material in prep for test next week"
   ]
  },
  {
   "cell_type": "markdown",
   "metadata": {},
   "source": [
    "## Loops and Conditionals\n",
    "\n",
    "Why do we need loops?  What do loops allow us to do that we couldn't do already?\n",
    "\n",
    "In this class we discussed two types of loops, **while** and **for**.  Loops execute a section of code over and over again.  The terminating criteria for a loop is different in each loop.  We will review more below.\n",
    "\n",
    "We also discussed the need for **conditionals**.  A conditional is a decision.  Depending on certain criteria a conditional will execute a different section of code.\n",
    "\n",
    "Both loops as well as conditionals allow for the creation of **code blocks** which are sections of code that may or may not get executed, depending on whether the loop is entered or a conditional evaluates to true."
   ]
  },
  {
   "cell_type": "markdown",
   "metadata": {},
   "source": [
    "### While Loop\n",
    "\n",
    "A **while** loop contains a condition.  A **while** loop will enter and continue looping while the condition evaluates to true.  In other words we continue looping while the condition of the loop is true."
   ]
  },
  {
   "cell_type": "code",
   "execution_count": null,
   "metadata": {},
   "outputs": [],
   "source": [
    "import random\n",
    "\n",
    "sum_variable = 0\n",
    "number_of_iterations = 0\n",
    "\n",
    "while sum_variable < 1000:\n",
    "    sum_variable = sum_variable + random.randint(1,10)\n",
    "    number_of_iterations = number_of_iterations + 1\n",
    "    print('Sum variable is currently at', sum_variable)\n",
    "    \n",
    "print('It took', number_of_iterations, 'to get above 1000')\n"
   ]
  },
  {
   "cell_type": "markdown",
   "metadata": {},
   "source": [
    "### For Loop\n",
    "\n",
    "Unlike a **while** loop, a **for** loop has a loop variable and is attached to a data structure.  In the **for** we will loop over every element in that data structure, the loop variable will take the value of each element in the data structure."
   ]
  },
  {
   "cell_type": "code",
   "execution_count": null,
   "metadata": {},
   "outputs": [],
   "source": [
    "loop_data_structure = [1,2,3,4,5,6,7,8,9,10]\n",
    "loop_data_structure_plus_one = []\n",
    "\n",
    "for var in loop_data_structure:\n",
    "    loop_data_structure_plus_one.append(var + 1)\n",
    "    \n",
    "print('Loop data structure plus one', loop_data_structure_plus_one)"
   ]
  },
  {
   "cell_type": "markdown",
   "metadata": {},
   "source": [
    "For all loops there are ways where we can disrupt the looping.  In one case we want to exit the loop early, so we can use the **break** statement.  In another case we want to skip the current iteration, so we can use the **continue** statement.  We will see these statements used when we review **conditionals** below."
   ]
  },
  {
   "cell_type": "markdown",
   "metadata": {},
   "source": [
    "### Conditionals\n",
    "\n",
    "Conditionals are also known as **if** statements.  A conditional allows us to change the execution of the code based on whether the condition evaluates to true or false.  A conditional can have many sections.  Each section can check for a different condition.  The section that evaluates to true is the section that will be executed."
   ]
  },
  {
   "cell_type": "code",
   "execution_count": null,
   "metadata": {},
   "outputs": [],
   "source": [
    "# find the even numbers above 10 and below 50\n",
    "results = []\n",
    "for var in range(100):\n",
    "    \n",
    "    # go back to the top of the loop if the value is less or equal to 10\n",
    "    if var <= 10:\n",
    "        continue\n",
    "        \n",
    "    # break out of the loop if the value is greater or equal 50\n",
    "    if var >= 50:\n",
    "        break\n",
    "        \n",
    "    # add the values that have no remainder after dividing by 2\n",
    "    if var % 2 == 0:\n",
    "        results.append(var)\n",
    "    \n",
    "print('Results', results)"
   ]
  },
  {
   "cell_type": "markdown",
   "metadata": {},
   "source": [
    "## Functions and Packages\n",
    "\n",
    "What are **functions**, what are they used for?  \n",
    "If you think about it, this whole course we have been writing code for 10+ weeks now.  In many cases we wrote the same code over and over.  \n",
    "It would have been great if we could reuse this code.  This is what **functions** are.\n",
    "\n",
    "**Packages** are collections of functions that are related.  We have used several packages in this course so far."
   ]
  },
  {
   "cell_type": "markdown",
   "metadata": {},
   "source": [
    "### Functions\n",
    "\n",
    "Functions are pieces of code that reusable and only executed if they are explicitly executed.  They are identified from the keyword **def**.  A function may or may not have have variables that are used in the function code.  If it does then these variables are \n",
    "\n",
    "They are very important and everyone should be very comfortable with them.\n"
   ]
  },
  {
   "cell_type": "code",
   "execution_count": null,
   "metadata": {},
   "outputs": [],
   "source": [
    "# function used to calculate the average score\n",
    "def AverageScore(lstvar):\n",
    "    sum_var = 0\n",
    "    for var in lstvar:\n",
    "        sum_var = sum_var + var\n",
    "        \n",
    "    return sum_var/len(lstvar)\n",
    "\n",
    "test_scores_class1 = [100, 98, 76, 82, 65, 90]\n",
    "test_scores_class2 = [100,100, 95, 32, 76, 93]\n",
    "test_scores_class3 = [77, 89,  91, 70, 88, 87]\n",
    "\n",
    "test_scores = [test_scores_class1, test_scores_class2, test_scores_class3]\n",
    "\n",
    "for lst in test_scores:\n",
    "    avg_score = AverageScore(lst)\n",
    "    print('Average test score ', avg_score)\n",
    "    "
   ]
  },
  {
   "cell_type": "markdown",
   "metadata": {},
   "source": [
    "### Packages\n",
    "\n",
    "+ **random** contains functions that are used to generate random numbers\n",
    "+ **datetime** contains functions that are used to represent dates and times\n",
    "+ **matplotlib** contains functions that are used for graphing\n",
    "+ **request** contains functions that are used for making internet requests"
   ]
  },
  {
   "cell_type": "markdown",
   "metadata": {},
   "source": [
    "## Any Questions?\n",
    "---\n",
    "###### for any questions contact <hw_help@coolkidscodingschool.com>"
   ]
  }
 ],
 "metadata": {
  "kernelspec": {
   "display_name": "Python 3",
   "language": "python",
   "name": "python3"
  },
  "language_info": {
   "codemirror_mode": {
    "name": "ipython",
    "version": 3
   },
   "file_extension": ".py",
   "mimetype": "text/x-python",
   "name": "python",
   "nbconvert_exporter": "python",
   "pygments_lexer": "ipython3",
   "version": "3.6.4"
  }
 },
 "nbformat": 4,
 "nbformat_minor": 2
}