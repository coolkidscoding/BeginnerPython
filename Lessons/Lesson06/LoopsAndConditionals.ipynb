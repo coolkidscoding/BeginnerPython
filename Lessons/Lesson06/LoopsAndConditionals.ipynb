{
 "cells": [
  {
   "cell_type": "markdown",
   "metadata": {},
   "source": [
    "## [Cool Kids Coding School](http://www.coolkidscodingschool.com)  \n",
    "\n",
    "##### _Introductory Python_  \n",
    "###### Lesson 6: Loops and Conditionals  \n",
    "\n",
    "\n",
    "---"
   ]
  },
  {
   "cell_type": "markdown",
   "metadata": {},
   "source": [
    "### Overview\n",
    "- Welcome!\n",
    "- Go over syllabus objectives for today\n",
    "- Key points from last lesson\n",
    "- Why do we need to loops?\n",
    "- What are conditional statements and flow of control used for?\n",
    "- Review homework"
   ]
  },
  {
   "cell_type": "markdown",
   "metadata": {},
   "source": [
    "### Key points from last lesson\n",
    "+ We reviewed four different data structures last lesson\n",
    "    + list\n",
    "    + dictionary\n",
    "    + tuple\n",
    "    + set\n",
    "+ We discussed how to create data structures\n",
    "+ We discussed how to add elements to data structures\n",
    "+ We discussed how to access elements in data structures\n",
    "+ We discussed how to search through elements in data structures"
   ]
  },
  {
   "cell_type": "markdown",
   "metadata": {},
   "source": [
    "### Why do we need loops?\n",
    "Computers are great at managing large amounts of data.  They are also great at doing the same thing over and over again - without getting bored.  \n",
    "If we have a million exams to correct, a computer can do it very quickly and without errors.  To be able to process a large amount of data we have to setup a program that will \"loop\" over a large amount of records.  In Python we call this looping, because we loop over each pice of data and do something to it.  In other words we process it."
   ]
  },
  {
   "cell_type": "markdown",
   "metadata": {},
   "source": [
    "### Different types of loops\n",
    "\n",
    "In Python there are two types of loops.  There is the **_for_** loop and the **_while_** loop.  Each loop requires a way to specify for how long the loop should continue.  In programming, another word for looping is called \"iterating\" because we iterate over some sequence.\n",
    "\n",
    "We will learn about the details of these below.\n",
    "\n",
    "#### _while_ loop\n",
    "\n",
    "A **while** loop will loop while the conditional that defines it is True.  Once the conditional that defines this loop become False then the loop will stop.  "
   ]
  },
  {
   "cell_type": "code",
   "execution_count": null,
   "metadata": {
    "scrolled": true
   },
   "outputs": [],
   "source": [
    "# a while loop requires a variable that it \n",
    "# checks against to be True in order for the\n",
    "# loop to continue\n",
    "list_variable = []\n",
    "while len(list_variable) < 10:\n",
    "    list_variable.append('hello')\n",
    "    \n",
    "print(list_variable)"
   ]
  },
  {
   "cell_type": "markdown",
   "metadata": {},
   "source": [
    "**SIDE NOTE**: A very important thing to notice in the code above is the indentation.  We have not seen that before.  With the introduction of the loops we know have the ability to do code that is in the loop and code that is out of the loop.  This in general is what is called a **code block**.  In Python, code blocks are identified by indentations.  All the code at the same level of indentation is considered to be in the same code block. "
   ]
  },
  {
   "cell_type": "markdown",
   "metadata": {},
   "source": [
    "```python\n",
    "code block 1\n",
    "code block 1\n",
    "    code block 2\n",
    "    code block 2\n",
    "        code block 3\n",
    "    code block 2\n",
    "code block 1\n",
    "```\n",
    "In the above example I have marked the differe\n",
    "nt code blocks that are created.  Code blocks can be inside other code blocks.  Code blocks are defined by various Python language statements.  In this case loops are defining code blocks.  Below we will see how conditional statements define code blocks."
   ]
  },
  {
   "cell_type": "markdown",
   "metadata": {},
   "source": [
    "In the previous example we added elements to a list, here we modify elements in a list.  This is an example of processing data."
   ]
  },
  {
   "cell_type": "code",
   "execution_count": null,
   "metadata": {
    "scrolled": true
   },
   "outputs": [],
   "source": [
    "list_variable = [1,2,3,4,5,6,7,8,9,10]\n",
    "\n",
    "# define the start and stop index \n",
    "list_index = 0\n",
    "list_upper_index = len(list_variable) - 1\n",
    "print('list_index, ', list_index, ' list_upper_index, ', list_upper_index)\n",
    "\n",
    "# iterate while the value in the list_index variable is less than the list_upper_index\n",
    "while list_index <= list_upper_index:\n",
    "    \n",
    "    # square each number\n",
    "    list_variable[list_index] = list_variable[list_index] ** 2\n",
    "    \n",
    "    # increment the list_index variable so we can advance to the next element\n",
    "    list_index = list_index + 1\n",
    "    \n",
    "print(list_variable)"
   ]
  },
  {
   "cell_type": "code",
   "execution_count": null,
   "metadata": {
    "scrolled": true
   },
   "outputs": [],
   "source": [
    "# another example\n",
    "# set the starting point\n",
    "var1 = 0\n",
    "\n",
    "# while the value in the var1 variable is less than 10\n",
    "while var1 <= 10:\n",
    "    print('var1 is ', var1)\n",
    "    \n",
    "    # increment the variable by 1\n",
    "    var1 = var1 + 1\n",
    "    \n",
    "print(var1)"
   ]
  },
  {
   "cell_type": "code",
   "execution_count": null,
   "metadata": {
    "scrolled": true
   },
   "outputs": [],
   "source": [
    "# here is an example where we count down\n",
    "\n",
    "# set the starting point\n",
    "var1 = 10\n",
    "\n",
    "# while the value in variable 1 is greater than or equal to 0\n",
    "while var1 >= 0:\n",
    "    print('var1 is, ', var1)\n",
    "    \n",
    "    # decrement the variable\n",
    "    var1 = var1 - 1\n",
    "    \n",
    "print('var1 final value is', var1)"
   ]
  },
  {
   "cell_type": "markdown",
   "metadata": {},
   "source": [
    "In any programming language, if the conditional portion of the loop does not become False then the loop will go on forever, this is called an infinite loop.  The loop will continue until you run out of memory - a long time.  To stop an infinite loop - enter command mode (press ESC) then press I twice."
   ]
  },
  {
   "cell_type": "code",
   "execution_count": null,
   "metadata": {
    "scrolled": true
   },
   "outputs": [],
   "source": [
    "# this is an infinite loop\n",
    "var1 = 0\n",
    "while True:\n",
    "    print('I am in an infinite loop, ', var1)\n",
    "    var1 = var1 + 1\n",
    "print(var1)"
   ]
  },
  {
   "cell_type": "markdown",
   "metadata": {},
   "source": [
    "Similarly, if the conditional in the while loop never becomes True, then we will never enter the loop at all."
   ]
  },
  {
   "cell_type": "markdown",
   "metadata": {},
   "source": [
    "Thats all there is to a **while** loop.  Any questions?"
   ]
  },
  {
   "cell_type": "markdown",
   "metadata": {},
   "source": [
    "#### _for_ loop"
   ]
  },
  {
   "cell_type": "markdown",
   "metadata": {},
   "source": [
    "A _while_ loop was ideal for looping over until a conditional turned to False, but what if I had a data structure and wanted to loop over all the elements in the data structure?\n",
    "This is what the _for_ loop is ideally suited for.\n",
    "In a _for_ loop we loop over every item in a data structure.  "
   ]
  },
  {
   "cell_type": "code",
   "execution_count": null,
   "metadata": {
    "scrolled": true
   },
   "outputs": [],
   "source": [
    "# start with a populated data structure\n",
    "list_variable = [1,2,3,4,5,6,7,8,9,10]\n",
    "\n",
    "# In a for loop we itereate over all the elements in the sequence\n",
    "# To setup a for loop correctly we need a variable name, in this case elt (could be any variable name)\n",
    "# Then we need a sequence, in this case list_varaible\n",
    "for elt in list_variable:\n",
    "    print('Inside the loop, element in the list, ', elt)\n",
    "    \n",
    "print('Outside the loop')"
   ]
  },
  {
   "cell_type": "code",
   "execution_count": null,
   "metadata": {
    "scrolled": true
   },
   "outputs": [],
   "source": [
    "# in this example we loop over the elements in a dictionary\n",
    "dict_variable = {'a':1, 'b':2, 'c':3, 'd':4, 'e':5}\n",
    "for elt in dict_variable:\n",
    "    print(item)\n",
    "    \n",
    "# as you can see by the output the default values that are\n",
    "# looped over when you use the dictionary, are the keys"
   ]
  },
  {
   "cell_type": "code",
   "execution_count": null,
   "metadata": {
    "scrolled": true
   },
   "outputs": [],
   "source": [
    "# this is the same thing as above, only we are explicitly \n",
    "# using the keys function associated with dictionaries\n",
    "for key in dict_variable.keys():\n",
    "    print(key)"
   ]
  },
  {
   "cell_type": "code",
   "execution_count": null,
   "metadata": {
    "scrolled": true
   },
   "outputs": [],
   "source": [
    "# here we are looping over the values in the dictionary\n",
    "# by using the values function associated with dictionaries\n",
    "for value in dict_variable.values():\n",
    "    print(value)"
   ]
  },
  {
   "cell_type": "code",
   "execution_count": null,
   "metadata": {
    "scrolled": true
   },
   "outputs": [],
   "source": [
    "# here we are looping over the keys and values in a dictionary \n",
    "# by using the items function associated with dictionaries\n",
    "# if you recall the items function returns a list of tuples which are (key, value)\n",
    "for items in dict_variable.items():\n",
    "    print(items)"
   ]
  },
  {
   "cell_type": "code",
   "execution_count": null,
   "metadata": {
    "scrolled": true
   },
   "outputs": [],
   "source": [
    "# here we are still using the items function but we are using tuple unpacking\n",
    "# to explicitly assign the key to variable key and the value to variable value\n",
    "for key,value in dict_variable.items():\n",
    "    print('key, ', key, ' value, ', value)"
   ]
  },
  {
   "cell_type": "code",
   "execution_count": null,
   "metadata": {
    "scrolled": true
   },
   "outputs": [],
   "source": [
    "# here is an example where we iterate over the\n",
    "# elements of a dictionary and modify them\n",
    "\n",
    "dict_variable = {'key1':1, 'key2':4, 'key3':3, 'key4':10, 'key5':13}\n",
    "print(dict_variable)\n",
    "for key, value in dict_variable.items():\n",
    "    dict_variable[key] = value ** 2 \n",
    "\n",
    "print(dict_variable)"
   ]
  },
  {
   "cell_type": "markdown",
   "metadata": {},
   "source": [
    "The final thing we are going to talk about with loops is the builtin function called _range_\n",
    "The range function allows us to create a sequence of numbers up to a specified limit."
   ]
  },
  {
   "cell_type": "code",
   "execution_count": null,
   "metadata": {
    "scrolled": true
   },
   "outputs": [],
   "source": [
    "range(100)"
   ]
  },
  {
   "cell_type": "code",
   "execution_count": null,
   "metadata": {
    "scrolled": true
   },
   "outputs": [],
   "source": [
    "for elt in range(100):\n",
    "    print(elt)"
   ]
  },
  {
   "cell_type": "markdown",
   "metadata": {},
   "source": [
    "#### Conditional Statements"
   ]
  },
  {
   "cell_type": "markdown",
   "metadata": {},
   "source": [
    "This next topic is also known as **if** statements.  The need for these kind of statements should be at least semi-obvious.  When we are processing alot of data most of the time we need to make decisions based on the value we are looking at.  This is what conditional statements are used for."
   ]
  },
  {
   "cell_type": "markdown",
   "metadata": {},
   "source": [
    "Just like loops, with conditional statements we also have code blocks.  We have code that is outside the loop, code that is in the loop and code that is in the conditional.  Pay attention to this."
   ]
  },
  {
   "cell_type": "code",
   "execution_count": null,
   "metadata": {
    "scrolled": true
   },
   "outputs": [],
   "source": [
    "# we are going to setup a loop and only add numbers \n",
    "# greater than 50 to a list\n",
    "\n",
    "list_variable = []\n",
    "\n",
    "# code block outside the loop\n",
    "for elt in range(100):\n",
    "    # code block in the loop\n",
    "    if elt > 50:\n",
    "        # code block in the conditional\n",
    "        list_variable.append(elt)\n",
    "        \n",
    "print(list_variable)"
   ]
  },
  {
   "cell_type": "code",
   "execution_count": null,
   "metadata": {
    "scrolled": true
   },
   "outputs": [],
   "source": [
    "# in this example we are only going to use the values in the list \n",
    "# that are less than 50\n",
    "list_variable = []\n",
    "for elt in range(100):\n",
    "    \n",
    "    # if the value is less than 50 add it to the list\n",
    "    if elt < 50:\n",
    "        list_variable.append(elt)\n",
    "        \n",
    "print(list_variable)"
   ]
  },
  {
   "cell_type": "markdown",
   "metadata": {},
   "source": [
    "With conditionals, in some cases we want to execute a certain code block, in another case we want to execute a different code block.  We can achieve this with the **else** clause of a conditional."
   ]
  },
  {
   "cell_type": "code",
   "execution_count": null,
   "metadata": {
    "scrolled": true
   },
   "outputs": [],
   "source": [
    "# in this example we will create two lists one for values below 50\n",
    "# one for values above 50.  We will use the else in the conditional to \n",
    "# achieve this\n",
    "list_var_above_50 = []\n",
    "list_var_below_50 = []\n",
    "for elt in range(100):\n",
    "\n",
    "    if elt < 50:\n",
    "        # if the value is below 50 add it to this list\n",
    "        list_var_below_50.append(elt)\n",
    "    else:\n",
    "        # else if the value is not below 50 add it to this list\n",
    "        list_var_above_50.append(elt)\n",
    "        \n",
    "print('Below 50, ', list_var_below_50)\n",
    "print('Above 50, ', list_var_above_50)\n"
   ]
  },
  {
   "cell_type": "markdown",
   "metadata": {},
   "source": [
    "The **if** statement is not limited to 2 clauses.  I can have as many as I want.  This is accomplished by the **elif** clause. "
   ]
  },
  {
   "cell_type": "code",
   "execution_count": null,
   "metadata": {
    "scrolled": true
   },
   "outputs": [],
   "source": [
    "# in this example we will setup 3 lists\n",
    "# all values below 30 will go in one list\n",
    "# all values between 30 and below 60 will go in another list\n",
    "# all values 60 and above will go in a third list\n",
    "list_0_29 = []\n",
    "list_30_59 = []\n",
    "list_60_99 = []\n",
    "\n",
    "for elt in range(100):\n",
    "    if elt >= 0 and elt < 30:\n",
    "        list_0_29.append(elt)\n",
    "    elif elt >= 30 and elt < 60:\n",
    "        list_30_59.append(elt)\n",
    "    elif elt >= 60 and elt < 100:\n",
    "        list_60_99.append(elt)\n",
    "        \n",
    "print('0-29, ', list_0_29)\n",
    "print('30-59, ', list_30_59)\n",
    "print('60-99, ', list_60_99)"
   ]
  },
  {
   "cell_type": "code",
   "execution_count": null,
   "metadata": {
    "scrolled": true
   },
   "outputs": [],
   "source": [
    "# this is the same example as above with a slight modification\n",
    "# in the above example we handle all values between 0 and 99\n",
    "# what happens if we find a value that we didn't expect?\n",
    "\n",
    "list_0_29 = []\n",
    "list_30_59 = []\n",
    "list_60_99 = []\n",
    "\n",
    "# in this case our loop goes from 0-100, not 99\n",
    "# where does the value 100 go?\n",
    "for elt in range(101):\n",
    "    if elt >= 0 and elt < 30:\n",
    "        list_0_29.append(elt)\n",
    "    elif elt >= 30 and elt < 60:\n",
    "        list_30_59.append(elt)\n",
    "    elif elt >= 60 and elt < 100:\n",
    "        list_60_99.append(elt)\n",
    "    else:\n",
    "        print('Found a value I dont know what to do with ', elt)\n",
    "        \n",
    "print('0-29, ', list_0_29)\n",
    "print('30-59, ', list_30_59)\n",
    "print('60-99, ', list_60_99)"
   ]
  },
  {
   "cell_type": "markdown",
   "metadata": {},
   "source": [
    "What if we want to exit a loop early?  Let's say we are adding up numbers and we want to exit the loop once we get to a certain value.  How do we do that?  There is a keyword in Python that is associated with loops called **break**."
   ]
  },
  {
   "cell_type": "code",
   "execution_count": null,
   "metadata": {
    "scrolled": true
   },
   "outputs": [],
   "source": [
    "# setup a simple loop from 0 - 99\n",
    "# keep adding numbers together until we get above 100\n",
    "# break out of the loop once we reach that goal\n",
    "\n",
    "value_sum = 0\n",
    "for elt in range(100):\n",
    "    value_sum = value_sum + elt\n",
    "    print('Trying to get to 100, element value is ', elt, ' value sum is ', value_sum)\n",
    "    if value_sum >= 100:\n",
    "        break\n",
    "        \n"
   ]
  },
  {
   "cell_type": "markdown",
   "metadata": {},
   "source": [
    "Lets say we are iterating over a sequence of numbers and we want to skip any numbers that are odd.  How do we ignore the odd numbers?  There is a keyword in Python called **continue** that allows us to do this.\n",
    "\n",
    "First of all, what is an odd number?  In this exercise we are going to use the remainder function to identify odd numbers.  When we divide a number by 2 an odd number has a remainder of 1, because they dont evenly divide by 2, an even number has a remanider of 0. "
   ]
  },
  {
   "cell_type": "code",
   "execution_count": null,
   "metadata": {
    "scrolled": true
   },
   "outputs": [],
   "source": [
    "# create an empty list to accumulate the results we want\n",
    "list_even = []\n",
    "\n",
    "# loop from 0 to 99\n",
    "for elt in range(100):\n",
    "    \n",
    "    # calculate the remainder\n",
    "    remainder = elt % 2\n",
    "    \n",
    "    # test the remainder\n",
    "    if remainder == 1:\n",
    "        # if the remainder is 1 (ie elt is odd, continue the loop)\n",
    "        continue\n",
    "        \n",
    "    # if we get here then the remainder is 0\n",
    "    # which means it is an even number\n",
    "    list_even.append(elt)\n",
    "    \n",
    "print(list_even)\n",
    "        "
   ]
  },
  {
   "cell_type": "markdown",
   "metadata": {},
   "source": [
    "## Any Questions?\n",
    "---\n",
    "###### for any questions contact <jimmy@coolkidscodingschool.com>"
   ]
  }
 ],
 "metadata": {
  "kernelspec": {
   "display_name": "Python 3",
   "language": "python",
   "name": "python3"
  },
  "language_info": {
   "codemirror_mode": {
    "name": "ipython",
    "version": 3
   },
   "file_extension": ".py",
   "mimetype": "text/x-python",
   "name": "python",
   "nbconvert_exporter": "python",
   "pygments_lexer": "ipython3",
   "version": "3.6.4"
  }
 },
 "nbformat": 4,
 "nbformat_minor": 2
}
