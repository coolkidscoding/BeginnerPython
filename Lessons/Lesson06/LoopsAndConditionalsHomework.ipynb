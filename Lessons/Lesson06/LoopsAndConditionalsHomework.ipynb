{
 "cells": [
  {
   "cell_type": "markdown",
   "metadata": {},
   "source": [
    "## [Cool Kids Coding School](http://www.coolkidscodingschool.com)  \n",
    "\n",
    "##### _Introductory Python_  \n",
    "###### Lesson 6: Loops and Conditionals  Homework\n",
    "\n",
    "\n",
    "---"
   ]
  },
  {
   "cell_type": "markdown",
   "metadata": {},
   "source": [
    "### Exercise 1:\n",
    "**while** loops"
   ]
  },
  {
   "cell_type": "code",
   "execution_count": null,
   "metadata": {},
   "outputs": [],
   "source": [
    "# Create a while loop that adds 15 integer elements to an empty list\n"
   ]
  },
  {
   "cell_type": "code",
   "execution_count": null,
   "metadata": {},
   "outputs": [],
   "source": [
    "# Create a while loop that loop over the elements of the below list until the value is 99\n",
    "list_variable = [1,4,3,27,36,22,97,34,12,99,101,12,65]\n"
   ]
  },
  {
   "cell_type": "code",
   "execution_count": null,
   "metadata": {},
   "outputs": [],
   "source": [
    "# Create a while loop that loops over the below list and adds all the values together\n",
    "list_variable = [4,6,2,6,8,10,16]\n"
   ]
  },
  {
   "cell_type": "code",
   "execution_count": null,
   "metadata": {},
   "outputs": [],
   "source": [
    "# Create a while loop that loops over the elements of the dictionary and doubles the values\n",
    "dict_variable = {'a':10, 'b':23, 'c':36, 'd':9, 'e':42}\n",
    "\n",
    "## This question is very hard for this level - ignore"
   ]
  },
  {
   "cell_type": "markdown",
   "metadata": {},
   "source": [
    "### Exercise 2:\n",
    "\n",
    "**for** loops"
   ]
  },
  {
   "cell_type": "code",
   "execution_count": null,
   "metadata": {},
   "outputs": [],
   "source": [
    "# Using the list below create a for loop that adds all the values together\n",
    "list_variable = [1,3,7,2,8,4,0]\n"
   ]
  },
  {
   "cell_type": "code",
   "execution_count": null,
   "metadata": {},
   "outputs": [],
   "source": [
    "# Using the dictionary below print out all the keys in a for loop\n",
    "dict_variable = {'a':1, 'b':2, 'c':3, 'd':4, 'e':5}\n"
   ]
  },
  {
   "cell_type": "code",
   "execution_count": null,
   "metadata": {},
   "outputs": [],
   "source": [
    "# Using the dictionary below print out all the values in a for loop\n",
    "dict_variable = {'a':1, 'b':2, 'c':3, 'd':4, 'e':5}\n"
   ]
  },
  {
   "cell_type": "code",
   "execution_count": null,
   "metadata": {},
   "outputs": [],
   "source": [
    "# Using the dictionary below print out all the items in a for loop\n",
    "dict_variable = {'a':1, 'b':2, 'c':3, 'd':4, 'e':5}\n"
   ]
  },
  {
   "cell_type": "code",
   "execution_count": null,
   "metadata": {},
   "outputs": [],
   "source": [
    "# Using the dictionary below print out all the keys and values in a for loop\n",
    "dict_variable = {'a':1, 'b':2, 'c':3, 'd':4, 'e':5}\n"
   ]
  },
  {
   "cell_type": "markdown",
   "metadata": {},
   "source": [
    "### Exercise 3:\n",
    "\n",
    "**if** statements"
   ]
  },
  {
   "cell_type": "code",
   "execution_count": null,
   "metadata": {},
   "outputs": [],
   "source": [
    "# Using the list below create two other lists, in one list put all the values that are below 50\n",
    "# in the other list put all values greater than or equal to 50\n",
    "list_variable = [69, 42, 74, 93, 32, 67, 43, 1, 89, 74, 53, 65, 97, 59, 60, 86, 28, 60, 58, 10]\n"
   ]
  },
  {
   "cell_type": "code",
   "execution_count": null,
   "metadata": {},
   "outputs": [],
   "source": [
    "# Using the list below create two other lists, one that is even and one that is odd\n",
    "list_variable = [69, 42, 74, 93, 32, 67, 43, 1, 89, 74, 53, 65, 97, 59, 60, 86, 28, 60, 58, 10]\n"
   ]
  },
  {
   "cell_type": "code",
   "execution_count": null,
   "metadata": {},
   "outputs": [],
   "source": [
    "# Using the list below create three lists, one that is from 0 - 29, 30 - 59, 60 - 99\n",
    "list_variable = [69, 42, 74, 93, 32, 67, 43, 1, 89, 74, 53, 65, 97, 59, 60, 86, 28, 60, 58, 10]\n"
   ]
  },
  {
   "cell_type": "markdown",
   "metadata": {},
   "source": [
    "## Any Questions?\n",
    "---\n",
    "###### for any questions contact <jimmy@coolkidscodingschool.com>"
   ]
  }
 ],
 "metadata": {
  "kernelspec": {
   "display_name": "Python [conda env:PDSH]",
   "language": "python",
   "name": "conda-env-PDSH-py"
  },
  "language_info": {
   "codemirror_mode": {
    "name": "ipython",
    "version": 3
   },
   "file_extension": ".py",
   "mimetype": "text/x-python",
   "name": "python",
   "nbconvert_exporter": "python",
   "pygments_lexer": "ipython3",
   "version": "3.5.4"
  }
 },
 "nbformat": 4,
 "nbformat_minor": 2
}
