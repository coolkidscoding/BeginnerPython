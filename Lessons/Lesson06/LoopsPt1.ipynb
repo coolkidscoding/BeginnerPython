{
 "cells": [
  {
   "cell_type": "markdown",
   "metadata": {},
   "source": [
    "![](images/ckcslogo.png)\n",
    "---\n",
    "## [Cool Kids Coding School](http://www.coolkidscodingschool.com)  \n",
    "\n",
    "##### _Introductory Python_  \n",
    "###### Lesson 6: Loops (Part 1)\n",
    "---"
   ]
  },
  {
   "cell_type": "markdown",
   "metadata": {},
   "source": [
    "### Overview\n",
    "- Welcome!\n",
    "- Go over syllabus objectives for today\n",
    "- Key points from last lesson\n",
    "- Why do we need to loops?\n",
    "- What are conditional statements and flow of control used for?\n",
    "- Review homework"
   ]
  },
  {
   "cell_type": "markdown",
   "metadata": {},
   "source": [
    "### Key points from last lesson\n",
    "+ We reviewed four different data structures last lesson\n",
    "    + list\n",
    "    + dictionary\n",
    "    + tuple\n",
    "    + set\n",
    "+ We discussed how to create data structures\n",
    "+ We discussed how to add elements to data structures\n",
    "+ We discussed how to access elements in data structures\n",
    "+ We discussed how to search through elements in data structures"
   ]
  },
  {
   "cell_type": "markdown",
   "metadata": {},
   "source": [
    "### Why do we need loops?\n",
    "Computers are great at managing large amounts of data.  They are also great at doing the same thing over and over again - without getting bored.  \n",
    "If we have a million exams to correct, a computer can do it very quickly and without errors.  To be able to process a large amount of data we have to setup a program that will \"loop\" over a large amount of records.  In Python we call this **looping**, because we loop over each piece of data and do something to it.  In other words we process it."
   ]
  },
  {
   "cell_type": "markdown",
   "metadata": {},
   "source": [
    "### Different types of loops\n",
    "\n",
    "In Python there are two types of loops.  There is the **_while_** loop and the **_for_** loop.  In this lesson we are going to learn about the **_while_** loop.  We will discuss the **_for_** loop next week.\n",
    "\n",
    "Each loop requires a way to specify for how long the loop should continue.  In programming, another word for looping is called \"iterating\" because we iterate over some sequence.\n",
    "\n",
    "We will learn about the details of these below.\n",
    "\n",
    "#### _while_ loop\n",
    "\n",
    "A **while** loop defines a condition as part of its syntax.  As long as this condition is True then the loop will ocntinue.  Once the conditional that defines this loop become False then the loop will stop.  "
   ]
  },
  {
   "cell_type": "code",
   "execution_count": 2,
   "metadata": {
    "scrolled": true
   },
   "outputs": [
    {
     "name": "stdout",
     "output_type": "stream",
     "text": [
      "['hello', 'hello', 'hello', 'hello', 'hello', 'hello', 'hello', 'hello', 'hello', 'hello']\n"
     ]
    }
   ],
   "source": [
    "# a while loop requires a variable that it \n",
    "# checks against to be True in order for the\n",
    "# loop to continue\n",
    "list_variable = []\n",
    "list_variable_length = len(list_variable)\n",
    "\n",
    "while list_variable_length < 10:\n",
    "    list_variable.append('hello')\n",
    "    list_variable_length = len(list_variable)\n",
    "    \n",
    "print(list_variable)"
   ]
  },
  {
   "cell_type": "markdown",
   "metadata": {},
   "source": [
    "**SIDE NOTE**: A very important thing to notice in the code above is the indentation.  We have not seen that before.  With the introduction of the loops we know have the ability to do code that is in the loop and code that is out of the loop.  This in general is what is called a **code block**.  In Python, code blocks are identified by indentations.  All the code at the same level of indentation is considered to be in the same code block. "
   ]
  },
  {
   "cell_type": "markdown",
   "metadata": {},
   "source": [
    "```python\n",
    "code block 1\n",
    "code block 1\n",
    "    code block 2\n",
    "    code block 2\n",
    "        code block 3\n",
    "    code block 2\n",
    "code block 1\n",
    "```\n",
    "In the above example I have marked the different code blocks that are created.  Code blocks can be inside other code blocks.  Code blocks are defined by various Python language statements.  In this case loops are defining code blocks.  Below we will see how conditional statements define code blocks."
   ]
  },
  {
   "cell_type": "markdown",
   "metadata": {},
   "source": [
    "In the previous example we added elements to a list, here we modify elements in a list.  This is an example of processing data."
   ]
  },
  {
   "cell_type": "code",
   "execution_count": 3,
   "metadata": {
    "scrolled": true
   },
   "outputs": [
    {
     "name": "stdout",
     "output_type": "stream",
     "text": [
      "var1 is  0\n",
      "var1 is  1\n",
      "var1 is  2\n",
      "var1 is  3\n",
      "var1 is  4\n",
      "var1 is  5\n",
      "var1 is  6\n",
      "var1 is  7\n",
      "var1 is  8\n",
      "var1 is  9\n",
      "var1 is  10\n",
      "11\n"
     ]
    }
   ],
   "source": [
    "# set the starting point\n",
    "var1 = 0\n",
    "\n",
    "# while the value in the var1 variable is less than 10\n",
    "while var1 <= 10:\n",
    "    print('var1 is ', var1)\n",
    "    \n",
    "    # increment the variable by 1\n",
    "    var1 = var1 + 1\n",
    "    \n",
    "print(var1)"
   ]
  },
  {
   "cell_type": "code",
   "execution_count": 4,
   "metadata": {
    "scrolled": true
   },
   "outputs": [
    {
     "name": "stdout",
     "output_type": "stream",
     "text": [
      "var1 is,  10\n",
      "var1 is,  9\n",
      "var1 is,  8\n",
      "var1 is,  7\n",
      "var1 is,  6\n",
      "var1 is,  5\n",
      "var1 is,  4\n",
      "var1 is,  3\n",
      "var1 is,  2\n",
      "var1 is,  1\n",
      "var1 is,  0\n",
      "var1 final value is -1\n"
     ]
    }
   ],
   "source": [
    "# here is an example where we count down\n",
    "\n",
    "# set the starting point\n",
    "var1 = 10\n",
    "\n",
    "# while the value in variable 1 is greater than or equal to 0\n",
    "while var1 >= 0:\n",
    "    print('var1 is, ', var1)\n",
    "    \n",
    "    # decrement the variable\n",
    "    var1 = var1 - 1\n",
    "    \n",
    "print('var1 final value is', var1)"
   ]
  },
  {
   "cell_type": "markdown",
   "metadata": {},
   "source": [
    "In any programming language, if the conditional portion of the loop does not become False then the loop will go on forever, this is called an infinite loop.  The loop will continue until you run out of memory - a long time.  To stop an infinite loop - enter command mode (press ESC) then press I twice."
   ]
  },
  {
   "cell_type": "markdown",
   "metadata": {},
   "source": [
    "Similarly, if the conditional in the while loop never becomes True, then we will never enter the loop at all."
   ]
  },
  {
   "cell_type": "markdown",
   "metadata": {},
   "source": [
    "Thats all there is to a **while** loop.  Any questions?"
   ]
  },
  {
   "cell_type": "markdown",
   "metadata": {},
   "source": [
    "## Any Questions?\n",
    "---\n",
    "###### for any questions contact <hw_help@coolkidscodingschool.com>"
   ]
  }
 ],
 "metadata": {
  "kernelspec": {
   "display_name": "Python 3",
   "language": "python",
   "name": "python3"
  },
  "language_info": {
   "codemirror_mode": {
    "name": "ipython",
    "version": 3
   },
   "file_extension": ".py",
   "mimetype": "text/x-python",
   "name": "python",
   "nbconvert_exporter": "python",
   "pygments_lexer": "ipython3",
   "version": "3.6.5"
  }
 },
 "nbformat": 4,
 "nbformat_minor": 2
}
