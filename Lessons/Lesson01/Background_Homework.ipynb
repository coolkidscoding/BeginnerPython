{
 "cells": [
  {
   "cell_type": "markdown",
   "metadata": {},
   "source": [
    "<div>\n",
    "\n",
    "<p>\n",
    "<img align=left src=\"images/ckcslogo.png\">\n",
    "</p>\n",
    "\n",
    "---\n",
    "\n",
    "<p>\n",
    "<H1 align=left><a href=\"http://www.coolkidscodingschool.com\">Cool Kids Coding School</a></H1>\n",
    "<H2 align=left>Course: <strong>Introductory Python</strong></H1>\n",
    "<H3 align=left>Lesson 1: <strong>Background and Development Environment (Homework Assignment)</strong></H3>\n",
    "</p>\n",
    "\n",
    "</div>\n",
    "\n",
    "---\n"
   ]
  },
  {
   "cell_type": "markdown",
   "metadata": {},
   "source": [
    "*** Remember: you can only learn how to program by doing. ***\n",
    "\n",
    "---"
   ]
  },
  {
   "cell_type": "markdown",
   "metadata": {},
   "source": [
    "#### Exercise #1 ####\n",
    "In your Jupyter Notebook under Help there is a menu item called **User Interface Tour** take that tour now.  Don't rush through it.\n",
    "\n",
    "---"
   ]
  },
  {
   "cell_type": "markdown",
   "metadata": {},
   "source": [
    "#### Exercise #2 ####\n",
    "Add a markdown cell below this one and your name, your school, and your birthdate.  Once done - execute the cell.\n",
    "\n",
    "---"
   ]
  },
  {
   "cell_type": "markdown",
   "metadata": {},
   "source": [
    "#### Exercise #3 ####\n",
    "Add a code cell below and print out all the builtin help documentation of the ***print*** function.\n",
    "\n",
    "---"
   ]
  },
  {
   "cell_type": "markdown",
   "metadata": {},
   "source": [
    "#### Exercise #4 ####\n",
    "Add a code cell below this one and use python as a calculator by answering the following questions:\n",
    "+ what is the result of 10/3?\n",
    "+ what is the remainder of 10024 % 23?\n",
    "+ what is the result of 345.6 / 123 - 12 + 37.5 ** 2?\n",
    "+ what is 1 + 2 + 3 + 4 + 5 + 6 + 7 + 8 + 9 + 10?\n",
    "\n",
    "---"
   ]
  },
  {
   "cell_type": "markdown",
   "metadata": {},
   "source": [
    "## Any Questions?\n",
    "---\n",
    "###### for any questions contact <hw_help@coolkidscodingschool.com>"
   ]
  }
 ],
 "metadata": {
  "kernelspec": {
   "display_name": "Python 3",
   "language": "python",
   "name": "python3"
  },
  "language_info": {
   "codemirror_mode": {
    "name": "ipython",
    "version": 3
   },
   "file_extension": ".py",
   "mimetype": "text/x-python",
   "name": "python",
   "nbconvert_exporter": "python",
   "pygments_lexer": "ipython3",
   "version": "3.6.4"
  }
 },
 "nbformat": 4,
 "nbformat_minor": 2
}