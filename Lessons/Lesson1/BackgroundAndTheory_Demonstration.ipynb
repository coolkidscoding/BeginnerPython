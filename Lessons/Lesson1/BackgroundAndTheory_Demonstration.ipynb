{
 "cells": [
  {
   "cell_type": "markdown",
   "metadata": {},
   "source": [
    "# [Cool Kids Coding School](http://www.coolkidscodingschool.com) \n",
    "## Course: _Introductory Python_\n",
    "### Lesson 1: _Background and Theory - Demonstration_"
   ]
  },
  {
   "cell_type": "markdown",
   "metadata": {},
   "source": [
    "This is a ***Jupyter Notebook*** we will be using this throughout the course.  It is a tool used by professional data scientists and software developers around the world.  If you told somebody that knows anything about programming that you were familiar and using the Jupyter Notebook, they would be very impressed.\n",
    "\n",
    "The great thing about a Jupyter Notebook is that everything you do in it, is part of a cell.  This rectacle that I have wrote in is a cell.  In the notebook you have two kinds of cells, code, and text (aka markdown).  Homework will be done in a notebook.  You will download the homework template each week.  In it there will be cells that have instructions and cells where you are supposed to write code.  Once you are done with your homework you will make a copy of the notebook on your laptop (or chromebook) and then you will email this copy to me.\n",
    "\n",
    "Let's get familiar with the Jupyter Notebook...."
   ]
  },
  {
   "cell_type": "markdown",
   "metadata": {},
   "source": [
    "This is a Markdown cell.  You can see it from the menu above."
   ]
  },
  {
   "cell_type": "code",
   "execution_count": null,
   "metadata": {},
   "outputs": [],
   "source": [
    "a = 100"
   ]
  },
  {
   "cell_type": "markdown",
   "metadata": {},
   "source": [
    "The cell above is a code cell"
   ]
  },
  {
   "cell_type": "markdown",
   "metadata": {},
   "source": [
    "You can type code in a cell but the computer will not evaluate it (or run it) unless you tell it to.  To do that you have to press [Shift] - [Enter], hold down the shift key and press enter."
   ]
  },
  {
   "cell_type": "markdown",
   "metadata": {},
   "source": [
    "You can use the menu items above to remove and add new cells.  It's very self explanatory.  You cant break anything by selecting items from the menu so I encourage you to experiment a bit when you get home."
   ]
  },
  {
   "cell_type": "markdown",
   "metadata": {},
   "source": [
    "Another thing to notice is the labels on the left of the code cells, these indicate when the cell was evaluated.  A higher index means it was evaluated later.  The cell below has an index that is after the index above."
   ]
  },
  {
   "cell_type": "code",
   "execution_count": null,
   "metadata": {},
   "outputs": [],
   "source": [
    "b = 201"
   ]
  },
  {
   "cell_type": "code",
   "execution_count": null,
   "metadata": {},
   "outputs": [],
   "source": [
    "print('Hello')"
   ]
  },
  {
   "cell_type": "markdown",
   "metadata": {},
   "source": [
    "When you have a cell that outputs something, then you can see that right after the cell is evaluated."
   ]
  },
  {
   "cell_type": "raw",
   "metadata": {},
   "source": [
    "Every cell that evaluates a statement is aware of the statements that came before it.  In the next cell if I write a statement that prints out the value of b then there is no issue because b was defined in previous cells."
   ]
  },
  {
   "cell_type": "code",
   "execution_count": null,
   "metadata": {},
   "outputs": [],
   "source": [
    "print(b)"
   ]
  },
  {
   "cell_type": "markdown",
   "metadata": {},
   "source": [
    "But if I print out a variable c before itis defined, the notebook will complain that it does not know what c is."
   ]
  },
  {
   "cell_type": "code",
   "execution_count": null,
   "metadata": {},
   "outputs": [],
   "source": [
    "print(c)"
   ]
  },
  {
   "cell_type": "markdown",
   "metadata": {},
   "source": [
    "Once I define it everything is fine"
   ]
  },
  {
   "cell_type": "code",
   "execution_count": null,
   "metadata": {},
   "outputs": [],
   "source": [
    "c = 300"
   ]
  },
  {
   "cell_type": "code",
   "execution_count": null,
   "metadata": {},
   "outputs": [],
   "source": [
    "print(c)"
   ]
  },
  {
   "cell_type": "markdown",
   "metadata": {},
   "source": [
    "The Jupyter notebook is able to do more than just print out variables.  It's pretty much able to do anything you need.  For instance graphics are no problem."
   ]
  },
  {
   "cell_type": "code",
   "execution_count": null,
   "metadata": {},
   "outputs": [],
   "source": [
    "%matplotlib inline\n",
    "import numpy as np\n",
    "import matplotlib.pyplot as plt\n",
    "\n",
    "plt.grid(True)\n",
    "plt.axis('on')\n",
    "\n",
    "plt.axis([-10,10,10,-10])\n",
    "\n",
    "#-----------------custom grid\n",
    "x1=-10\n",
    "x2=10\n",
    "y1=10\n",
    "y2=-10\n",
    "\n",
    "dx=.5\n",
    "dy=-.5\n",
    "for x in np.arange(x1,x2,dx):\n",
    "    for y in np.arange(y1,y2,dy):\n",
    "        plt.scatter(x,y,s=1,color='lightgrey')\n",
    "\n",
    "#-----------------square box\n",
    "plt.plot([-5,5],[-5,-5],linewidth=2,color='k')\n",
    "plt.plot([5,5],[-5,5],linewidth=2,color='k')\n",
    "plt.plot([5,-5],[5,5],linewidth=2,color='k')\n",
    "plt.plot([-5,-5],[5,-5],linewidth=2,color='k')\n",
    "\n",
    "plt.show()\n"
   ]
  },
  {
   "cell_type": "code",
   "execution_count": null,
   "metadata": {},
   "outputs": [],
   "source": [
    "help(int)\n"
   ]
  },
  {
   "cell_type": "code",
   "execution_count": null,
   "metadata": {},
   "outputs": [],
   "source": [
    "help(print)"
   ]
  },
  {
   "cell_type": "markdown",
   "metadata": {},
   "source": [
    "#### Output is asynchronous\n",
    "All output is displayed asynchronously as it is generated in the Kernel. If you execute the next cell, you will see the output one piece at a time, not all at the end."
   ]
  },
  {
   "cell_type": "code",
   "execution_count": null,
   "metadata": {},
   "outputs": [],
   "source": [
    "import time, sys\n",
    "for i in range(8):\n",
    "    print(i)\n",
    "    time.sleep(0.5)"
   ]
  },
  {
   "cell_type": "code",
   "execution_count": null,
   "metadata": {},
   "outputs": [],
   "source": [
    "for i in range(50):\n",
    "    print(i)"
   ]
  },
  {
   "cell_type": "code",
   "execution_count": null,
   "metadata": {},
   "outputs": [],
   "source": [
    "for i in range(500):\n",
    "    print(2**i - 1)"
   ]
  },
  {
   "cell_type": "code",
   "execution_count": null,
   "metadata": {},
   "outputs": [],
   "source": []
  }
 ],
 "metadata": {
  "kernelspec": {
   "display_name": "Python [conda env:PDSH]",
   "language": "python",
   "name": "conda-env-PDSH-py"
  },
  "language_info": {
   "codemirror_mode": {
    "name": "ipython",
    "version": 3
   },
   "file_extension": ".py",
   "mimetype": "text/x-python",
   "name": "python",
   "nbconvert_exporter": "python",
   "pygments_lexer": "ipython3",
   "version": "3.5.4"
  }
 },
 "nbformat": 4,
 "nbformat_minor": 2
}
