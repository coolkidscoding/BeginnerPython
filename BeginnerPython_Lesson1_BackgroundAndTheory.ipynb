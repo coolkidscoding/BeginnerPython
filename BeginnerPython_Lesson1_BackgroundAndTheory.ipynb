{
 "cells": [
  {
   "cell_type": "markdown",
   "metadata": {},
   "source": [
    "## Beginner Python\n",
    "### Lesson 1: Background and Theory\n",
    "---\n"
   ]
  },
  {
   "cell_type": "markdown",
   "metadata": {},
   "source": [
    "**A little history about the computer**\n",
    "\n",
    "**What are programs and programming languages?**\n",
    "\n",
    "In it's simplest form a computer program is a set of instructions that describes a task to a computer.\n",
    "_Computers only speak one language, binary.  Binary code is a collection of 1's and 0's that the electronics that make up a computer understands._\n",
    "\n",
    "-- insert graphic showing coding flow\n",
    "   \n",
    "-- insert snips of code from different languages\n",
    "\n",
    "**What is binary?**\n",
    "\n",
    "**What are some of the things that a computer program can do?**\n",
    "\n",
    "**How big and complicated do programs get?**\n",
    "\n",
    "**How does a computer use a program?**\n",
    "\n",
    "-- show a program and walk thru it\n",
    "\n",
    "**What are the main parts of a computer?**\n",
    "+ input\n",
    "+ output\n",
    "+ storage\n",
    "+ memory\n",
    "+ cpu\n",
    "\n",
    "**What are we going to learn in this course?**\n",
    "\n",
    "**How is knowing this going to help me?**\n",
    "\n",
    "Talk about how the world is changing\n",
    "\n",
    "**How is this course going to be structured?**\n",
    "\n",
    "Instruction\n",
    "In class exercises\n",
    "Homework\n",
    "Review\n",
    "Final class project\n",
    "\n",
    "Discuss how to get help\n",
    "\n",
    "Ask questions if you don't understand\n",
    "Built in help system\n",
    "Email instructor\n",
    "Ask after class\n",
    "\n",
    "**In Class: Demonstrate tools and programs\n",
    "\n",
    "+ Login in to JupyterHub, open a notebook\n",
    "+ Demo Interactive programs\n",
    "+ Demo Calculations\n",
    "+ Demo Graphing\n"
   ]
  },
  {
   "cell_type": "markdown",
   "metadata": {},
   "source": []
  }
 ],
 "metadata": {
  "kernelspec": {
   "display_name": "Python 3",
   "language": "python",
   "name": "python3"
  },
  "language_info": {
   "codemirror_mode": {
    "name": "ipython",
    "version": 3
   },
   "file_extension": ".py",
   "mimetype": "text/x-python",
   "name": "python",
   "nbconvert_exporter": "python",
   "pygments_lexer": "ipython3",
   "version": "3.6.4"
  }
 },
 "nbformat": 4,
 "nbformat_minor": 2
}
